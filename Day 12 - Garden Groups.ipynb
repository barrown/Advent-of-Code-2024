{
 "cells": [
  {
   "cell_type": "raw",
   "id": "3eb9cdfa-39e9-4405-b6bc-2c07243a1df0",
   "metadata": {},
   "source": [
    "I learnt to use a set() to remember what coordinates we've already seen when making a pass over a grid."
   ]
  },
  {
   "cell_type": "code",
   "execution_count": 19,
   "id": "cbe2edc4-a54e-4790-b891-fceb85df2ab0",
   "metadata": {},
   "outputs": [],
   "source": [
    "with open(\"day_12_input_1.txt\") as fname:\n",
    "    gardenmap = fname.readlines()\n",
    "\n",
    "dictionary = {}\n",
    "\n",
    "for y, line in enumerate(gardenmap):\n",
    "    for x, plant in enumerate(line.strip()):\n",
    "        dictionary[(x,y)] = plant\n",
    "\n",
    "maxcolumns = len(line)\n",
    "maxrows = len(gardenmap)"
   ]
  },
  {
   "cell_type": "code",
   "execution_count": 3,
   "id": "4981cf69-dca8-4db4-aae5-149de7448bbc",
   "metadata": {},
   "outputs": [
    {
     "name": "stdout",
     "output_type": "stream",
     "text": [
      "RRRRIICCFF\n",
      "RRRRIICCCF\n",
      "VVRRRCCFFF\n",
      "VVRCCCJFFF\n",
      "VVVVCJJCFE\n",
      "VVIVCCJJEE\n",
      "VVIIICJJEE\n",
      "MIIIIIJJEE\n",
      "MIIISIJEEE\n",
      "MMMISSJEEE\n"
     ]
    }
   ],
   "source": [
    "# look at the map - doesn't work with ints\n",
    "for y in range(maxrows):\n",
    "    string = ''\n",
    "    for x in range(maxcolumns):\n",
    "        string = string + str(dictionary[(x,y)])\n",
    "    print(string)"
   ]
  },
  {
   "cell_type": "code",
   "execution_count": 5,
   "id": "49a18b56-5ef6-42cd-b9c3-8a382bbf1b96",
   "metadata": {},
   "outputs": [],
   "source": [
    "def valid_location(x, y):\n",
    "    if x < 0 or y < 0 or x >= maxcolumns or y >= maxrows:\n",
    "        return False\n",
    "    else:\n",
    "        return True"
   ]
  },
  {
   "cell_type": "code",
   "execution_count": 21,
   "id": "f7494e26-7e10-445d-80b7-d3e79a511cf1",
   "metadata": {},
   "outputs": [],
   "source": [
    "regions = []\n",
    "seen = set()"
   ]
  },
  {
   "cell_type": "code",
   "execution_count": 23,
   "id": "4fa407f0-3d18-41ce-8b69-0c2bc78457af",
   "metadata": {},
   "outputs": [],
   "source": [
    "def scan_region(x, y):\n",
    "    plant = dictionary[(x,y)]\n",
    "    scan_list = [(x,y)]\n",
    "    region = set()\n",
    "\n",
    "    while scan_list:\n",
    "        coord = scan_list.pop(0)  # take the first element\n",
    "        if coord in seen: continue\n",
    "\n",
    "        seen.add(coord)\n",
    "        region.add(coord)\n",
    "\n",
    "        x,y = coord\n",
    "\n",
    "        if valid_location(x+1,y):\n",
    "            if dictionary[(x+1,y)] == plant:\n",
    "                scan_list.append((x+1,y))\n",
    "            \n",
    "        if valid_location(x-1,y):\n",
    "            if dictionary[(x-1,y)] == plant:\n",
    "                scan_list.append((x-1,y))\n",
    "            \n",
    "        if valid_location(x,y+1):\n",
    "            if dictionary[(x,y+1)] == plant:\n",
    "                scan_list.append((x,y+1))\n",
    "            \n",
    "        if valid_location(x,y-1):\n",
    "            if dictionary[(x,y-1)] == plant:\n",
    "                scan_list.append((x,y-1))\n",
    "    regions.append((plant, region))"
   ]
  },
  {
   "cell_type": "code",
   "execution_count": 25,
   "id": "cb0f1787-2044-4350-b7b4-e896d073a690",
   "metadata": {},
   "outputs": [],
   "source": [
    "for y in range(maxrows):\n",
    "    for x in range(maxcolumns):\n",
    "        if (x,y) not in seen:\n",
    "            scan_region(x,y)"
   ]
  },
  {
   "cell_type": "code",
   "execution_count": 13,
   "id": "15899c4f-34e2-4187-8020-29450d3e0eb5",
   "metadata": {},
   "outputs": [
    {
     "data": {
      "text/plain": [
       "[('R',\n",
       "  {(0, 0),\n",
       "   (0, 1),\n",
       "   (1, 0),\n",
       "   (1, 1),\n",
       "   (2, 0),\n",
       "   (2, 1),\n",
       "   (2, 2),\n",
       "   (2, 3),\n",
       "   (3, 0),\n",
       "   (3, 1),\n",
       "   (3, 2),\n",
       "   (4, 2)}),\n",
       " ('I', {(4, 0), (4, 1), (5, 0), (5, 1)}),\n",
       " ('C',\n",
       "  {(3, 3),\n",
       "   (4, 3),\n",
       "   (4, 4),\n",
       "   (4, 5),\n",
       "   (5, 2),\n",
       "   (5, 3),\n",
       "   (5, 5),\n",
       "   (5, 6),\n",
       "   (6, 0),\n",
       "   (6, 1),\n",
       "   (6, 2),\n",
       "   (7, 0),\n",
       "   (7, 1),\n",
       "   (8, 1)}),\n",
       " ('F',\n",
       "  {(7, 2),\n",
       "   (7, 3),\n",
       "   (8, 0),\n",
       "   (8, 2),\n",
       "   (8, 3),\n",
       "   (8, 4),\n",
       "   (9, 0),\n",
       "   (9, 1),\n",
       "   (9, 2),\n",
       "   (9, 3)}),\n",
       " ('V',\n",
       "  {(0, 2),\n",
       "   (0, 3),\n",
       "   (0, 4),\n",
       "   (0, 5),\n",
       "   (0, 6),\n",
       "   (1, 2),\n",
       "   (1, 3),\n",
       "   (1, 4),\n",
       "   (1, 5),\n",
       "   (1, 6),\n",
       "   (2, 4),\n",
       "   (3, 4),\n",
       "   (3, 5)}),\n",
       " ('J',\n",
       "  {(5, 4),\n",
       "   (6, 3),\n",
       "   (6, 4),\n",
       "   (6, 5),\n",
       "   (6, 6),\n",
       "   (6, 7),\n",
       "   (6, 8),\n",
       "   (6, 9),\n",
       "   (7, 5),\n",
       "   (7, 6),\n",
       "   (7, 7)}),\n",
       " ('C', {(7, 4)}),\n",
       " ('E',\n",
       "  {(7, 8),\n",
       "   (7, 9),\n",
       "   (8, 5),\n",
       "   (8, 6),\n",
       "   (8, 7),\n",
       "   (8, 8),\n",
       "   (8, 9),\n",
       "   (9, 4),\n",
       "   (9, 5),\n",
       "   (9, 6),\n",
       "   (9, 7),\n",
       "   (9, 8),\n",
       "   (9, 9)}),\n",
       " ('I',\n",
       "  {(1, 7),\n",
       "   (1, 8),\n",
       "   (2, 5),\n",
       "   (2, 6),\n",
       "   (2, 7),\n",
       "   (2, 8),\n",
       "   (3, 6),\n",
       "   (3, 7),\n",
       "   (3, 8),\n",
       "   (3, 9),\n",
       "   (4, 6),\n",
       "   (4, 7),\n",
       "   (5, 7),\n",
       "   (5, 8)}),\n",
       " ('M', {(0, 7), (0, 8), (0, 9), (1, 9), (2, 9)}),\n",
       " ('S', {(4, 8), (4, 9), (5, 9)})]"
      ]
     },
     "execution_count": 13,
     "metadata": {},
     "output_type": "execute_result"
    }
   ],
   "source": [
    "regions"
   ]
  },
  {
   "cell_type": "code",
   "execution_count": 27,
   "id": "3aa16b2a-61f7-40c1-b0a9-93544f24e44c",
   "metadata": {},
   "outputs": [],
   "source": [
    "def perimeter(region):\n",
    "\tn = 0\n",
    "\tfor x,y in region:\n",
    "\t\tfor nx,ny in [(x+1,y),(x-1,y),(x,y+1),(x,y-1)]:\n",
    "\t\t\tif (nx,ny) not in region:\n",
    "\t\t\t\tn += 1\n",
    "\treturn n\n",
    "\n",
    "def price(region):\n",
    "\treturn perimeter(region) * len(region)"
   ]
  },
  {
   "cell_type": "code",
   "execution_count": 29,
   "id": "a73e9fa0-af31-47e9-880c-0d4ec43563f6",
   "metadata": {},
   "outputs": [
    {
     "name": "stdout",
     "output_type": "stream",
     "text": [
      "1467094\n"
     ]
    }
   ],
   "source": [
    "print(sum(price(r) for c,r in regions))"
   ]
  },
  {
   "cell_type": "code",
   "execution_count": null,
   "id": "7febc090-7d1f-4c0e-8b3f-a526c247d82c",
   "metadata": {},
   "outputs": [],
   "source": []
  }
 ],
 "metadata": {
  "kernelspec": {
   "display_name": "Python 3 (ipykernel)",
   "language": "python",
   "name": "python3"
  },
  "language_info": {
   "codemirror_mode": {
    "name": "ipython",
    "version": 3
   },
   "file_extension": ".py",
   "mimetype": "text/x-python",
   "name": "python",
   "nbconvert_exporter": "python",
   "pygments_lexer": "ipython3",
   "version": "3.10.9"
  }
 },
 "nbformat": 4,
 "nbformat_minor": 5
}
