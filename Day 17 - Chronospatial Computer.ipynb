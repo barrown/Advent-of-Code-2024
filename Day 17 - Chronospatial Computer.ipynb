{
 "cells": [
  {
   "cell_type": "raw",
   "id": "b7d9ca51-f344-4d8e-997a-f85de5f61c31",
   "metadata": {},
   "source": [
    "Day 17 was cool to build a VM. I learned about bitwise operators... and that ^ isn't the same as **."
   ]
  },
  {
   "cell_type": "markdown",
   "id": "6d00c009-5d9b-4435-a57b-4aaec014e454",
   "metadata": {},
   "source": [
    "## Parse input"
   ]
  },
  {
   "cell_type": "code",
   "execution_count": 144,
   "id": "fa9ca82e-7317-430a-a901-f192441e326d",
   "metadata": {},
   "outputs": [],
   "source": [
    "with open(\"day_17_input_0.txt\") as fname:\n",
    "    programinformation = fname.readlines()"
   ]
  },
  {
   "cell_type": "code",
   "execution_count": 146,
   "id": "546968a7-6890-486b-b61b-48164f536b81",
   "metadata": {},
   "outputs": [
    {
     "name": "stdout",
     "output_type": "stream",
     "text": [
      "729 \n",
      " 0 \n",
      " 0 \n",
      "\n",
      " 0,1,5,4,3,0\n"
     ]
    }
   ],
   "source": [
    "A = int(programinformation[0].split()[2])\n",
    "B = int(programinformation[1].split()[2])\n",
    "C = int(programinformation[2].split()[2])\n",
    "program = programinformation[4].split()[1]\n",
    "print(A,\"\\n\",B,\"\\n\",C,\"\\n\\n\",program)\n",
    "\n",
    "program = program.replace(\",\",\"\")  # get it as a string of digits, e.g. '015430'\n",
    "output = \"\""
   ]
  },
  {
   "cell_type": "markdown",
   "id": "0bcce9a0-1aae-4b72-ac0e-bd882b20dafe",
   "metadata": {},
   "source": [
    "## work out combo operands"
   ]
  },
  {
   "cell_type": "code",
   "execution_count": 188,
   "id": "a8f9131b-9f78-4735-8d0b-6b8aaca82ee6",
   "metadata": {},
   "outputs": [],
   "source": [
    "def combo(operand):\n",
    "    if operand == 0:\n",
    "        return 0\n",
    "    elif operand == 1:\n",
    "        return 1\n",
    "    elif operand == 2:\n",
    "        return 2\n",
    "    elif operand == 3:\n",
    "        return 3\n",
    "    elif operand == 4:\n",
    "        return A\n",
    "    elif operand == 5:\n",
    "        return B\n",
    "    elif operand == 6:\n",
    "        return C\n",
    "    else:\n",
    "        raise Exception(\"invalid operand\")"
   ]
  },
  {
   "cell_type": "markdown",
   "id": "2ef5217b-be76-44c1-9548-f2804267b438",
   "metadata": {},
   "source": [
    "## Compute instructions"
   ]
  },
  {
   "cell_type": "code",
   "execution_count": 230,
   "id": "5b5543d8-9577-43a8-8dc4-6494646668ff",
   "metadata": {},
   "outputs": [],
   "source": [
    "def compute(opcode, operand):\n",
    "    global A, B, C, output\n",
    "    opcode = int(opcode)\n",
    "    operand = int(operand)\n",
    "    \n",
    "    if opcode == 0:\n",
    "        print(\"[0] A =\",A,\"  2**combo =\",2**combo(operand),\"  result is A =\",A // 2**combo(operand))\n",
    "        A = A // 2**combo(operand)\n",
    "        \n",
    "    elif opcode == 1:  \n",
    "        print(\"[1] B =\",B,\"  operand =\",operand,\"  result is B =\",B ^ operand)\n",
    "        B = B ^ operand  #  The Bitwise XOR (^) Operator returns true if and only if exactly one of the operands is true.\n",
    "        \n",
    "    elif opcode == 2:\n",
    "        print(\"[2] combo =\",combo(operand),\"  result is B =\",combo(operand) % 8)\n",
    "        B = combo(operand) % 8\n",
    "        \n",
    "    elif opcode == 3:\n",
    "        if A == 0:\n",
    "            print(\"[3] A = 0 so doing nothing\")\n",
    "            pass # do nothing\n",
    "        else:\n",
    "            print(\"[3] setting pointer to location\",operand)\n",
    "            return operand  # we want to set the instruction pointer to the value of its literal operand\n",
    "        \n",
    "    elif opcode == 4:\n",
    "        print(\"[4] B =\",B,\"^\",C,\"  result is B =\",B ^ C)\n",
    "        B = B ^ C\n",
    "            \n",
    "    elif opcode == 5:\n",
    "        print(\"[5] output, full combo =\",combo(operand),\"  outputting:\",combo(operand) % 8)\n",
    "        output += \",\" + str(combo(operand) % 8)\n",
    "        \n",
    "    elif opcode == 6:\n",
    "        print(\"[6] B =\",A,\"  2**combo =\",2^combo(operand),\"  result is B =\",A // 2**combo(operand))\n",
    "        B = A // 2**combo(operand) \n",
    "        \n",
    "    elif opcode == 7:\n",
    "        print(\"[7] C =\",A,\"  2**combo =\",2^combo(operand),\"  result is C =\",A // 2**combo(operand))\n",
    "        C = A // 2**combo(operand) \n",
    "        \n",
    "    else:\n",
    "        raise Exception(\"invalid opcode\")"
   ]
  },
  {
   "cell_type": "markdown",
   "id": "90a1eb77-f844-42d1-a789-47ebf82b6069",
   "metadata": {},
   "source": [
    "## function to run the program"
   ]
  },
  {
   "cell_type": "code",
   "execution_count": 193,
   "id": "462382ac-0a07-48f8-88f5-3f8a1443b537",
   "metadata": {},
   "outputs": [],
   "source": [
    "def run_program(program):\n",
    "    pointer = 0\n",
    "    while True:\n",
    "        print(pointer)\n",
    "        if pointer >= len(program):\n",
    "            break\n",
    "        opcode = program[pointer]\n",
    "        operand = program[pointer+1]\n",
    "        result = compute(opcode, operand)\n",
    "        if result is None:\n",
    "            pointer += 2\n",
    "        else:\n",
    "            pointer = result"
   ]
  },
  {
   "cell_type": "markdown",
   "id": "b4a96ed7-efa0-4596-bd36-d88e150a6fd5",
   "metadata": {},
   "source": [
    "## Test cases"
   ]
  },
  {
   "cell_type": "code",
   "execution_count": 196,
   "id": "d0178689-4084-4d37-a04a-081f539ec7ac",
   "metadata": {},
   "outputs": [
    {
     "name": "stdout",
     "output_type": "stream",
     "text": [
      "0\n",
      "[2] combo = 9   result = 1\n",
      "2\n"
     ]
    }
   ],
   "source": [
    "A = 0\n",
    "B = 0\n",
    "C = 9\n",
    "program = \"26\"\n",
    "run_program(program)\n",
    "assert B == 1"
   ]
  },
  {
   "cell_type": "code",
   "execution_count": 198,
   "id": "9e527f46-37b8-47cb-b172-c249633a0300",
   "metadata": {},
   "outputs": [
    {
     "name": "stdout",
     "output_type": "stream",
     "text": [
      "0\n",
      "[5] output, full combo = 0   result = 0\n",
      "2\n",
      "[5] output, full combo = 1   result = 1\n",
      "4\n",
      "[5] output, full combo = 10   result = 2\n",
      "6\n"
     ]
    }
   ],
   "source": [
    "output = \"\"\n",
    "A = 10\n",
    "B = 0\n",
    "C = 0\n",
    "program = \"505154\"\n",
    "run_program(program)\n",
    "assert output[1:] == '0,1,2'"
   ]
  },
  {
   "cell_type": "code",
   "execution_count": 200,
   "id": "9de333e9-c735-4f44-9130-462edd94a4c5",
   "metadata": {},
   "outputs": [
    {
     "name": "stdout",
     "output_type": "stream",
     "text": [
      "0\n",
      "[0] A = 2024   2**combo = 2   result = 1012\n",
      "2\n",
      "[5] output, full combo = 1012   result = 4\n",
      "4\n",
      "[3] Returning 0\n",
      "0\n",
      "[0] A = 1012   2**combo = 2   result = 506\n",
      "2\n",
      "[5] output, full combo = 506   result = 2\n",
      "4\n",
      "[3] Returning 0\n",
      "0\n",
      "[0] A = 506   2**combo = 2   result = 253\n",
      "2\n",
      "[5] output, full combo = 253   result = 5\n",
      "4\n",
      "[3] Returning 0\n",
      "0\n",
      "[0] A = 253   2**combo = 2   result = 126\n",
      "2\n",
      "[5] output, full combo = 126   result = 6\n",
      "4\n",
      "[3] Returning 0\n",
      "0\n",
      "[0] A = 126   2**combo = 2   result = 63\n",
      "2\n",
      "[5] output, full combo = 63   result = 7\n",
      "4\n",
      "[3] Returning 0\n",
      "0\n",
      "[0] A = 63   2**combo = 2   result = 31\n",
      "2\n",
      "[5] output, full combo = 31   result = 7\n",
      "4\n",
      "[3] Returning 0\n",
      "0\n",
      "[0] A = 31   2**combo = 2   result = 15\n",
      "2\n",
      "[5] output, full combo = 15   result = 7\n",
      "4\n",
      "[3] Returning 0\n",
      "0\n",
      "[0] A = 15   2**combo = 2   result = 7\n",
      "2\n",
      "[5] output, full combo = 7   result = 7\n",
      "4\n",
      "[3] Returning 0\n",
      "0\n",
      "[0] A = 7   2**combo = 2   result = 3\n",
      "2\n",
      "[5] output, full combo = 3   result = 3\n",
      "4\n",
      "[3] Returning 0\n",
      "0\n",
      "[0] A = 3   2**combo = 2   result = 1\n",
      "2\n",
      "[5] output, full combo = 1   result = 1\n",
      "4\n",
      "[3] Returning 0\n",
      "0\n",
      "[0] A = 1   2**combo = 2   result = 0\n",
      "2\n",
      "[5] output, full combo = 0   result = 0\n",
      "4\n",
      "[3] A = 0, doing nothing\n",
      "6\n"
     ]
    }
   ],
   "source": [
    "output = \"\"\n",
    "A = 2024\n",
    "B = 0\n",
    "C = 0\n",
    "program = \"015430\"\n",
    "run_program(program)\n",
    "assert A == 0\n",
    "assert output[1:] == '4,2,5,6,7,7,7,7,3,1,0'"
   ]
  },
  {
   "cell_type": "code",
   "execution_count": 202,
   "id": "eebe1789-4fa0-408d-b11f-5eb1d5818a00",
   "metadata": {},
   "outputs": [
    {
     "name": "stdout",
     "output_type": "stream",
     "text": [
      "0\n",
      "[1] B = 29   operand = 7   result = 26\n",
      "2\n"
     ]
    }
   ],
   "source": [
    "output = \"\"\n",
    "A = 0\n",
    "B = 29\n",
    "C = 0\n",
    "program = \"17\"\n",
    "run_program(program)\n",
    "assert B == 26"
   ]
  },
  {
   "cell_type": "code",
   "execution_count": 204,
   "id": "c2be6682-8e12-401e-955a-b542afec4b30",
   "metadata": {},
   "outputs": [
    {
     "name": "stdout",
     "output_type": "stream",
     "text": [
      "0\n",
      "[4] B = 2024 ^ 43690   result = 44354\n",
      "2\n"
     ]
    }
   ],
   "source": [
    "output = \"\"\n",
    "A = 0\n",
    "B = 2024\n",
    "C = 43690\n",
    "program = \"40\"\n",
    "run_program(program)\n",
    "assert B == 44354"
   ]
  },
  {
   "cell_type": "code",
   "execution_count": 206,
   "id": "d5f96812-ff1b-45d3-a533-05bc98ff6a19",
   "metadata": {},
   "outputs": [
    {
     "name": "stdout",
     "output_type": "stream",
     "text": [
      "0\n",
      "[0] A = 729   2**combo = 2   result = 364\n",
      "2\n",
      "[5] output, full combo = 364   result = 4\n",
      "4\n",
      "[3] Returning 0\n",
      "0\n",
      "[0] A = 364   2**combo = 2   result = 182\n",
      "2\n",
      "[5] output, full combo = 182   result = 6\n",
      "4\n",
      "[3] Returning 0\n",
      "0\n",
      "[0] A = 182   2**combo = 2   result = 91\n",
      "2\n",
      "[5] output, full combo = 91   result = 3\n",
      "4\n",
      "[3] Returning 0\n",
      "0\n",
      "[0] A = 91   2**combo = 2   result = 45\n",
      "2\n",
      "[5] output, full combo = 45   result = 5\n",
      "4\n",
      "[3] Returning 0\n",
      "0\n",
      "[0] A = 45   2**combo = 2   result = 22\n",
      "2\n",
      "[5] output, full combo = 22   result = 6\n",
      "4\n",
      "[3] Returning 0\n",
      "0\n",
      "[0] A = 22   2**combo = 2   result = 11\n",
      "2\n",
      "[5] output, full combo = 11   result = 3\n",
      "4\n",
      "[3] Returning 0\n",
      "0\n",
      "[0] A = 11   2**combo = 2   result = 5\n",
      "2\n",
      "[5] output, full combo = 5   result = 5\n",
      "4\n",
      "[3] Returning 0\n",
      "0\n",
      "[0] A = 5   2**combo = 2   result = 2\n",
      "2\n",
      "[5] output, full combo = 2   result = 2\n",
      "4\n",
      "[3] Returning 0\n",
      "0\n",
      "[0] A = 2   2**combo = 2   result = 1\n",
      "2\n",
      "[5] output, full combo = 1   result = 1\n",
      "4\n",
      "[3] Returning 0\n",
      "0\n",
      "[0] A = 1   2**combo = 2   result = 0\n",
      "2\n",
      "[5] output, full combo = 0   result = 0\n",
      "4\n",
      "[3] A = 0, doing nothing\n",
      "6\n"
     ]
    },
    {
     "data": {
      "text/plain": [
       "'4,6,3,5,6,3,5,2,1,0'"
      ]
     },
     "execution_count": 206,
     "metadata": {},
     "output_type": "execute_result"
    }
   ],
   "source": [
    "output = \"\"\n",
    "A = 729\n",
    "B = 0\n",
    "C = 0\n",
    "program = \"015430\"\n",
    "run_program(program)\n",
    "output[1:]"
   ]
  },
  {
   "cell_type": "markdown",
   "id": "c035a7f4-b988-4772-8f1c-fb08eeb840bc",
   "metadata": {},
   "source": [
    "## Part 1"
   ]
  },
  {
   "cell_type": "code",
   "execution_count": 232,
   "id": "6da361e4-efdf-4f7e-bb33-c5a8af3fb7b5",
   "metadata": {},
   "outputs": [
    {
     "name": "stdout",
     "output_type": "stream",
     "text": [
      "51064159 \n",
      " 0 \n",
      " 0 \n",
      "\n",
      " 2415751603465530 \n",
      "\n",
      "0\n",
      "[2] combo = 51064159   result is B = 7\n",
      "2\n",
      "[1] B = 7   operand = 5   result is B = 2\n",
      "4\n",
      "[7] C = 51064159   2**combo = 0   result is C = 12766039\n",
      "6\n",
      "[1] B = 2   operand = 6   result is B = 4\n",
      "8\n",
      "[0] A = 51064159   2**combo = 8   result is A = 6383019\n",
      "10\n",
      "[4] B = 4 ^ 12766039   result is B = 12766035\n",
      "12\n",
      "[5] output, full combo = 12766035   outputting: 3\n",
      "14\n",
      "[3] setting pointer to location 0\n",
      "0\n",
      "[2] combo = 6383019   result is B = 3\n",
      "2\n",
      "[1] B = 3   operand = 5   result is B = 6\n",
      "4\n",
      "[7] C = 6383019   2**combo = 4   result is C = 99734\n",
      "6\n",
      "[1] B = 6   operand = 6   result is B = 0\n",
      "8\n",
      "[0] A = 6383019   2**combo = 8   result is A = 797877\n",
      "10\n",
      "[4] B = 0 ^ 99734   result is B = 99734\n",
      "12\n",
      "[5] output, full combo = 99734   outputting: 6\n",
      "14\n",
      "[3] setting pointer to location 0\n",
      "0\n",
      "[2] combo = 797877   result is B = 5\n",
      "2\n",
      "[1] B = 5   operand = 5   result is B = 0\n",
      "4\n",
      "[7] C = 797877   2**combo = 2   result is C = 797877\n",
      "6\n",
      "[1] B = 0   operand = 6   result is B = 6\n",
      "8\n",
      "[0] A = 797877   2**combo = 8   result is A = 99734\n",
      "10\n",
      "[4] B = 6 ^ 797877   result is B = 797875\n",
      "12\n",
      "[5] output, full combo = 797875   outputting: 3\n",
      "14\n",
      "[3] setting pointer to location 0\n",
      "0\n",
      "[2] combo = 99734   result is B = 6\n",
      "2\n",
      "[1] B = 6   operand = 5   result is B = 3\n",
      "4\n",
      "[7] C = 99734   2**combo = 1   result is C = 12466\n",
      "6\n",
      "[1] B = 3   operand = 6   result is B = 5\n",
      "8\n",
      "[0] A = 99734   2**combo = 8   result is A = 12466\n",
      "10\n",
      "[4] B = 5 ^ 12466   result is B = 12471\n",
      "12\n",
      "[5] output, full combo = 12471   outputting: 7\n",
      "14\n",
      "[3] setting pointer to location 0\n",
      "0\n",
      "[2] combo = 12466   result is B = 2\n",
      "2\n",
      "[1] B = 2   operand = 5   result is B = 7\n",
      "4\n",
      "[7] C = 12466   2**combo = 5   result is C = 97\n",
      "6\n",
      "[1] B = 7   operand = 6   result is B = 1\n",
      "8\n",
      "[0] A = 12466   2**combo = 8   result is A = 1558\n",
      "10\n",
      "[4] B = 1 ^ 97   result is B = 96\n",
      "12\n",
      "[5] output, full combo = 96   outputting: 0\n",
      "14\n",
      "[3] setting pointer to location 0\n",
      "0\n",
      "[2] combo = 1558   result is B = 6\n",
      "2\n",
      "[1] B = 6   operand = 5   result is B = 3\n",
      "4\n",
      "[7] C = 1558   2**combo = 1   result is C = 194\n",
      "6\n",
      "[1] B = 3   operand = 6   result is B = 5\n",
      "8\n",
      "[0] A = 1558   2**combo = 8   result is A = 194\n",
      "10\n",
      "[4] B = 5 ^ 194   result is B = 199\n",
      "12\n",
      "[5] output, full combo = 199   outputting: 7\n",
      "14\n",
      "[3] setting pointer to location 0\n",
      "0\n",
      "[2] combo = 194   result is B = 2\n",
      "2\n",
      "[1] B = 2   operand = 5   result is B = 7\n",
      "4\n",
      "[7] C = 194   2**combo = 5   result is C = 1\n",
      "6\n",
      "[1] B = 7   operand = 6   result is B = 1\n",
      "8\n",
      "[0] A = 194   2**combo = 8   result is A = 24\n",
      "10\n",
      "[4] B = 1 ^ 1   result is B = 0\n",
      "12\n",
      "[5] output, full combo = 0   outputting: 0\n",
      "14\n",
      "[3] setting pointer to location 0\n",
      "0\n",
      "[2] combo = 24   result is B = 0\n",
      "2\n",
      "[1] B = 0   operand = 5   result is B = 5\n",
      "4\n",
      "[7] C = 24   2**combo = 7   result is C = 0\n",
      "6\n",
      "[1] B = 5   operand = 6   result is B = 3\n",
      "8\n",
      "[0] A = 24   2**combo = 8   result is A = 3\n",
      "10\n",
      "[4] B = 3 ^ 0   result is B = 3\n",
      "12\n",
      "[5] output, full combo = 3   outputting: 3\n",
      "14\n",
      "[3] setting pointer to location 0\n",
      "0\n",
      "[2] combo = 3   result is B = 3\n",
      "2\n",
      "[1] B = 3   operand = 5   result is B = 6\n",
      "4\n",
      "[7] C = 3   2**combo = 4   result is C = 0\n",
      "6\n",
      "[1] B = 6   operand = 6   result is B = 0\n",
      "8\n",
      "[0] A = 3   2**combo = 8   result is A = 0\n",
      "10\n",
      "[4] B = 0 ^ 0   result is B = 0\n",
      "12\n",
      "[5] output, full combo = 0   outputting: 0\n",
      "14\n",
      "[3] A = 0 so doing nothing\n",
      "16\n"
     ]
    },
    {
     "data": {
      "text/plain": [
       "'3,6,3,7,0,7,0,3,0'"
      ]
     },
     "execution_count": 232,
     "metadata": {},
     "output_type": "execute_result"
    }
   ],
   "source": [
    "with open(\"day_17_input_1.txt\") as fname:\n",
    "    programinformation = fname.readlines()\n",
    "\n",
    "A = int(programinformation[0].split()[2])\n",
    "B = int(programinformation[1].split()[2])\n",
    "C = int(programinformation[2].split()[2])\n",
    "program = programinformation[4].split()[1]\n",
    "\n",
    "program = program.replace(\",\",\"\")  # get it as a string of digits, e.g. '015430'\n",
    "print(A,\"\\n\",B,\"\\n\",C,\"\\n\\n\",program,\"\\n\")\n",
    "\n",
    "output = \"\"\n",
    "\n",
    "run_program(program)\n",
    "output[1:]  # = 3,6,3,7,0,7,0,3,0"
   ]
  },
  {
   "cell_type": "markdown",
   "id": "e127cb7c-3c4a-4602-8928-ae3ff29b0aec",
   "metadata": {},
   "source": [
    "## Part 2"
   ]
  },
  {
   "cell_type": "code",
   "execution_count": 234,
   "id": "842ed1d3-b86b-46ae-88ec-8e0c24c1d5f8",
   "metadata": {},
   "outputs": [
    {
     "name": "stdout",
     "output_type": "stream",
     "text": [
      "0\n",
      "[0] A = 117440   2**combo = 8   result is A = 14680\n",
      "2\n",
      "[5] output, full combo = 14680   outputting: 0\n",
      "4\n",
      "[3] setting pointer to location 0\n",
      "0\n",
      "[0] A = 14680   2**combo = 8   result is A = 1835\n",
      "2\n",
      "[5] output, full combo = 1835   outputting: 3\n",
      "4\n",
      "[3] setting pointer to location 0\n",
      "0\n",
      "[0] A = 1835   2**combo = 8   result is A = 229\n",
      "2\n",
      "[5] output, full combo = 229   outputting: 5\n",
      "4\n",
      "[3] setting pointer to location 0\n",
      "0\n",
      "[0] A = 229   2**combo = 8   result is A = 28\n",
      "2\n",
      "[5] output, full combo = 28   outputting: 4\n",
      "4\n",
      "[3] setting pointer to location 0\n",
      "0\n",
      "[0] A = 28   2**combo = 8   result is A = 3\n",
      "2\n",
      "[5] output, full combo = 3   outputting: 3\n",
      "4\n",
      "[3] setting pointer to location 0\n",
      "0\n",
      "[0] A = 3   2**combo = 8   result is A = 0\n",
      "2\n",
      "[5] output, full combo = 0   outputting: 0\n",
      "4\n",
      "[3] A = 0 so doing nothing\n",
      "6\n"
     ]
    },
    {
     "data": {
      "text/plain": [
       "'0,3,5,4,3,0'"
      ]
     },
     "execution_count": 234,
     "metadata": {},
     "output_type": "execute_result"
    }
   ],
   "source": [
    "output = \"\"\n",
    "A = 117440\n",
    "B = 0\n",
    "C = 0\n",
    "program = \"035430\"\n",
    "run_program(program)\n",
    "output[1:]"
   ]
  },
  {
   "cell_type": "raw",
   "id": "a4feb642-c68d-4d9d-9ccb-69816e17dfdc",
   "metadata": {},
   "source": [
    "24  B=A%8 =7\n",
    "15  B=B^5 =2\n",
    "75  C=A//2**B =12766039\n",
    "16  B=B^6 =4\n",
    "03  A=A//2**3 =6383019\n",
    "46  B=B^C =12766035\n",
    "55  output 5(B) 12766035%8 =3\n",
    "30  jmp 0\n",
    "\n",
    "0\n",
    "[2] combo = 51064159   result is B = 7\n",
    "2\n",
    "[1] B = 7   operand = 5   result is B = 2\n",
    "4\n",
    "[7] C = 51064159   2**combo = 0   result is C = 12766039\n",
    "6\n",
    "[1] B = 2   operand = 6   result is B = 4\n",
    "8\n",
    "[0] A = 51064159   2**combo = 8   result is A = 6383019\n",
    "10\n",
    "[4] B = 4 ^ 12766039   result is B = 12766035\n",
    "12\n",
    "[5] output, full combo = 12766035   outputting: 3\n",
    "14\n",
    "[3] setting pointer to location 0\n",
    "0\n"
   ]
  },
  {
   "cell_type": "markdown",
   "id": "d4692de6-96fc-462e-8a07-c4cbe3fbaa8a",
   "metadata": {},
   "source": [
    "## Someone else's solution"
   ]
  },
  {
   "cell_type": "code",
   "execution_count": 241,
   "id": "a4c6c018-9100-44ff-ac25-46d649e22d53",
   "metadata": {},
   "outputs": [
    {
     "name": "stdout",
     "output_type": "stream",
     "text": [
      "3,6,3,7,0,7,0,3,0\n",
      "136904920099226\n",
      "136904920885658\n",
      "136904921131418\n",
      "136904921147802\n",
      "136904921196954\n",
      "136904921295258\n"
     ]
    }
   ],
   "source": [
    "import re\n",
    "\n",
    "a, b, c, *prog = map(int, re.findall(r'\\d+', \n",
    "                     open('day_17_input_1.txt').read()))\n",
    "\n",
    "def run(a, b, c):\n",
    "    i, R = 0, []\n",
    "\n",
    "    while i in range(len(prog)):\n",
    "        C = {0:0,1:1,2:2,3:3,4:a,5:b,6:c}\n",
    "\n",
    "        match prog[i], prog[i+1]:\n",
    "            case 0, op: a = a >> C[op]\n",
    "            case 1, op: b = b ^ op\n",
    "            case 2, op: b = 7 & C[op]\n",
    "            case 3, op: i = op-2 if a else i\n",
    "            case 4, __: b = b ^ c\n",
    "            case 5, op: R = R + [C[op] & 7]\n",
    "            case 6, op: b = a >> C[op]\n",
    "            case 7, op: c = a >> C[op]\n",
    "        i += 2\n",
    "    return R\n",
    "\n",
    "print(*run(a, b, c), sep=',')\n",
    "\n",
    "\n",
    "todo = [(1, 0)]\n",
    "for i, a in todo:\n",
    "    for a in range(a, a+8):\n",
    "        if run(a, 0, 0) == prog[-i:]:\n",
    "            todo += [(i+1, a*8)]\n",
    "            if i == len(prog): print(a)"
   ]
  },
  {
   "cell_type": "code",
   "execution_count": null,
   "id": "c396d84d-1485-4838-b087-f42e7508c374",
   "metadata": {},
   "outputs": [],
   "source": []
  }
 ],
 "metadata": {
  "kernelspec": {
   "display_name": "Python 3 (ipykernel)",
   "language": "python",
   "name": "python3"
  },
  "language_info": {
   "codemirror_mode": {
    "name": "ipython",
    "version": 3
   },
   "file_extension": ".py",
   "mimetype": "text/x-python",
   "name": "python",
   "nbconvert_exporter": "python",
   "pygments_lexer": "ipython3",
   "version": "3.10.9"
  }
 },
 "nbformat": 4,
 "nbformat_minor": 5
}
