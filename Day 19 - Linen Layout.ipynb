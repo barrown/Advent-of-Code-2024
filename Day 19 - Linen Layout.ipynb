{
 "cells": [
  {
   "cell_type": "raw",
   "id": "5b7fbd8f-a482-476a-b3c2-1fa2b0aac417",
   "metadata": {},
   "source": [
    "Day 19 with the towels I hated, I didn't get the matching logic, and I didn't get the recursion, I didn't get the caching of answers. I did manage to spend a whole day on it and with help from other solutions eventually write my own code for both parts."
   ]
  },
  {
   "cell_type": "markdown",
   "id": "7e3f42f4-3cb9-4882-9a84-f6b14675a508",
   "metadata": {},
   "source": [
    "## Examples"
   ]
  },
  {
   "cell_type": "code",
   "execution_count": 1,
   "id": "f4861585-cfa1-4f3c-8737-383465103507",
   "metadata": {},
   "outputs": [],
   "source": [
    "list_of_patterns_available = \"r, wr, b, g, bwu, rb, gb, br\".replace(\" \",\"\").split(\",\")\n",
    "list_of_patterns_available.sort(reverse=True, key=len)"
   ]
  },
  {
   "cell_type": "code",
   "execution_count": 2,
   "id": "bd8d15ad-f41f-4c38-8b90-cbb9ce9a5e40",
   "metadata": {},
   "outputs": [],
   "source": [
    "required_designs = [\"brwrr\",\"bggr\",\"gbbr\",\"rrbgbr\",\"ubwu\",\"bwurrg\",\"brgr\",\"bbrgwb\"]"
   ]
  },
  {
   "cell_type": "code",
   "execution_count": 3,
   "id": "33acdec0-8b32-4e6e-856c-7beadc66dff3",
   "metadata": {},
   "outputs": [],
   "source": [
    "target = \"brwrr\""
   ]
  },
  {
   "cell_type": "code",
   "execution_count": 4,
   "id": "9eeb4eea-661b-45f4-967d-6c388335304f",
   "metadata": {},
   "outputs": [
    {
     "name": "stdout",
     "output_type": "stream",
     "text": [
      "False bwu\n",
      "False wr\n",
      "False rb\n",
      "False gb\n",
      "True br\n",
      "False r\n",
      "True b\n",
      "False g\n"
     ]
    }
   ],
   "source": [
    "for towel in list_of_patterns_available:\n",
    "    len(towel)\n",
    "    print(target.startswith(towel), towel)"
   ]
  },
  {
   "cell_type": "code",
   "execution_count": 5,
   "id": "3a1695d3-572a-485f-aaf6-7549a822cd84",
   "metadata": {},
   "outputs": [
    {
     "name": "stdout",
     "output_type": "stream",
     "text": [
      "False br wrr\n"
     ]
    }
   ],
   "source": [
    "for towel in list_of_patterns_available:\n",
    "    if target.startswith(towel):\n",
    "        target = target[len(towel):]\n",
    "        print(target.startswith(towel), towel, target)"
   ]
  },
  {
   "cell_type": "code",
   "execution_count": 6,
   "id": "1f8f364e-4aa0-454e-9900-d2e1bbc9a89c",
   "metadata": {},
   "outputs": [],
   "source": [
    "def possible(target):\n",
    "    print(\"\\nTarget:\",target)\n",
    "    if target == \"\":\n",
    "        print(\"WINNER!\")\n",
    "        return 1\n",
    "    for towel in list_of_patterns_available:\n",
    "        print(\"checking\",towel)\n",
    "        if target.startswith(towel):\n",
    "            print(\"got a match!\")\n",
    "            return possible(target[len(towel):])\n",
    "\n",
    "    # if we get here, there have been no matches\n",
    "    print(\"NO MATCH\")\n",
    "    return 0"
   ]
  },
  {
   "cell_type": "code",
   "execution_count": 7,
   "id": "4c2c61cf-f253-4a88-a33c-ffa8ffb83258",
   "metadata": {},
   "outputs": [
    {
     "name": "stdout",
     "output_type": "stream",
     "text": [
      "\n",
      " ######\n",
      "\n",
      "Target: brwrr\n",
      "checking bwu\n",
      "checking wr\n",
      "checking rb\n",
      "checking gb\n",
      "checking br\n",
      "got a match!\n",
      "\n",
      "Target: wrr\n",
      "checking bwu\n",
      "checking wr\n",
      "got a match!\n",
      "\n",
      "Target: r\n",
      "checking bwu\n",
      "checking wr\n",
      "checking rb\n",
      "checking gb\n",
      "checking br\n",
      "checking r\n",
      "got a match!\n",
      "\n",
      "Target: \n",
      "WINNER!\n",
      "\n",
      " ######\n",
      "\n",
      "Target: bggr\n",
      "checking bwu\n",
      "checking wr\n",
      "checking rb\n",
      "checking gb\n",
      "checking br\n",
      "checking r\n",
      "checking b\n",
      "got a match!\n",
      "\n",
      "Target: ggr\n",
      "checking bwu\n",
      "checking wr\n",
      "checking rb\n",
      "checking gb\n",
      "checking br\n",
      "checking r\n",
      "checking b\n",
      "checking g\n",
      "got a match!\n",
      "\n",
      "Target: gr\n",
      "checking bwu\n",
      "checking wr\n",
      "checking rb\n",
      "checking gb\n",
      "checking br\n",
      "checking r\n",
      "checking b\n",
      "checking g\n",
      "got a match!\n",
      "\n",
      "Target: r\n",
      "checking bwu\n",
      "checking wr\n",
      "checking rb\n",
      "checking gb\n",
      "checking br\n",
      "checking r\n",
      "got a match!\n",
      "\n",
      "Target: \n",
      "WINNER!\n",
      "\n",
      " ######\n",
      "\n",
      "Target: gbbr\n",
      "checking bwu\n",
      "checking wr\n",
      "checking rb\n",
      "checking gb\n",
      "got a match!\n",
      "\n",
      "Target: br\n",
      "checking bwu\n",
      "checking wr\n",
      "checking rb\n",
      "checking gb\n",
      "checking br\n",
      "got a match!\n",
      "\n",
      "Target: \n",
      "WINNER!\n",
      "\n",
      " ######\n",
      "\n",
      "Target: rrbgbr\n",
      "checking bwu\n",
      "checking wr\n",
      "checking rb\n",
      "checking gb\n",
      "checking br\n",
      "checking r\n",
      "got a match!\n",
      "\n",
      "Target: rbgbr\n",
      "checking bwu\n",
      "checking wr\n",
      "checking rb\n",
      "got a match!\n",
      "\n",
      "Target: gbr\n",
      "checking bwu\n",
      "checking wr\n",
      "checking rb\n",
      "checking gb\n",
      "got a match!\n",
      "\n",
      "Target: r\n",
      "checking bwu\n",
      "checking wr\n",
      "checking rb\n",
      "checking gb\n",
      "checking br\n",
      "checking r\n",
      "got a match!\n",
      "\n",
      "Target: \n",
      "WINNER!\n",
      "\n",
      " ######\n",
      "\n",
      "Target: ubwu\n",
      "checking bwu\n",
      "checking wr\n",
      "checking rb\n",
      "checking gb\n",
      "checking br\n",
      "checking r\n",
      "checking b\n",
      "checking g\n",
      "NO MATCH\n",
      "\n",
      " ######\n",
      "\n",
      "Target: bwurrg\n",
      "checking bwu\n",
      "got a match!\n",
      "\n",
      "Target: rrg\n",
      "checking bwu\n",
      "checking wr\n",
      "checking rb\n",
      "checking gb\n",
      "checking br\n",
      "checking r\n",
      "got a match!\n",
      "\n",
      "Target: rg\n",
      "checking bwu\n",
      "checking wr\n",
      "checking rb\n",
      "checking gb\n",
      "checking br\n",
      "checking r\n",
      "got a match!\n",
      "\n",
      "Target: g\n",
      "checking bwu\n",
      "checking wr\n",
      "checking rb\n",
      "checking gb\n",
      "checking br\n",
      "checking r\n",
      "checking b\n",
      "checking g\n",
      "got a match!\n",
      "\n",
      "Target: \n",
      "WINNER!\n",
      "\n",
      " ######\n",
      "\n",
      "Target: brgr\n",
      "checking bwu\n",
      "checking wr\n",
      "checking rb\n",
      "checking gb\n",
      "checking br\n",
      "got a match!\n",
      "\n",
      "Target: gr\n",
      "checking bwu\n",
      "checking wr\n",
      "checking rb\n",
      "checking gb\n",
      "checking br\n",
      "checking r\n",
      "checking b\n",
      "checking g\n",
      "got a match!\n",
      "\n",
      "Target: r\n",
      "checking bwu\n",
      "checking wr\n",
      "checking rb\n",
      "checking gb\n",
      "checking br\n",
      "checking r\n",
      "got a match!\n",
      "\n",
      "Target: \n",
      "WINNER!\n",
      "\n",
      " ######\n",
      "\n",
      "Target: bbrgwb\n",
      "checking bwu\n",
      "checking wr\n",
      "checking rb\n",
      "checking gb\n",
      "checking br\n",
      "checking r\n",
      "checking b\n",
      "got a match!\n",
      "\n",
      "Target: brgwb\n",
      "checking bwu\n",
      "checking wr\n",
      "checking rb\n",
      "checking gb\n",
      "checking br\n",
      "got a match!\n",
      "\n",
      "Target: gwb\n",
      "checking bwu\n",
      "checking wr\n",
      "checking rb\n",
      "checking gb\n",
      "checking br\n",
      "checking r\n",
      "checking b\n",
      "checking g\n",
      "got a match!\n",
      "\n",
      "Target: wb\n",
      "checking bwu\n",
      "checking wr\n",
      "checking rb\n",
      "checking gb\n",
      "checking br\n",
      "checking r\n",
      "checking b\n",
      "checking g\n",
      "NO MATCH\n"
     ]
    },
    {
     "data": {
      "text/plain": [
       "6"
      ]
     },
     "execution_count": 7,
     "metadata": {},
     "output_type": "execute_result"
    }
   ],
   "source": [
    "accumulator = 0\n",
    "for target in required_designs:\n",
    "    print(\"\\n ######\")\n",
    "    accumulator += possible(target)\n",
    "accumulator"
   ]
  },
  {
   "cell_type": "code",
   "execution_count": 8,
   "id": "0e473e64-1ade-4951-b3db-cef683f8fd80",
   "metadata": {},
   "outputs": [
    {
     "data": {
      "text/plain": [
       "6"
      ]
     },
     "execution_count": 8,
     "metadata": {},
     "output_type": "execute_result"
    }
   ],
   "source": [
    "accumulator"
   ]
  },
  {
   "cell_type": "code",
   "execution_count": 19,
   "id": "9148084f-727a-42e5-86dd-aa2b6b802c87",
   "metadata": {},
   "outputs": [],
   "source": [
    "## Part 1"
   ]
  },
  {
   "cell_type": "code",
   "execution_count": 46,
   "id": "52feb02a-231f-4a45-9245-a81a537d4959",
   "metadata": {},
   "outputs": [],
   "source": [
    "with open(\"day_19_input_1.txt\") as fname:\n",
    "    puzzleinput = fname.read()\n",
    "patterns_available, required_designs = puzzleinput.split(\"\\n\\n\")"
   ]
  },
  {
   "cell_type": "code",
   "execution_count": 48,
   "id": "43bafe2a-fc4e-4f44-a547-5cb9b54ec4aa",
   "metadata": {},
   "outputs": [],
   "source": [
    "list_of_patterns_available = patterns_available.replace(\" \",\"\").split(\",\")\n",
    "list_of_patterns_available.sort(reverse=True, key=len)"
   ]
  },
  {
   "cell_type": "code",
   "execution_count": 50,
   "id": "6b1cfd51-63a3-4d4e-8bd4-edad1c398284",
   "metadata": {},
   "outputs": [],
   "source": [
    "required_designs = required_designs.splitlines()"
   ]
  },
  {
   "cell_type": "code",
   "execution_count": 120,
   "id": "21c95f47-e7a3-43ed-928c-73c22d2b986c",
   "metadata": {},
   "outputs": [],
   "source": [
    "def possible(target: str):\n",
    "    if target in cache:\n",
    "        return cache[target]\n",
    "        \n",
    "    if target == \"\":\n",
    "        return 1\n",
    "        \n",
    "    counter = 0\n",
    "    for towel in list_of_patterns_available:\n",
    "        if target.startswith(towel):\n",
    "            counter += possible(target[len(towel):])\n",
    "\n",
    "    # the cache needs to be down here, not in the for loop, else we overcount\n",
    "    cache[target] = counter\n",
    "    \n",
    "    return counter"
   ]
  },
  {
   "cell_type": "code",
   "execution_count": 118,
   "id": "d25ff02d-95fe-44cf-9d62-58ada91ff9f2",
   "metadata": {},
   "outputs": [
    {
     "data": {
      "text/plain": [
       "311"
      ]
     },
     "execution_count": 118,
     "metadata": {},
     "output_type": "execute_result"
    }
   ],
   "source": [
    "accumulator = 0\n",
    "cache = {}\n",
    "\n",
    "for target in required_designs:\n",
    "    if possible(target) > 0:\n",
    "        accumulator += 1\n",
    "accumulator"
   ]
  },
  {
   "cell_type": "markdown",
   "id": "ad8d97ec-eb28-4fce-a66a-90d0a66884c0",
   "metadata": {},
   "source": [
    "## Part 2"
   ]
  },
  {
   "cell_type": "code",
   "execution_count": 127,
   "id": "5498d63c-18d1-4147-b60c-c84a2185afaa",
   "metadata": {},
   "outputs": [
    {
     "data": {
      "text/plain": [
       "616234236468263"
      ]
     },
     "execution_count": 127,
     "metadata": {},
     "output_type": "execute_result"
    }
   ],
   "source": [
    "accumulator = 0\n",
    "\n",
    "for target in required_designs:\n",
    "    accumulator += possible(target)\n",
    "accumulator"
   ]
  },
  {
   "cell_type": "code",
   "execution_count": null,
   "id": "7b24af38-c46c-4eeb-b4cd-c242837eef66",
   "metadata": {},
   "outputs": [],
   "source": []
  },
  {
   "cell_type": "code",
   "execution_count": null,
   "id": "1dac0c49-faf4-41c9-972e-a9be7d72f353",
   "metadata": {},
   "outputs": [],
   "source": []
  },
  {
   "cell_type": "markdown",
   "id": "1e2b4eb8-da61-47d8-b07e-2be81f4bf0a2",
   "metadata": {},
   "source": [
    "## Someone else's code\n",
    "#### https://pastebin.com/V3H3xef2"
   ]
  },
  {
   "cell_type": "code",
   "execution_count": 92,
   "id": "a514d404-70ee-4a4c-898f-09728e79738d",
   "metadata": {},
   "outputs": [
    {
     "name": "stdout",
     "output_type": "stream",
     "text": [
      "p1:  311\n",
      "p2:  616234236468263\n"
     ]
    }
   ],
   "source": [
    "from functools import cache\n",
    "patterns = frozenset(list_of_patterns_available)\n",
    "towels = required_designs\n",
    "\n",
    "@cache\n",
    "def count_possibilities(patterns, towel: str):\n",
    "    if len(towel) == 0:\n",
    "        return 1\n",
    " \n",
    "    count = 0\n",
    "    for p in patterns:\n",
    "        if towel.startswith(p):\n",
    "            sub_towel = towel[len(p):]\n",
    "            count += count_possibilities(patterns, sub_towel)\n",
    "            \n",
    "    \n",
    "    return count\n",
    " \n",
    "p1 = 0\n",
    "p2 = 0\n",
    "for t in towels:\n",
    "    total = count_possibilities(patterns, t)\n",
    "    p1 += 1 if total > 0 else 0\n",
    "    p2 += total\n",
    "   \n",
    "print('p1: ', p1)\n",
    "print('p2: ', p2)"
   ]
  },
  {
   "cell_type": "markdown",
   "id": "3600c085-159c-4a95-bc5b-8d7fb2c06d5d",
   "metadata": {},
   "source": [
    "## Someone else's code"
   ]
  },
  {
   "cell_type": "code",
   "execution_count": 113,
   "id": "ad72a744-bdf5-458d-b5d3-a58c074d1da5",
   "metadata": {},
   "outputs": [
    {
     "name": "stdout",
     "output_type": "stream",
     "text": [
      "311\n"
     ]
    }
   ],
   "source": [
    "patterns = set(list_of_patterns_available)\n",
    "designs = required_designs\n",
    "part = 1\n",
    "\n",
    "CACHE = {}\n",
    "def possible(design, patterns):\n",
    "    if design in CACHE:\n",
    "        return CACHE[design]\n",
    "        \n",
    "    if design == '':\n",
    "        return 1\n",
    "        \n",
    "    options = 0\n",
    "    for p in patterns:\n",
    "        if design.startswith(p):\n",
    "            options += possible(design[len(p):], patterns)\n",
    "            \n",
    "    CACHE[design] = options\n",
    "    return options\n",
    "\n",
    "result = 0\n",
    "for d in designs:\n",
    "    pos = possible(d, patterns)\n",
    "    if part == 1:\n",
    "        result += int(bool(pos))\n",
    "    else:\n",
    "        result += int(pos)\n",
    "print(result)"
   ]
  }
 ],
 "metadata": {
  "kernelspec": {
   "display_name": "Python 3 (ipykernel)",
   "language": "python",
   "name": "python3"
  },
  "language_info": {
   "codemirror_mode": {
    "name": "ipython",
    "version": 3
   },
   "file_extension": ".py",
   "mimetype": "text/x-python",
   "name": "python",
   "nbconvert_exporter": "python",
   "pygments_lexer": "ipython3",
   "version": "3.10.9"
  }
 },
 "nbformat": 4,
 "nbformat_minor": 5
}
