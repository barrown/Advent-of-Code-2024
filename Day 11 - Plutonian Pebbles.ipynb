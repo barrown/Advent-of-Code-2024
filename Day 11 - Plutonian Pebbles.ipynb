{
 "cells": [
  {
   "cell_type": "raw",
   "id": "ecab066a-d31c-4b2f-80a2-3825b4abf125",
   "metadata": {},
   "source": [
    "Day 11 Plutonian Pebbles I was right on it with my cache and my deque, which worked for Part 1. For Part 2 I wasn't clever enough and needed to see people's solutions like using floor(log10(x))+1 to count the number of digits, and not trying to hold everything in a deque at all."
   ]
  },
  {
   "cell_type": "code",
   "execution_count": 124,
   "id": "9da9138e-f15b-4b63-abfc-8913d43fa1aa",
   "metadata": {},
   "outputs": [],
   "source": [
    "from collections import deque\n",
    "from functools import cache"
   ]
  },
  {
   "cell_type": "code",
   "execution_count": 63,
   "id": "493ce731-2c4d-4103-a211-ed4998a0797e",
   "metadata": {},
   "outputs": [
    {
     "data": {
      "text/plain": [
       "deque([125, 17])"
      ]
     },
     "execution_count": 63,
     "metadata": {},
     "output_type": "execute_result"
    }
   ],
   "source": [
    "de = deque()\n",
    "initial = \"125 17\".split()\n",
    "\n",
    "for pebble in initial:\n",
    "    de.append(int(pebble))\n",
    "de"
   ]
  },
  {
   "cell_type": "code",
   "execution_count": 126,
   "id": "6f8ba146-b2d4-4fdc-85b8-b7cd7559ea57",
   "metadata": {},
   "outputs": [],
   "source": [
    "@cache\n",
    "def blink(de, blinkcount):\n",
    "    de2 = deque()\n",
    "    for pebble in de:\n",
    "        length = len(str(pebble))\n",
    "        if pebble == 0:\n",
    "            de2.append(1)\n",
    "        elif length%2 == 0:\n",
    "            de2.append(int(str(pebble)[:length//2]))\n",
    "            de2.append(int(str(pebble)[length//2:]))\n",
    "        else:\n",
    "            de2.append(pebble * 2024)\n",
    "    blinkcount += 1\n",
    "    if blinkcount == 75:\n",
    "        print(\"I've blinked\",blinkcount,\"times. There are\",len(de2),\"pebbles.\")\n",
    "    else:\n",
    "        print(\"I've blinked\",blinkcount,\"times. There are\",len(de2),\"pebbles.\")\n",
    "        #print(de2)\n",
    "        blink(de2, blinkcount)"
   ]
  },
  {
   "cell_type": "code",
   "execution_count": 104,
   "id": "b3aaeafb-45f8-4407-a59e-1d98bc71ab85",
   "metadata": {},
   "outputs": [
    {
     "name": "stdout",
     "output_type": "stream",
     "text": [
      "I've blinked 1 times. There are 3 pebbles.\n",
      "I've blinked 2 times. There are 4 pebbles.\n",
      "I've blinked 3 times. There are 5 pebbles.\n",
      "I've blinked 4 times. There are 9 pebbles.\n",
      "I've blinked 5 times. There are 13 pebbles.\n",
      "I've blinked 6 times. There are 22 pebbles.\n",
      "I've blinked 7 times. There are 31 pebbles.\n",
      "I've blinked 8 times. There are 42 pebbles.\n",
      "I've blinked 9 times. There are 68 pebbles.\n",
      "I've blinked 10 times. There are 109 pebbles.\n",
      "I've blinked 11 times. There are 170 pebbles.\n",
      "I've blinked 12 times. There are 235 pebbles.\n",
      "I've blinked 13 times. There are 342 pebbles.\n",
      "I've blinked 14 times. There are 557 pebbles.\n",
      "I've blinked 15 times. There are 853 pebbles.\n",
      "I've blinked 16 times. There are 1298 pebbles.\n",
      "I've blinked 17 times. There are 1951 pebbles.\n",
      "I've blinked 18 times. There are 2869 pebbles.\n",
      "I've blinked 19 times. There are 4490 pebbles.\n",
      "I've blinked 20 times. There are 6837 pebbles.\n",
      "I've blinked 21 times. There are 10362 pebbles.\n",
      "I've blinked 22 times. There are 15754 pebbles.\n",
      "I've blinked 23 times. There are 23435 pebbles.\n",
      "I've blinked 24 times. There are 36359 pebbles.\n",
      "I've blinked 25 times. There are 55312 pebbles.\n"
     ]
    }
   ],
   "source": [
    "blink(de, 0)"
   ]
  },
  {
   "cell_type": "code",
   "execution_count": 110,
   "id": "3908cef8-ffe1-4c2e-a858-ba52aaea2e66",
   "metadata": {},
   "outputs": [
    {
     "data": {
      "text/plain": [
       "deque([5910927, 0, 1, 47, 261223, 94788, 545, 7771])"
      ]
     },
     "execution_count": 110,
     "metadata": {},
     "output_type": "execute_result"
    }
   ],
   "source": [
    "de = deque()\n",
    "pebbles_arrangment = open(\"day_11_input_0.txt\").read().split()\n",
    "for pebble in pebbles_arrangment:\n",
    "    de.append(int(pebble))\n",
    "de"
   ]
  },
  {
   "cell_type": "code",
   "execution_count": 116,
   "id": "034b6d37-59b8-4d21-ae1f-4ac4f1cf08d7",
   "metadata": {},
   "outputs": [
    {
     "name": "stdout",
     "output_type": "stream",
     "text": [
      "I've blinked 1 times. There are 11 pebbles.\n",
      "I've blinked 2 times. There are 14 pebbles.\n",
      "I've blinked 3 times. There are 23 pebbles.\n",
      "I've blinked 4 times. There are 31 pebbles.\n",
      "I've blinked 5 times. There are 48 pebbles.\n",
      "I've blinked 6 times. There are 76 pebbles.\n",
      "I've blinked 7 times. There are 118 pebbles.\n",
      "I've blinked 8 times. There are 157 pebbles.\n",
      "I've blinked 9 times. There are 239 pebbles.\n",
      "I've blinked 10 times. There are 372 pebbles.\n",
      "I've blinked 11 times. There are 562 pebbles.\n",
      "I've blinked 12 times. There are 864 pebbles.\n",
      "I've blinked 13 times. There are 1255 pebbles.\n",
      "I've blinked 14 times. There are 1976 pebbles.\n",
      "I've blinked 15 times. There are 2959 pebbles.\n",
      "I've blinked 16 times. There are 4399 pebbles.\n",
      "I've blinked 17 times. There are 6929 pebbles.\n",
      "I've blinked 18 times. There are 10308 pebbles.\n",
      "I've blinked 19 times. There are 15571 pebbles.\n",
      "I've blinked 20 times. There are 23810 pebbles.\n",
      "I've blinked 21 times. There are 36051 pebbles.\n",
      "I've blinked 22 times. There are 55467 pebbles.\n",
      "I've blinked 23 times. There are 83090 pebbles.\n",
      "I've blinked 24 times. There are 126113 pebbles.\n",
      "I've blinked 25 times. There are 193607 pebbles.\n",
      "I've blinked 26 times. There are 290658 pebbles.\n",
      "I've blinked 27 times. There are 444897 pebbles.\n",
      "I've blinked 28 times. There are 675278 pebbles.\n",
      "I've blinked 29 times. There are 1020444 pebbles.\n",
      "I've blinked 30 times. There are 1559689 pebbles.\n",
      "I've blinked 31 times. There are 2355773 pebbles.\n",
      "I've blinked 32 times. There are 3593840 pebbles.\n",
      "I've blinked 33 times. There are 5459193 pebbles.\n",
      "I've blinked 34 times. There are 8248870 pebbles.\n",
      "I've blinked 35 times. There are 12603822 pebbles.\n",
      "I've blinked 36 times. There are 19087824 pebbles.\n",
      "I've blinked 37 times. There are 28990648 pebbles.\n",
      "I've blinked 38 times. There are 44127914 pebbles.\n",
      "I've blinked 39 times. There are 66809546 pebbles.\n"
     ]
    },
    {
     "ename": "KeyboardInterrupt",
     "evalue": "",
     "output_type": "error",
     "traceback": [
      "\u001b[1;31m---------------------------------------------------------------------------\u001b[0m",
      "\u001b[1;31mKeyboardInterrupt\u001b[0m                         Traceback (most recent call last)",
      "Cell \u001b[1;32mIn[116], line 1\u001b[0m\n\u001b[1;32m----> 1\u001b[0m \u001b[43mblink\u001b[49m\u001b[43m(\u001b[49m\u001b[43mde\u001b[49m\u001b[43m,\u001b[49m\u001b[43m \u001b[49m\u001b[38;5;241;43m0\u001b[39;49m\u001b[43m)\u001b[49m\n",
      "Cell \u001b[1;32mIn[114], line 18\u001b[0m, in \u001b[0;36mblink\u001b[1;34m(de, blinkcount)\u001b[0m\n\u001b[0;32m     16\u001b[0m \u001b[38;5;28mprint\u001b[39m(\u001b[38;5;124m\"\u001b[39m\u001b[38;5;124mI\u001b[39m\u001b[38;5;124m'\u001b[39m\u001b[38;5;124mve blinked\u001b[39m\u001b[38;5;124m\"\u001b[39m,blinkcount,\u001b[38;5;124m\"\u001b[39m\u001b[38;5;124mtimes. There are\u001b[39m\u001b[38;5;124m\"\u001b[39m,\u001b[38;5;28mlen\u001b[39m(de2),\u001b[38;5;124m\"\u001b[39m\u001b[38;5;124mpebbles.\u001b[39m\u001b[38;5;124m\"\u001b[39m)\n\u001b[0;32m     17\u001b[0m \u001b[38;5;66;03m#print(de2)\u001b[39;00m\n\u001b[1;32m---> 18\u001b[0m \u001b[43mblink\u001b[49m\u001b[43m(\u001b[49m\u001b[43mde2\u001b[49m\u001b[43m,\u001b[49m\u001b[43m \u001b[49m\u001b[43mblinkcount\u001b[49m\u001b[43m)\u001b[49m\n",
      "Cell \u001b[1;32mIn[114], line 18\u001b[0m, in \u001b[0;36mblink\u001b[1;34m(de, blinkcount)\u001b[0m\n\u001b[0;32m     16\u001b[0m \u001b[38;5;28mprint\u001b[39m(\u001b[38;5;124m\"\u001b[39m\u001b[38;5;124mI\u001b[39m\u001b[38;5;124m'\u001b[39m\u001b[38;5;124mve blinked\u001b[39m\u001b[38;5;124m\"\u001b[39m,blinkcount,\u001b[38;5;124m\"\u001b[39m\u001b[38;5;124mtimes. There are\u001b[39m\u001b[38;5;124m\"\u001b[39m,\u001b[38;5;28mlen\u001b[39m(de2),\u001b[38;5;124m\"\u001b[39m\u001b[38;5;124mpebbles.\u001b[39m\u001b[38;5;124m\"\u001b[39m)\n\u001b[0;32m     17\u001b[0m \u001b[38;5;66;03m#print(de2)\u001b[39;00m\n\u001b[1;32m---> 18\u001b[0m \u001b[43mblink\u001b[49m\u001b[43m(\u001b[49m\u001b[43mde2\u001b[49m\u001b[43m,\u001b[49m\u001b[43m \u001b[49m\u001b[43mblinkcount\u001b[49m\u001b[43m)\u001b[49m\n",
      "    \u001b[1;31m[... skipping similar frames: blink at line 18 (36 times)]\u001b[0m\n",
      "Cell \u001b[1;32mIn[114], line 18\u001b[0m, in \u001b[0;36mblink\u001b[1;34m(de, blinkcount)\u001b[0m\n\u001b[0;32m     16\u001b[0m \u001b[38;5;28mprint\u001b[39m(\u001b[38;5;124m\"\u001b[39m\u001b[38;5;124mI\u001b[39m\u001b[38;5;124m'\u001b[39m\u001b[38;5;124mve blinked\u001b[39m\u001b[38;5;124m\"\u001b[39m,blinkcount,\u001b[38;5;124m\"\u001b[39m\u001b[38;5;124mtimes. There are\u001b[39m\u001b[38;5;124m\"\u001b[39m,\u001b[38;5;28mlen\u001b[39m(de2),\u001b[38;5;124m\"\u001b[39m\u001b[38;5;124mpebbles.\u001b[39m\u001b[38;5;124m\"\u001b[39m)\n\u001b[0;32m     17\u001b[0m \u001b[38;5;66;03m#print(de2)\u001b[39;00m\n\u001b[1;32m---> 18\u001b[0m \u001b[43mblink\u001b[49m\u001b[43m(\u001b[49m\u001b[43mde2\u001b[49m\u001b[43m,\u001b[49m\u001b[43m \u001b[49m\u001b[43mblinkcount\u001b[49m\u001b[43m)\u001b[49m\n",
      "Cell \u001b[1;32mIn[114], line 5\u001b[0m, in \u001b[0;36mblink\u001b[1;34m(de, blinkcount)\u001b[0m\n\u001b[0;32m      3\u001b[0m \u001b[38;5;28;01mfor\u001b[39;00m pebble \u001b[38;5;129;01min\u001b[39;00m de:\n\u001b[0;32m      4\u001b[0m     length \u001b[38;5;241m=\u001b[39m \u001b[38;5;28mlen\u001b[39m(\u001b[38;5;28mstr\u001b[39m(pebble))\n\u001b[1;32m----> 5\u001b[0m     \u001b[38;5;28;01mif\u001b[39;00m \u001b[43mpebble\u001b[49m\u001b[43m \u001b[49m\u001b[38;5;241;43m==\u001b[39;49m\u001b[43m \u001b[49m\u001b[38;5;241;43m0\u001b[39;49m:\n\u001b[0;32m      6\u001b[0m         de2\u001b[38;5;241m.\u001b[39mappend(\u001b[38;5;241m1\u001b[39m)\n\u001b[0;32m      7\u001b[0m     \u001b[38;5;28;01melif\u001b[39;00m length\u001b[38;5;241m%\u001b[39m\u001b[38;5;241m2\u001b[39m \u001b[38;5;241m==\u001b[39m \u001b[38;5;241m0\u001b[39m:\n",
      "\u001b[1;31mKeyboardInterrupt\u001b[0m: "
     ]
    }
   ],
   "source": [
    "blink(de, 0)"
   ]
  },
  {
   "cell_type": "code",
   "execution_count": 128,
   "id": "243d5a22-6ed9-46a3-9e62-0d3e5a3bcba9",
   "metadata": {},
   "outputs": [
    {
     "ename": "TypeError",
     "evalue": "unhashable type: 'collections.deque'",
     "output_type": "error",
     "traceback": [
      "\u001b[1;31m---------------------------------------------------------------------------\u001b[0m",
      "\u001b[1;31mTypeError\u001b[0m                                 Traceback (most recent call last)",
      "Cell \u001b[1;32mIn[128], line 3\u001b[0m\n\u001b[0;32m      1\u001b[0m de \u001b[38;5;241m=\u001b[39m deque()\n\u001b[0;32m      2\u001b[0m de\u001b[38;5;241m.\u001b[39mappend(\u001b[38;5;241m5910927\u001b[39m)\n\u001b[1;32m----> 3\u001b[0m \u001b[43mblink\u001b[49m\u001b[43m(\u001b[49m\u001b[43mde\u001b[49m\u001b[43m,\u001b[49m\u001b[43m \u001b[49m\u001b[38;5;241;43m0\u001b[39;49m\u001b[43m)\u001b[49m\n",
      "\u001b[1;31mTypeError\u001b[0m: unhashable type: 'collections.deque'"
     ]
    }
   ],
   "source": [
    "de = deque()\n",
    "de.append(5910927)\n",
    "blink(de, 0)"
   ]
  },
  {
   "cell_type": "markdown",
   "id": "ad624b09-31a9-4464-9a29-4b612bbdb110",
   "metadata": {},
   "source": [
    "## Other people's code"
   ]
  },
  {
   "cell_type": "code",
   "execution_count": 131,
   "id": "48d3aa25-7723-436d-96ce-b1389dd2b23c",
   "metadata": {},
   "outputs": [
    {
     "name": "stdout",
     "output_type": "stream",
     "text": [
      "229557103025807\n"
     ]
    }
   ],
   "source": [
    "from functools import cache\n",
    "from math import floor, log10\n",
    "\n",
    "@cache\n",
    "def count(x, d=75):\n",
    "    if d == 0: return 1\n",
    "    if x == 0: return count(1, d-1)\n",
    "\n",
    "    l = floor(log10(x))+1\n",
    "    if l % 2: return count(x*2024, d-1)\n",
    "\n",
    "    return (count(x // 10**(l//2), d-1)+\n",
    "            count(x %  10**(l//2), d-1))\n",
    "\n",
    "data = map(int, open(\"day_11_input_0.txt\").read().split())\n",
    "print(sum(map(count, data)))"
   ]
  },
  {
   "cell_type": "code",
   "execution_count": 145,
   "id": "4b610bbd-1647-40fa-9f93-d78c5b2a3ab8",
   "metadata": {},
   "outputs": [
    {
     "name": "stdout",
     "output_type": "stream",
     "text": [
      "1 0.0 1\n",
      "2 0.3010299956639812 1\n",
      "3 0.47712125471966244 1\n",
      "4 0.6020599913279624 1\n",
      "5 0.6989700043360189 1\n",
      "6 0.7781512503836436 1\n",
      "7 0.8450980400142568 1\n",
      "8 0.9030899869919435 1\n",
      "9 0.9542425094393249 1\n",
      "10 1.0 2\n",
      "11 1.0413926851582251 2\n",
      "12 1.0791812460476249 2\n",
      "13 1.1139433523068367 2\n",
      "14 1.146128035678238 2\n",
      "15 1.1760912590556813 2\n",
      "16 1.2041199826559248 2\n",
      "17 1.2304489213782739 2\n",
      "18 1.255272505103306 2\n",
      "19 1.2787536009528289 2\n",
      "20 1.3010299956639813 2\n",
      "21 1.3222192947339193 2\n",
      "22 1.3424226808222062 2\n",
      "23 1.3617278360175928 2\n",
      "24 1.380211241711606 2\n",
      "25 1.3979400086720377 2\n",
      "26 1.414973347970818 2\n",
      "27 1.4313637641589874 2\n",
      "28 1.4471580313422192 2\n",
      "29 1.462397997898956 2\n",
      "30 1.4771212547196624 2\n",
      "31 1.4913616938342726 2\n",
      "32 1.505149978319906 2\n",
      "33 1.5185139398778875 2\n",
      "34 1.5314789170422551 2\n",
      "35 1.5440680443502757 2\n",
      "36 1.5563025007672873 2\n",
      "37 1.568201724066995 2\n",
      "38 1.5797835966168101 2\n",
      "39 1.591064607026499 2\n",
      "40 1.6020599913279623 2\n",
      "41 1.6127838567197355 2\n",
      "42 1.6232492903979006 2\n",
      "43 1.6334684555795864 2\n",
      "44 1.6434526764861874 2\n",
      "45 1.6532125137753437 2\n",
      "46 1.662757831681574 2\n",
      "47 1.6720978579357175 2\n",
      "48 1.6812412373755872 2\n",
      "49 1.6901960800285136 2\n",
      "50 1.6989700043360187 2\n",
      "51 1.7075701760979363 2\n",
      "52 1.7160033436347992 2\n",
      "53 1.724275869600789 2\n",
      "54 1.7323937598229686 2\n",
      "55 1.7403626894942439 2\n",
      "56 1.7481880270062005 2\n",
      "57 1.7558748556724915 2\n",
      "58 1.7634279935629373 2\n",
      "59 1.7708520116421442 2\n",
      "60 1.7781512503836436 2\n",
      "61 1.7853298350107671 2\n",
      "62 1.792391689498254 2\n",
      "63 1.7993405494535817 2\n",
      "64 1.806179973983887 2\n",
      "65 1.8129133566428555 2\n",
      "66 1.8195439355418688 2\n",
      "67 1.8260748027008264 2\n",
      "68 1.8325089127062364 2\n",
      "69 1.8388490907372552 2\n",
      "70 1.845098040014257 2\n",
      "71 1.8512583487190752 2\n",
      "72 1.8573324964312685 2\n",
      "73 1.863322860120456 2\n",
      "74 1.8692317197309762 2\n",
      "75 1.8750612633917 2\n",
      "76 1.8808135922807914 2\n",
      "77 1.8864907251724818 2\n",
      "78 1.8920946026904804 2\n",
      "79 1.8976270912904414 2\n",
      "80 1.9030899869919435 2\n",
      "81 1.9084850188786497 2\n",
      "82 1.9138138523837167 2\n",
      "83 1.919078092376074 2\n",
      "84 1.9242792860618816 2\n",
      "85 1.9294189257142926 2\n",
      "86 1.9344984512435677 2\n",
      "87 1.9395192526186185 2\n",
      "88 1.9444826721501687 2\n",
      "89 1.9493900066449128 2\n",
      "90 1.954242509439325 2\n",
      "91 1.9590413923210936 2\n",
      "92 1.9637878273455553 2\n",
      "93 1.968482948553935 2\n",
      "94 1.9731278535996986 2\n",
      "95 1.9777236052888478 2\n",
      "96 1.9822712330395684 2\n",
      "97 1.9867717342662448 2\n",
      "98 1.9912260756924949 2\n",
      "99 1.99563519459755 2\n",
      "100 2.0 3\n",
      "101 2.0043213737826426 3\n",
      "102 2.0086001717619175 3\n",
      "103 2.012837224705172 3\n",
      "104 2.0170333392987803 3\n",
      "105 2.0211892990699383 3\n",
      "106 2.0253058652647704 3\n",
      "107 2.0293837776852097 3\n",
      "108 2.03342375548695 3\n",
      "109 2.037426497940624 3\n"
     ]
    }
   ],
   "source": [
    "from math import floor, log10\n",
    "\n",
    "for x in range(1,110):\n",
    "    print(x, log10(x), floor(log10(x))+1)"
   ]
  },
  {
   "cell_type": "code",
   "execution_count": null,
   "id": "049feda0-a254-40ad-b484-3e35b8b012bf",
   "metadata": {},
   "outputs": [],
   "source": []
  }
 ],
 "metadata": {
  "kernelspec": {
   "display_name": "Python 3 (ipykernel)",
   "language": "python",
   "name": "python3"
  },
  "language_info": {
   "codemirror_mode": {
    "name": "ipython",
    "version": 3
   },
   "file_extension": ".py",
   "mimetype": "text/x-python",
   "name": "python",
   "nbconvert_exporter": "python",
   "pygments_lexer": "ipython3",
   "version": "3.10.9"
  }
 },
 "nbformat": 4,
 "nbformat_minor": 5
}
