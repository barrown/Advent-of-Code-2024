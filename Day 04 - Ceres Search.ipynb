{
 "cells": [
  {
   "cell_type": "raw",
   "id": "ac9a780d-0066-4a72-95c0-e3170562c2fc",
   "metadata": {},
   "source": [
    "Day 4 was my first 2D grid puzzle! Little did I know at the time ...\n",
    "I learnt how to load a 2D grid into a dictionary and check for bounds, and that you can chain booleans, e.g. if found == \"MMSS\" or found == \"SSMM\" or found == \"MSMS\" or found == \"SMSM\":"
   ]
  },
  {
   "cell_type": "code",
   "execution_count": 111,
   "id": "fa7bbd96-dfd4-4098-8f12-17d493e9033e",
   "metadata": {},
   "outputs": [],
   "source": [
    "with open(\"day_04_input_1.txt\") as fname:\n",
    "    wordsearch = fname.readlines()\n",
    "maxrows = len(wordsearch)"
   ]
  },
  {
   "cell_type": "code",
   "execution_count": 121,
   "id": "d0b18921-56a2-4f5c-b46d-d74ab835b20c",
   "metadata": {
    "scrolled": true
   },
   "outputs": [],
   "source": [
    "dictionary = {}\n",
    "\n",
    "for y, line in enumerate(wordsearch):\n",
    "    for x, char in enumerate(line.strip()):\n",
    "        dictionary[(x,y)] = char\n",
    "maxcolumns = len(line)"
   ]
  },
  {
   "cell_type": "code",
   "execution_count": 119,
   "id": "29d95ea9-bc33-4763-b425-c3d725e1139d",
   "metadata": {},
   "outputs": [
    {
     "data": {
      "text/plain": [
       "2573"
      ]
     },
     "execution_count": 119,
     "metadata": {},
     "output_type": "execute_result"
    }
   ],
   "source": [
    "def valid_location(x,y,i,j):\n",
    "    if x+i < 0 or y+j < 0 or x+i >= maxcolumns or y+j >= maxrows:\n",
    "        return False\n",
    "    else:\n",
    "        return True\n",
    "        \n",
    "def check_for_nearby_letter(letter, x, y):\n",
    "    next_letters = []\n",
    "    for i in range(-1,2):\n",
    "        for j in range(-1,2):\n",
    "            # we can ignore i = 0, j = 0, as all letters are different\n",
    "            # check we're in bounds\n",
    "            if x+i < 0 or y+j < 0 or x+i >= maxcolumns or y+j >= maxrows:\n",
    "                valid_location = False\n",
    "            else:\n",
    "                valid_location = True\n",
    "            if valid_location:\n",
    "                if dictionary[(x+i,y+j)] == letter:\n",
    "                    #print(dictionary[(x,y)],\"at\",(x,y),\" \",letter,\"in\",(i,j),\"direction\")\n",
    "                    next_letters.append((x+i,y+j,i,j))\n",
    "                    #print(next_letters)\n",
    "    return next_letters\n",
    "\n",
    "def check_for_nearby_letter_same_direction(letter, x, y, i, j):\n",
    "    next_letters = []\n",
    "    # check we're in bounds\n",
    "    if x+i < 0 or y+j < 0 or x+i >= maxcolumns or y+j >= maxrows:\n",
    "        valid_location = False\n",
    "    else:\n",
    "        valid_location = True\n",
    "    if valid_location:\n",
    "        if dictionary[(x+i,y+j)] == letter:\n",
    "            #print(dictionary[(x,y)],\"at\",(x,y),\" \",letter,\"at\",(x+i,y+j))\n",
    "            next_letters.append((x+i,y+j,i,j))\n",
    "            #print(next_letters)\n",
    "    return next_letters\n",
    "\n",
    "\n",
    "\n",
    "accumulator = 0\n",
    "\n",
    "# scan through each location\n",
    "for y in range(maxrows):\n",
    "    for x in range(maxcolumns):\n",
    "        \n",
    "        # find the start of XMAS\n",
    "        if dictionary[(x,y)] == \"X\":\n",
    "            # now look in each direction for an \"M\"\n",
    "            second_letters = check_for_nearby_letter(\"M\", x, y)\n",
    "            for x2, y2, i, j in second_letters:\n",
    "                third_letters = check_for_nearby_letter_same_direction(\"A\", x2, y2, i, j)\n",
    "                for x3, y3, i, j in third_letters:\n",
    "                    third_letters = check_for_nearby_letter_same_direction(\"S\", x3, y3, i, j)\n",
    "                    accumulator += len(third_letters)\n",
    "                    #print(\"found\",len(third_letters),\"XMAS\")\n",
    "accumulator"
   ]
  },
  {
   "cell_type": "code",
   "execution_count": 181,
   "id": "5032ccc2-bccf-478a-9955-488c417fb588",
   "metadata": {},
   "outputs": [],
   "source": [
    "with open(\"day_04_input_1.txt\") as fname:\n",
    "    wordsearch = fname.readlines()\n",
    "maxrows = len(wordsearch)"
   ]
  },
  {
   "cell_type": "code",
   "execution_count": 183,
   "id": "bac932af-9584-4768-825a-e06ca34a1930",
   "metadata": {},
   "outputs": [],
   "source": [
    "dictionary = {}\n",
    "\n",
    "# create a dictionary map of all the characters\n",
    "for y, line in enumerate(wordsearch):\n",
    "    for x, char in enumerate(line.strip()):\n",
    "        dictionary[(x,y)] = char\n",
    "\n",
    "# find the x-limit of the grid\n",
    "maxcolumns = len(line)"
   ]
  },
  {
   "cell_type": "code",
   "execution_count": 185,
   "id": "4c0bd0f7-843f-42d8-a0a1-e8db71a1a41d",
   "metadata": {},
   "outputs": [
    {
     "data": {
      "text/plain": [
       "1850"
      ]
     },
     "execution_count": 185,
     "metadata": {},
     "output_type": "execute_result"
    }
   ],
   "source": [
    "accumulator = 0\n",
    "\n",
    "# scan through each location, avoiding the perimeter\n",
    "for y in range(1,maxrows-1):\n",
    "    for x in range(1,maxcolumns-1):\n",
    "        \n",
    "        # find an A\n",
    "        if dictionary[(x,y)] == \"A\":\n",
    "            # now look for a X-MAS pattern\n",
    "            found = dictionary[(x+1,y+1)] + dictionary[(x+1,y-1)] + dictionary[(x-1,y+1)] + dictionary[(x-1,y-1)]\n",
    "            if found == \"MMSS\" or found == \"SSMM\" or found == \"MSMS\" or found == \"SMSM\":\n",
    "                accumulator += 1\n",
    "\n",
    "accumulator"
   ]
  }
 ],
 "metadata": {
  "kernelspec": {
   "display_name": "Python 3 (ipykernel)",
   "language": "python",
   "name": "python3"
  },
  "language_info": {
   "codemirror_mode": {
    "name": "ipython",
    "version": 3
   },
   "file_extension": ".py",
   "mimetype": "text/x-python",
   "name": "python",
   "nbconvert_exporter": "python",
   "pygments_lexer": "ipython3",
   "version": "3.10.9"
  }
 },
 "nbformat": 4,
 "nbformat_minor": 5
}
