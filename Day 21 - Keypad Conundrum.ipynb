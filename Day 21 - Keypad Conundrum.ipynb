{
 "cells": [
  {
   "cell_type": "raw",
   "id": "96dd0b96-625d-4a6e-a6c7-aac616343739",
   "metadata": {},
   "source": [
    "Day 21 I enjoyed thinking about and creating the nested keypad pushers, and my logic was sound to avoid the blank spaces and get the minimum pushes. However, I couldn't scale the approach for Part 2, as I still hate recursion and caching."
   ]
  },
  {
   "cell_type": "raw",
   "id": "6fd41ab4-efea-4854-9b19-1b7fd768e6ff",
   "metadata": {},
   "source": [
    "Final keypad:\n",
    "+---+---+---+\n",
    "| 7 | 8 | 9 |\n",
    "+---+---+---+\n",
    "| 4 | 5 | 6 |\n",
    "+---+---+---+\n",
    "| 1 | 2 | 3 |\n",
    "+---+---+---+\n",
    "    | 0 | A |\n",
    "    +---+---+\n",
    "\n",
    "First directional keypad:\n",
    "    +---+---+\n",
    "    | ^ | A |\n",
    "+---+---+---+\n",
    "| < | v | > |\n",
    "+---+---+---+\n",
    "\n",
    "Second directional keypad:\n",
    "    +---+---+\n",
    "    | ^ | A |\n",
    "+---+---+---+\n",
    "| < | v | > |\n",
    "+---+---+---+\n",
    "\n",
    "My input directional keypad:\n",
    "    +---+---+\n",
    "    | ^ | A |\n",
    "+---+---+---+\n",
    "| < | v | > |\n",
    "+---+---+---+"
   ]
  },
  {
   "cell_type": "code",
   "execution_count": 17,
   "id": "40c534c8-f508-4f1f-85fd-d8d57224a597",
   "metadata": {},
   "outputs": [],
   "source": [
    "global keypad_state\n",
    "global fdk_state\n",
    "global sdk_state "
   ]
  },
  {
   "cell_type": "code",
   "execution_count": 19,
   "id": "96684731-5f64-45d4-8160-66640c946d81",
   "metadata": {},
   "outputs": [],
   "source": [
    "directional_map = {\n",
    "\"<\": (0,0),\n",
    "\"v\": (1,0),\n",
    "\">\": (2,0),\n",
    "\"^\": (1,1),\n",
    "\"A\": (2,1)}"
   ]
  },
  {
   "cell_type": "code",
   "execution_count": 21,
   "id": "082ed175-a427-41a3-8c22-98b8ac2eb6ee",
   "metadata": {},
   "outputs": [],
   "source": [
    "keypad_map = {\n",
    "\"0\": (1,0),\n",
    "\"A\": (2,0),\n",
    "\"1\": (0,1),\n",
    "\"2\": (1,1),\n",
    "\"3\": (2,1),\n",
    "\"4\": (0,2),\n",
    "\"5\": (1,2),\n",
    "\"6\": (2,2),\n",
    "\"7\": (0,3),\n",
    "\"8\": (1,3),\n",
    "\"9\": (2,3)}"
   ]
  },
  {
   "cell_type": "code",
   "execution_count": 23,
   "id": "bde1fec5-500a-4b5e-8a15-3e303daa62d2",
   "metadata": {},
   "outputs": [],
   "source": [
    "def dxdy_to_string_updown(dx,dy):\n",
    "    output_string = \"\"\n",
    "    \n",
    "    if dy < 0:\n",
    "        # moving down\n",
    "        output_string += \"v\"*-dy\n",
    "    elif dy > 0:\n",
    "        # moving up\n",
    "        output_string += \"^\"*dy\n",
    "    \n",
    "    if dx < 0:\n",
    "        # moving left\n",
    "        output_string += \"<\"*-dx\n",
    "    elif dx > 0:\n",
    "        # moving right\n",
    "        output_string += \">\"*dx\n",
    "        \n",
    "    output_string += \"A\"\n",
    "    return output_string\n",
    "\n",
    "def dxdy_to_string_leftright(dx,dy):\n",
    "    output_string = \"\"\n",
    "\n",
    "    if dx < 0:\n",
    "        # moving left\n",
    "        output_string += \"<\"*-dx\n",
    "    elif dx > 0:\n",
    "        # moving right\n",
    "        output_string += \">\"*dx\n",
    "        \n",
    "    if dy < 0:\n",
    "        # moving down\n",
    "        output_string += \"v\"*-dy\n",
    "    elif dy > 0:\n",
    "        # moving up\n",
    "        output_string += \"^\"*dy\n",
    "    \n",
    "    output_string += \"A\"\n",
    "    return output_string"
   ]
  },
  {
   "cell_type": "code",
   "execution_count": 25,
   "id": "73d0495f-36ba-48bd-ac19-4b358928ca93",
   "metadata": {},
   "outputs": [],
   "source": [
    "def generate_final_keypad_sequence(button):\n",
    "    global keypad_state\n",
    "\n",
    "    #print(\"keypad: going from\",keypad_state,\"to\",button)\n",
    "    x,y = keypad_map[button]\n",
    "    i,j = keypad_map[keypad_state]\n",
    "    dx = x-i\n",
    "    dy = y-j\n",
    "\n",
    "    output_string = \"\"\n",
    "\n",
    "    if j == 0 and x == 0: # going from bottom row to the left row - have to avoid missing corner\n",
    "        # go up/down first\n",
    "        inputs_to_fdk = dxdy_to_string_updown(dx,dy)\n",
    "    else:\n",
    "        # go left/right first\n",
    "        inputs_to_fdk = dxdy_to_string_leftright(dx,dy)\n",
    "\n",
    "    for char in inputs_to_fdk:\n",
    "        output_string += generate_first_directional_keypad_sequence(char)\n",
    "        \n",
    "    keypad_state = (button)   \n",
    "    return output_string"
   ]
  },
  {
   "cell_type": "code",
   "execution_count": 27,
   "id": "773c4075-280d-4f73-acf2-9d560729643d",
   "metadata": {},
   "outputs": [],
   "source": [
    "def generate_first_directional_keypad_sequence(button):\n",
    "    global fdk_state\n",
    "\n",
    "    #print(\"FDK: going from\",fdk_state,\"to\",button)\n",
    "    x,y = directional_map[button]  # where we want to go to\n",
    "    i,j = directional_map[fdk_state]  # where we are\n",
    "    dx = x-i\n",
    "    dy = y-j\n",
    "\n",
    "    output_string = \"\"\n",
    "\n",
    "    if button == \"<\" and fdk_state in [\"^\",\"A\"]:\n",
    "        # go up/down first to avoid the missing corner\n",
    "        inputs_to_sdk = dxdy_to_string_updown(dx,dy)\n",
    "        \n",
    "    else:\n",
    "        # go left/right first\n",
    "        inputs_to_sdk = dxdy_to_string_leftright(dx,dy)\n",
    "\n",
    "    for char in inputs_to_sdk:\n",
    "        output_string += generate_second_directional_keypad_sequence(char)\n",
    "        \n",
    "    fdk_state = (button)\n",
    "    #print(\"FDK output:\",output_string)\n",
    "    return output_string"
   ]
  },
  {
   "cell_type": "code",
   "execution_count": 29,
   "id": "1a3373f2-3988-4b43-9d0f-f7a7465cb6bc",
   "metadata": {},
   "outputs": [],
   "source": [
    "def generate_second_directional_keypad_sequence(button):\n",
    "    global sdk_state\n",
    "\n",
    "    #print(\"SDK: going from\",sdk_state,\"(\",directional_map[sdk_state],\")\",\"to\",button)\n",
    "    x,y = directional_map[button]  # where we want to go to\n",
    "    i,j = directional_map[sdk_state]  # where we are\n",
    "    dx = x-i\n",
    "    dy = y-j\n",
    "\n",
    "    if button == \"<\" and fdk_state in [\"^\",\"A\"]:\n",
    "        # go up/down first to avoid the missing corner\n",
    "        output_string = dxdy_to_string_updown(dx,dy)\n",
    "        \n",
    "    else:\n",
    "        # go left/right first\n",
    "        output_string = dxdy_to_string_leftright(dx,dy)\n",
    "    \n",
    "    sdk_state = (button)\n",
    "    #print(\"SDK output:\",output_string)\n",
    "    return output_string"
   ]
  },
  {
   "cell_type": "markdown",
   "id": "a167ebbc-20b9-48bb-8544-f1381a329bab",
   "metadata": {},
   "source": [
    "### Example"
   ]
  },
  {
   "cell_type": "code",
   "execution_count": 32,
   "id": "8a049528-b421-46a8-ac93-388a835bc86e",
   "metadata": {},
   "outputs": [],
   "source": [
    "codes = [\"029A\",\"980A\",\"179A\",\"456A\",\"379A\"]"
   ]
  },
  {
   "cell_type": "code",
   "execution_count": 34,
   "id": "e94bb4be-b3b8-401e-b18d-2d2cff47bc04",
   "metadata": {},
   "outputs": [
    {
     "name": "stdout",
     "output_type": "stream",
     "text": [
      "029A <vA<AA>>^AvAA<^A>Av<<A>>^AvA^A<vA>^A<<vA>^A>AAvA^Av<<A>A>^AAAvA<^A>A 68 29 1972\n",
      "980A v<<A>>^AAAvA^A<vA<AA>>^AvAA<^A>Av<<A>A>^AAAvA<^A>A<vA>^A<A>A 60 980 58800\n",
      "179A v<<A>>^A<vA<A>>^AAvAA<^A>Av<<A>>^AAvA^A<vA>^AA<A>Av<<A>A>^AAAvA<^A>A 68 179 12172\n",
      "456A v<<A>>^AA<vA<A>>^AAvAA<^A>A<vA>^A<A>A<vA>^A<A>Av<<A>A>^AAvA<^A>A 64 456 29184\n",
      "379A v<<A>>^AvA^A<vA<AA>>^AAvA<^A>AAvA^A<vA>^AA<A>Av<<A>A>^AAAvA<^A>A 64 379 24256\n"
     ]
    },
    {
     "data": {
      "text/plain": [
       "126384"
      ]
     },
     "execution_count": 34,
     "metadata": {},
     "output_type": "execute_result"
    }
   ],
   "source": [
    "keypad_state = \"A\"\n",
    "fdk_state = \"A\"\n",
    "sdk_state = \"A\"\n",
    "\n",
    "accumulator = 0\n",
    "for code in codes:\n",
    "    output = \"\"    \n",
    "    for char in code:\n",
    "        output += generate_final_keypad_sequence(char)\n",
    "    print(code,output,len(output),int(code[:3]), int(code[:3])*len(output))\n",
    "    accumulator += int(code[:3])*len(output)\n",
    "accumulator\n",
    "\n",
    "# should be 126384"
   ]
  },
  {
   "cell_type": "markdown",
   "id": "ee38112e-83bf-4822-8ce4-7ed823d3accd",
   "metadata": {},
   "source": [
    "## Part 1"
   ]
  },
  {
   "cell_type": "code",
   "execution_count": 36,
   "id": "72bdd716-d08c-45c7-b217-ba278825fe38",
   "metadata": {},
   "outputs": [],
   "source": [
    "mycodes = [\"140A\",\"170A\",\"169A\",\"803A\",\"129A\"]"
   ]
  },
  {
   "cell_type": "code",
   "execution_count": 38,
   "id": "0ebe1a2e-5b61-4f64-84c5-717ba064a22b",
   "metadata": {},
   "outputs": [
    {
     "name": "stdout",
     "output_type": "stream",
     "text": [
      "140A v<<A>>^A<vA<A>>^AAvAA<^A>Av<<A>>^AvA^A<vA>^A<<vA>>^AAvA<^A>A<vA>^A<A>A 70 140 9800\n",
      "170A v<<A>>^A<vA<A>>^AAvAA<^A>Av<<A>>^AAvA^A<vA>^A<<vA>>^AAAvA<^A>A<vA>^A<A>A 72 170 12240\n",
      "169A v<<A>>^A<vA<A>>^AAvAA<^A>A<vA>^AA<<vA>^A>AvA^Av<<A>>^AvA^Av<<A>A>^AAAvA<^A>A 76 169 12844\n",
      "803A <vA<AA>>^AvA<^A>AAAvA^Av<<A>A>^AAAvA<^A>A<vA>^A<<vA>^A>AvA^Av<<A>A>^AvA<^A>A 76 803 61028\n",
      "129A v<<A>>^A<vA<A>>^AAvAA<^A>A<vA>^A<A>A<vA>^A<<vA>^A>AAvA^Av<<A>A>^AAAvA<^A>A 74 129 9546\n"
     ]
    },
    {
     "data": {
      "text/plain": [
       "105458"
      ]
     },
     "execution_count": 38,
     "metadata": {},
     "output_type": "execute_result"
    }
   ],
   "source": [
    "keypad_state = \"A\"\n",
    "fdk_state = \"A\"\n",
    "sdk_state = \"A\"\n",
    "\n",
    "accumulator = 0\n",
    "for code in mycodes:\n",
    "    output = \"\"    \n",
    "    for char in code:\n",
    "        output += generate_final_keypad_sequence(char)\n",
    "    print(code,output,len(output),int(code[:3]), int(code[:3])*len(output))\n",
    "    accumulator += int(code[:3])*len(output)\n",
    "accumulator\n",
    "\n",
    "# my answer was 105458"
   ]
  },
  {
   "cell_type": "code",
   "execution_count": null,
   "id": "cce4d1ef-2324-4f62-b147-1109c71e0456",
   "metadata": {},
   "outputs": [],
   "source": []
  },
  {
   "cell_type": "code",
   "execution_count": null,
   "id": "5ccb46c5-00fe-4f9c-b87e-cbfc879f1b02",
   "metadata": {},
   "outputs": [],
   "source": []
  },
  {
   "cell_type": "code",
   "execution_count": null,
   "id": "ad52296e-46b8-4658-9719-835dbf957301",
   "metadata": {},
   "outputs": [],
   "source": []
  },
  {
   "cell_type": "markdown",
   "id": "6578f321-f789-4582-bc1c-797a6d4134f1",
   "metadata": {},
   "source": [
    "## Someone else's code"
   ]
  },
  {
   "cell_type": "code",
   "execution_count": null,
   "id": "11db65dd-41a0-4b39-a1d5-3815d3cdb5d2",
   "metadata": {},
   "outputs": [],
   "source": [
    "from collections import Counter\n",
    "\n",
    "codes = [\"029A\",\"980A\",\"179A\",\"456A\",\"379A\"] # example\n",
    "codes = [\"140A\",\"170A\",\"169A\",\"803A\",\"129A\"]\n",
    "\n",
    "keyp = {c: (i % 3, i // 3) for i, c in enumerate(\"789456123 0A\")}\n",
    "dirp = {c: (i % 3, i // 3) for i, c in enumerate(\" ^A<v>\")}\n",
    "\n",
    "\n",
    "def steps(G: dict[complex, str], s: str, i=1):\n",
    "    px, py = G[\"A\"]\n",
    "    bx, by = G[\" \"]\n",
    "    res = Counter()\n",
    "    for c in s:\n",
    "        npx, npy = G[c]\n",
    "        f = npx == bx and py == by or npy == by and px == bx\n",
    "        res[(npx - px, npy - py, f)] += i\n",
    "        px, py = npx, npy\n",
    "    return res\n",
    "\n",
    "\n",
    "def go(n):\n",
    "    r = 0\n",
    "    for code in codes:\n",
    "        res = steps(keyp, code)\n",
    "        for _ in range(n + 1):\n",
    "            res = sum((steps(dirp, (\"<\" * -x + \"v\" * y + \"^\" * -y + \">\" * x)[:: -1 if f else 1] + \"A\", res[(x, y, f)]) for x, y, f in res), Counter())\n",
    "        r += res.total() * int(code[:3])\n",
    "    return r\n",
    "\n",
    "\n",
    "print(go(2))\n",
    "print(go(25))"
   ]
  },
  {
   "cell_type": "code",
   "execution_count": null,
   "id": "27227324-a4cc-45d0-ad10-60ceb2dcf8ba",
   "metadata": {},
   "outputs": [],
   "source": []
  },
  {
   "cell_type": "code",
   "execution_count": null,
   "id": "c18edec5-67ce-4765-b32e-6528793a5384",
   "metadata": {},
   "outputs": [],
   "source": []
  },
  {
   "cell_type": "markdown",
   "id": "1fc14e12-a2cc-40cd-b765-e468da91c422",
   "metadata": {},
   "source": [
    "## Part 2 - incomplete"
   ]
  },
  {
   "cell_type": "code",
   "execution_count": null,
   "id": "e4a73596-1e19-4128-bb8f-8426b0d00ad3",
   "metadata": {},
   "outputs": [],
   "source": [
    "def generate_recursive_keypad_sequence(button, depth):\n",
    "    global dk_state\n",
    "\n",
    "    x,y = directional_map[button]  # where we want to go to\n",
    "    i,j = directional_map[dk_state]  # where we are\n",
    "    dx = x-i\n",
    "    dy = y-j\n",
    "\n",
    "    if button == \"<\" and dk_state in [\"^\",\"A\"]:\n",
    "        # go up/down first to avoid the missing corner\n",
    "        output_string = dxdy_to_string_updown(dx,dy)\n",
    "        \n",
    "    else:\n",
    "        # go left/right first\n",
    "        output_string = dxdy_to_string_leftright(dx,dy)\n",
    "    \n",
    "    dk_state = (button)\n",
    "    \n",
    "    if depth = 25:\n",
    "        return output_string\n",
    "    else:\n",
    "        depth += 1\n",
    "        for char in output_string:\n",
    "            output_string += generate_recursive_keypad_sequence(char, depth)\n",
    "        "
   ]
  }
 ],
 "metadata": {
  "kernelspec": {
   "display_name": "Python 3 (ipykernel)",
   "language": "python",
   "name": "python3"
  },
  "language_info": {
   "codemirror_mode": {
    "name": "ipython",
    "version": 3
   },
   "file_extension": ".py",
   "mimetype": "text/x-python",
   "name": "python",
   "nbconvert_exporter": "python",
   "pygments_lexer": "ipython3",
   "version": "3.10.9"
  }
 },
 "nbformat": 4,
 "nbformat_minor": 5
}
