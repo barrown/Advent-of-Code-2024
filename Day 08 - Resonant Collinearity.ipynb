{
 "cells": [
  {
   "cell_type": "code",
   "execution_count": 1,
   "id": "3b194b67-e892-4775-bb86-ff685a0419cc",
   "metadata": {},
   "outputs": [],
   "source": [
    "with open(\"day_08_input_1.txt\") as fname:\n",
    "    inputmap = fname.readlines()\n",
    "\n",
    "antennae_dict = {}\n",
    "antinodes_dict = {}\n",
    "frequencies = set()\n",
    "\n",
    "for y, line in enumerate(inputmap):\n",
    "    for x, char in enumerate(line.strip()):\n",
    "        antennae_dict[(x,y)] = char\n",
    "        frequencies.add(char)\n",
    "\n",
    "frequencies.remove(\".\")\n",
    "maxcolumns = len(line)\n",
    "maxrows = len(inputmap)"
   ]
  },
  {
   "cell_type": "code",
   "execution_count": 2,
   "id": "3c8b633c-6216-42c9-a7bd-dcc7cf41902a",
   "metadata": {},
   "outputs": [],
   "source": [
    "def valid_location(antinode):\n",
    "    x,y = antinode\n",
    "    if x < 0 or y < 0 or x > maxcolumns-1 or y > maxrows-1:\n",
    "        return False\n",
    "    else:\n",
    "        return True"
   ]
  },
  {
   "cell_type": "code",
   "execution_count": 3,
   "id": "a84f1ea1-30ae-4204-91eb-027dbac11bf5",
   "metadata": {},
   "outputs": [],
   "source": [
    "def find_antinodes(ant1, ant2):\n",
    "    diffx = ant1[0] - ant2[0]\n",
    "    positive_antinode_x = ant1[0] + diffx\n",
    "    negative_antinode_x = ant2[0] - diffx\n",
    "    \n",
    "    diffy = ant1[1] - ant2[1]\n",
    "    positive_antinode_y = ant1[1] + diffy\n",
    "    negative_antinode_y = ant2[1] - diffy\n",
    "\n",
    "    #print(\"\\n\")\n",
    "    #print(\"For ants\",ant1,ant2,\"there is a x-difference of\",diffx,\"and a y-diff of\",diffy)\n",
    "    #print(\"max x is\",max(ant1[0], ant2[0]),\"min x is\",min(ant1[0], ant2[0]))\n",
    "    #print(\"max y is\",max(ant1[1], ant2[1]),\"min y is\",min(ant1[1], ant2[1]))\n",
    "    #print(\"So antinodes are at\",(positive_antinode_x, positive_antinode_y), (negative_antinode_x, negative_antinode_y))\n",
    "    \n",
    "    return((positive_antinode_x, positive_antinode_y), (negative_antinode_x, negative_antinode_y))"
   ]
  },
  {
   "cell_type": "code",
   "execution_count": 4,
   "id": "f90349d5-c441-4385-8c21-e54e0fa99afc",
   "metadata": {},
   "outputs": [],
   "source": [
    "# for each frequency\n",
    "for frequency in frequencies:\n",
    "    list_of_locations = []\n",
    "    # scan through each location\n",
    "    for y in range(maxrows):\n",
    "        for x in range(maxcolumns):\n",
    "            if antennae_dict[(x,y)] == frequency:\n",
    "                list_of_locations.append((x,y))\n",
    "#                antinodes_dict[(x,y)] = frequency          ### for debugging\n",
    "\n",
    "    # making a list, checking it twice\n",
    "    for ant1 in list_of_locations:\n",
    "        for ant2 in list_of_locations:\n",
    "            if ant1 == ant2: continue\n",
    "            for antinode in find_antinodes(ant1, ant2):\n",
    "                if valid_location(antinode):\n",
    "                    antinodes_dict[antinode] = \"#\""
   ]
  },
  {
   "cell_type": "code",
   "execution_count": 5,
   "id": "4cea62f6-2f9b-4c2f-806f-4c29cd08c368",
   "metadata": {},
   "outputs": [
    {
     "data": {
      "text/plain": [
       "276"
      ]
     },
     "execution_count": 5,
     "metadata": {},
     "output_type": "execute_result"
    }
   ],
   "source": [
    "len(antinodes_dict)"
   ]
  },
  {
   "cell_type": "markdown",
   "id": "2b78b6d7-68d8-4d8f-9eb2-3c299dfe23ec",
   "metadata": {},
   "source": [
    "## Part 2"
   ]
  },
  {
   "cell_type": "code",
   "execution_count": 7,
   "id": "88651980-eebf-47de-a269-8cccd1e90204",
   "metadata": {},
   "outputs": [],
   "source": [
    "with open(\"day_08_input_1.txt\") as fname:\n",
    "    inputmap = fname.readlines()\n",
    "\n",
    "antennae_dict = {}\n",
    "antinodes_dict = {}\n",
    "frequencies = set()\n",
    "\n",
    "for y, line in enumerate(inputmap):\n",
    "    for x, char in enumerate(line.strip()):\n",
    "        antennae_dict[(x,y)] = char\n",
    "        frequencies.add(char)\n",
    "\n",
    "frequencies.remove(\".\")\n",
    "maxcolumns = len(line)\n",
    "maxrows = len(inputmap)"
   ]
  },
  {
   "cell_type": "code",
   "execution_count": 8,
   "id": "6eeeb418-670e-4574-b0d1-1ed36fa8af21",
   "metadata": {},
   "outputs": [],
   "source": [
    "def find_all_antinodes(ant1, ant2):\n",
    "    all_antinodes = []\n",
    "    \n",
    "    diffx = ant1[0] - ant2[0]\n",
    "    diffy = ant1[1] - ant2[1]\n",
    "    \n",
    "    for i in range(max(maxrows,maxcolumns)): # make sure we cover the whole map\n",
    "        positive_antinode_x = ant1[0] + diffx*i\n",
    "        negative_antinode_x = ant2[0] - diffx*i\n",
    "            \n",
    "        positive_antinode_y = ant1[1] + diffy*i\n",
    "        negative_antinode_y = ant2[1] - diffy*i\n",
    "\n",
    "        if valid_location((positive_antinode_x, positive_antinode_y)):\n",
    "            all_antinodes.append((positive_antinode_x, positive_antinode_y))\n",
    "        if valid_location((negative_antinode_x, negative_antinode_y)):\n",
    "            all_antinodes.append((negative_antinode_x, negative_antinode_y))\n",
    "        \n",
    "    return(all_antinodes)"
   ]
  },
  {
   "cell_type": "raw",
   "id": "0666b32a-dfff-4674-be2b-510904ac79f1",
   "metadata": {},
   "source": [
    "for y in range(maxrows):\n",
    "    for x in range(maxcolumns):\n",
    "        antinodes_dict[(x,y)] = \".\""
   ]
  },
  {
   "cell_type": "code",
   "execution_count": 9,
   "id": "c7bd2726-eda8-4b6d-a959-19d446f43932",
   "metadata": {},
   "outputs": [],
   "source": [
    "# for each frequency\n",
    "for frequency in frequencies:\n",
    "    list_of_locations = []\n",
    "    # scan through each location\n",
    "    for y in range(maxrows):\n",
    "        for x in range(maxcolumns):\n",
    "            if antennae_dict[(x,y)] == frequency:\n",
    "                list_of_locations.append((x,y))\n",
    "\n",
    "    # making a list, checking it twice\n",
    "    for ant1 in list_of_locations:\n",
    "        for ant2 in list_of_locations:\n",
    "            if ant1 == ant2: continue\n",
    "            for antinode in find_all_antinodes(ant1, ant2):\n",
    "                if valid_location(antinode):\n",
    "                    antinodes_dict[antinode] = \"#\""
   ]
  },
  {
   "cell_type": "raw",
   "id": "f1a84829-c9bc-414e-b314-c1a840772502",
   "metadata": {},
   "source": [
    "for y in range(maxrows):\n",
    "    string = ''\n",
    "    for x in range(maxcolumns):\n",
    "        string = string + antinodes_dict[(x,y)]\n",
    "    print(string)"
   ]
  },
  {
   "cell_type": "code",
   "execution_count": 10,
   "id": "5d8196d4-c3c3-4b75-b7c0-19755a60d094",
   "metadata": {},
   "outputs": [
    {
     "data": {
      "text/plain": [
       "991"
      ]
     },
     "execution_count": 10,
     "metadata": {},
     "output_type": "execute_result"
    }
   ],
   "source": [
    "len(antinodes_dict)"
   ]
  },
  {
   "cell_type": "code",
   "execution_count": null,
   "id": "b6cf8e56-05a8-456a-a792-c5413ef20e9c",
   "metadata": {},
   "outputs": [],
   "source": []
  }
 ],
 "metadata": {
  "kernelspec": {
   "display_name": "Python 3 (ipykernel)",
   "language": "python",
   "name": "python3"
  },
  "language_info": {
   "codemirror_mode": {
    "name": "ipython",
    "version": 3
   },
   "file_extension": ".py",
   "mimetype": "text/x-python",
   "name": "python",
   "nbconvert_exporter": "python",
   "pygments_lexer": "ipython3",
   "version": "3.10.9"
  }
 },
 "nbformat": 4,
 "nbformat_minor": 5
}
