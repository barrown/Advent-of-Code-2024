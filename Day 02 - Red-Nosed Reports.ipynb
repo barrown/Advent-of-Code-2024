{
 "cells": [
  {
   "cell_type": "code",
   "execution_count": 1,
   "id": "4399109f-42e8-4c33-904c-61f146fd8651",
   "metadata": {},
   "outputs": [],
   "source": [
    "with open(\"day_02_input_1.txt\") as fname:\n",
    "    lines = fname.readlines()"
   ]
  },
  {
   "cell_type": "code",
   "execution_count": 2,
   "id": "5e1e9682-7e58-4eba-ac3a-c289c4aea046",
   "metadata": {},
   "outputs": [],
   "source": [
    "list_of_lists = []\n",
    "for line in lines:\n",
    "    splitline = line.split()\n",
    "    list_of_lists.append(splitline)"
   ]
  },
  {
   "cell_type": "code",
   "execution_count": 3,
   "id": "c9304801-3d92-447b-998e-8f0ff022b1ba",
   "metadata": {},
   "outputs": [],
   "source": [
    "def good_jump(report: list) -> bool:\n",
    "    for i in range(len(report)-1):\n",
    "        difference = abs(int(report[i]) - int(report[i+1]))\n",
    "        if difference < 1 or difference > 3:\n",
    "            return False  \n",
    "    return True"
   ]
  },
  {
   "cell_type": "raw",
   "id": "cd47978e-ce16-478a-82f3-8cb75827bd50",
   "metadata": {},
   "source": [
    "for report in list_of_lists:\n",
    "    print(good_jump(report))"
   ]
  },
  {
   "cell_type": "code",
   "execution_count": 4,
   "id": "5167f262-0c1d-4165-8ef8-4a3a9bea7ac2",
   "metadata": {},
   "outputs": [],
   "source": [
    "def monotonic(report: list) -> bool:\n",
    "    sign = 0\n",
    "    for i in range(len(report)-1):\n",
    "        difference = int(report[i]) - int(report[i+1])\n",
    "        if difference > 0:\n",
    "            sign += 1\n",
    "        elif difference < 0:\n",
    "            sign += -1\n",
    "        else:\n",
    "            return False\n",
    "    if abs(sign) == len(report)-1:\n",
    "        return True\n",
    "    else:\n",
    "        return False"
   ]
  },
  {
   "cell_type": "raw",
   "id": "3842f72c-c78f-4a91-b588-f5d013de4e8e",
   "metadata": {},
   "source": [
    "for report in list_of_lists:\n",
    "    print(monotonic(report))"
   ]
  },
  {
   "cell_type": "code",
   "execution_count": 5,
   "id": "6dd432e2-14d9-47a0-88ba-e0660659e79a",
   "metadata": {},
   "outputs": [
    {
     "data": {
      "text/plain": [
       "359"
      ]
     },
     "execution_count": 5,
     "metadata": {},
     "output_type": "execute_result"
    }
   ],
   "source": [
    "safe_reports = 0\n",
    "for report in list_of_lists:\n",
    "    if monotonic(report):\n",
    "        if good_jump(report):\n",
    "            safe_reports += 1\n",
    "safe_reports"
   ]
  },
  {
   "cell_type": "code",
   "execution_count": 6,
   "id": "cd961bc1-427a-49ae-9a3e-6fac86529a67",
   "metadata": {},
   "outputs": [],
   "source": [
    "def problem_dampener(report: list) -> bool:\n",
    "    for level in range(len(report)):\n",
    "        modified_report = [element for i, element in enumerate(report) if i != level]\n",
    "        if monotonic(modified_report):\n",
    "            if good_jump(modified_report):\n",
    "                return True\n",
    "    return False"
   ]
  },
  {
   "cell_type": "raw",
   "id": "4d34aae3-b944-4a62-b005-ce71d374d588",
   "metadata": {},
   "source": [
    "for report in list_of_lists:\n",
    "    print(problem_dampener(report))"
   ]
  },
  {
   "cell_type": "code",
   "execution_count": 7,
   "id": "cb9555e6-7f17-45d1-93cf-a6da982cebdb",
   "metadata": {},
   "outputs": [
    {
     "data": {
      "text/plain": [
       "418"
      ]
     },
     "execution_count": 7,
     "metadata": {},
     "output_type": "execute_result"
    }
   ],
   "source": [
    "safe_reports = 0\n",
    "for report in list_of_lists:\n",
    "    if monotonic(report):\n",
    "        if good_jump(report):\n",
    "            safe_reports += 1\n",
    "        else:\n",
    "            if problem_dampener(report):\n",
    "                safe_reports += 1\n",
    "    else:\n",
    "        if problem_dampener(report):\n",
    "            safe_reports += 1\n",
    "            \n",
    "safe_reports"
   ]
  }
 ],
 "metadata": {
  "kernelspec": {
   "display_name": "Python 3 (ipykernel)",
   "language": "python",
   "name": "python3"
  },
  "language_info": {
   "codemirror_mode": {
    "name": "ipython",
    "version": 3
   },
   "file_extension": ".py",
   "mimetype": "text/x-python",
   "name": "python",
   "nbconvert_exporter": "python",
   "pygments_lexer": "ipython3",
   "version": "3.10.9"
  }
 },
 "nbformat": 4,
 "nbformat_minor": 5
}
