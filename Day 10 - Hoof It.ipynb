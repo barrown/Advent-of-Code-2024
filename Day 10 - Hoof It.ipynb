{
 "cells": [
  {
   "cell_type": "raw",
   "id": "8b140b95-3113-4960-820d-66b3c3c3b27d",
   "metadata": {},
   "source": [
    "Day 10 with the hiking trail maps, I wrote my first recursive function, but it was pretty shonky passing lots of variables and also using globals, definitely room for improvement!"
   ]
  },
  {
   "cell_type": "code",
   "execution_count": 1,
   "id": "cbe2edc4-a54e-4790-b891-fceb85df2ab0",
   "metadata": {},
   "outputs": [],
   "source": [
    "with open(\"day_10_input_1.txt\") as fname:\n",
    "    topographicmap = fname.readlines()\n",
    "\n",
    "dictionary = {}\n",
    "\n",
    "for y, line in enumerate(topographicmap):\n",
    "    for x, height in enumerate(line.strip()):\n",
    "        dictionary[(x,y)] = int(height)\n",
    "\n",
    "maxcolumns = len(line)\n",
    "maxrows = len(topographicmap)"
   ]
  },
  {
   "cell_type": "code",
   "execution_count": 2,
   "id": "4981cf69-dca8-4db4-aae5-149de7448bbc",
   "metadata": {},
   "outputs": [
    {
     "name": "stdout",
     "output_type": "stream",
     "text": [
      "789032789543098712965101221019898103456454321\n",
      "470101678632105601876234034548781012765467100\n",
      "563210589789234512345549123697650101884398234\n",
      "454321430765432021236678998780143289991207965\n",
      "569834321898321130107654854012234676580312870\n",
      "578765010876980233498746763873401785676543541\n",
      "654321101945676542567832312964332694650145632\n",
      "765010210132156701010901203455963503765234701\n",
      "890124301231049878921001892396854412894339899\n",
      "981234456745030765432132701287760321023421078\n",
      "878965467896121076501245655332981212014322369\n",
      "690872356987232387431056986541274301015410450\n",
      "781081076578105498922347897890765412176704321\n",
      "632198985469216787011056785671893013089894565\n",
      "540345672354301017832345894789342104589723676\n",
      "891201451654302156901236893201230235678018985\n",
      "765432360783213443789107763196541343654321832\n",
      "654321078890198532876898632087832452789210101\n",
      "763011219912987691945678521087970961087123432\n",
      "892100308803676780032109431096981878996098542\n",
      "763965496734587654129818012345672345895467621\n",
      "354876785021096743016741001096789656760398930\n",
      "210787694103210892105432876585438769451207845\n",
      "321896543254387431012348965476323478300116596\n",
      "456910132123496545678256012365010565212323487\n",
      "787851401094563430789107101290126651054334678\n",
      "296542349887692321690678910987637892167210509\n",
      "101231056743781010541569010856546543098123418\n",
      "107645456652110127632438321658034012189014328\n",
      "298540365789054308971301434569122343276578789\n",
      "343231273210163210780210598778701656965489678\n",
      "850140984912378905698345699657892767874300569\n",
      "961001545805412344321010780346789876543211430\n",
      "873210656766901256543221271239654900612012321\n",
      "904589578927810187056102340128763211701012980\n",
      "012679865014321092167895434036650132890343478\n",
      "123456784325691233456996125675432147812334569\n",
      "456321092106780541245587098986789056903425876\n",
      "327867801256545650387654387129876541012510945\n",
      "010956910347838765495601296032989230109654354\n",
      "323843223498929678344760125141090121098701223\n",
      "456798114567012389413891434657890010567890110\n",
      "012387000345433678102110123766321023498989010\n",
      "323456781256921067221087432875435432103478321\n",
      "434321098987834554342196501989876301012565432\n"
     ]
    }
   ],
   "source": [
    "# look at the map - doesn't work with ints\n",
    "for y in range(maxrows):\n",
    "    string = ''\n",
    "    for x in range(maxcolumns):\n",
    "        string = string + str(dictionary[(x,y)])\n",
    "    print(string)"
   ]
  },
  {
   "cell_type": "code",
   "execution_count": 3,
   "id": "54fc4746-1701-40c7-8110-6ec1a5753da6",
   "metadata": {},
   "outputs": [],
   "source": [
    "# get the list of trailheads\n",
    "list_of_trailheads = [coord for coord in dictionary if dictionary[coord] == 0]"
   ]
  },
  {
   "cell_type": "code",
   "execution_count": 4,
   "id": "49a18b56-5ef6-42cd-b9c3-8a382bbf1b96",
   "metadata": {},
   "outputs": [],
   "source": [
    "def valid_location(x, y):\n",
    "    if x < 0 or y < 0 or x >= maxcolumns or y >= maxrows:\n",
    "        return False\n",
    "    else:\n",
    "        return True"
   ]
  },
  {
   "cell_type": "code",
   "execution_count": 15,
   "id": "55972370-785a-4627-85e3-4c40e109227a",
   "metadata": {},
   "outputs": [],
   "source": [
    "def scan_terrain(x, y, next_height, ox, oy):\n",
    "    global dict_of_sets\n",
    "    global part2\n",
    "    if next_height == 10:\n",
    "        #print(\"completed a trail ending at\", x, y)\n",
    "        dict_of_sets[(ox, oy)].add((x, y))\n",
    "        part2 += 1\n",
    "\n",
    "    if valid_location(x+1,y):\n",
    "        #print(\"looking at\",x+1,y,\"for\",next_height)\n",
    "        if dictionary[(x+1,y)] == next_height:\n",
    "            scan_terrain(x+1, y, next_height+1, ox, oy)\n",
    "        \n",
    "    if valid_location(x-1,y):\n",
    "        #print(\"looking at\",x-1,y,\"for\",next_height)\n",
    "        if dictionary[(x-1,y)] == next_height:\n",
    "            scan_terrain(x-1, y, next_height+1, ox, oy)\n",
    "        \n",
    "    if valid_location(x,y+1):\n",
    "        #print(\"looking at\",x,y+1,\"for\",next_height)\n",
    "        if dictionary[(x,y+1)] == next_height:\n",
    "            scan_terrain(x, y+1, next_height+1, ox, oy)\n",
    "        \n",
    "    if valid_location(x,y-1):\n",
    "        #print(\"looking at\",x,y-1,\"for\",next_height)\n",
    "        if dictionary[(x,y-1)] == next_height:\n",
    "            scan_terrain(x, y-1, next_height+1, ox, oy)"
   ]
  },
  {
   "cell_type": "code",
   "execution_count": 17,
   "id": "ebbfaf99-9195-4dae-9f13-cf2dfa8112de",
   "metadata": {},
   "outputs": [
    {
     "name": "stdout",
     "output_type": "stream",
     "text": [
      "617\n",
      "1477\n"
     ]
    }
   ],
   "source": [
    "part1 = 0\n",
    "part2 = 0\n",
    "dict_of_sets = {}\n",
    "for trailhead in list_of_trailheads:\n",
    "    dict_of_sets[trailhead] = set()\n",
    "    ox, oy = trailhead\n",
    "    scan_terrain(ox, oy, 1, ox, oy)\n",
    "    part1 += len(dict_of_sets[trailhead])\n",
    "print(part1)\n",
    "print(part2)"
   ]
  },
  {
   "cell_type": "code",
   "execution_count": 9,
   "id": "f3073e2a-ca1a-4b69-94d7-a65387d34875",
   "metadata": {},
   "outputs": [
    {
     "data": {
      "text/plain": [
       "617"
      ]
     },
     "execution_count": 9,
     "metadata": {},
     "output_type": "execute_result"
    }
   ],
   "source": [
    "accumulator"
   ]
  },
  {
   "cell_type": "code",
   "execution_count": null,
   "id": "a27efae8-7bf2-4794-b07e-6fef0edc0ef4",
   "metadata": {},
   "outputs": [],
   "source": []
  }
 ],
 "metadata": {
  "kernelspec": {
   "display_name": "Python 3 (ipykernel)",
   "language": "python",
   "name": "python3"
  },
  "language_info": {
   "codemirror_mode": {
    "name": "ipython",
    "version": 3
   },
   "file_extension": ".py",
   "mimetype": "text/x-python",
   "name": "python",
   "nbconvert_exporter": "python",
   "pygments_lexer": "ipython3",
   "version": "3.10.9"
  }
 },
 "nbformat": 4,
 "nbformat_minor": 5
}
