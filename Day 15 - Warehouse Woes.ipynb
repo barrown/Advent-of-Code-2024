{
 "cells": [
  {
   "cell_type": "raw",
   "id": "f45a87cf-0df4-42d8-b5ba-b520d0e6ac10",
   "metadata": {},
   "source": [
    "Day 15 was also fun, I ended up with 6 functions to handle all the repetitive tasks of pushing boxes around the warehouse, and even made my first visualisation for Part 1. I couldn't figure out how to solve Part 2 though."
   ]
  },
  {
   "cell_type": "markdown",
   "id": "7ff0d513-de29-4b85-9ba8-326258a0eb1e",
   "metadata": {},
   "source": [
    "## Read in the map and instructions"
   ]
  },
  {
   "cell_type": "code",
   "execution_count": 2,
   "id": "13f7ecd9-4f87-4fea-9117-5a03ef18f401",
   "metadata": {},
   "outputs": [],
   "source": [
    "with open(\"day_15_input_2.txt\") as fname:\n",
    "    map = fname.read()"
   ]
  },
  {
   "cell_type": "code",
   "execution_count": 3,
   "id": "7eef1406-c66d-4c0d-b4d6-cbc4546014db",
   "metadata": {},
   "outputs": [],
   "source": [
    "map, instructions = map.split(\"\\n\\n\")"
   ]
  },
  {
   "cell_type": "code",
   "execution_count": 4,
   "id": "29d1e71c-d061-4ef8-b387-bf12f6b2b2fe",
   "metadata": {},
   "outputs": [
    {
     "data": {
      "text/plain": [
       "['##################################################',\n",
       " '#..O.O..#..O.O.O.O.......##O..OOO.....O...O..#..O#',\n",
       " '#.O.O.#.....O..O......O.O.OOO.......OO.O.....#...#',\n",
       " '#OO........O.....OO......##OO.#OO.OO..O....OOO...#',\n",
       " '#......O...O..O.#....O...O.....O..#.O.O.O...#O...#',\n",
       " '#OOO.OO.OO...####O.#O...O..OO...O#.O..#.OO.O...O.#',\n",
       " '#O#...OOOO......O#O#....#OO...O.....O.O.OOO.OOO..#',\n",
       " '#O.O...O.#OO......#...........O...OO.O..O#.#OO...#',\n",
       " '#O.....O.O.O.#...OO..O#....OO.O.O....#.........O.#',\n",
       " '#.O.#O.O#...O#..O.O.#.O.OO..O..O...O.O...OO.O...O#',\n",
       " '#..#..O.#.O..##......OO...........O.....O...#.#..#',\n",
       " '#.OO#.........O...O.....OO.O...OO............O#.O#',\n",
       " '##.O.OO.O...O.O..O..OO.#....O.#....O......OOO...O#',\n",
       " '#..OO..O.O..O..O..O...O..O.....#OO.....O...#OOO.O#',\n",
       " '#.......O.#O.OO..#......O..OO.......O..O.O....OO##',\n",
       " '#.....O.........O...#.O..O..#OO.O...O.O.#....O...#',\n",
       " '#.OO##O#..O.#..O......OO..OO.OO.....O..OO#O.O..O##',\n",
       " '#.O....O...#O.O..O#....O#O...OO.....O....O.......#',\n",
       " '#...OOO....#O.OO...#.OO#O...O#O..#..#.O..O....#..#',\n",
       " '##....O.OO.O#..........O#.OOO.#....#...O#....OO..#',\n",
       " '#.#OOO..OO..O.......#.OO.O..#O.#.OO....OO.O.....O#',\n",
       " '#.O......#..O.#.O..........#O..O.OO...#O...O#....#',\n",
       " '#.#....O.O....O.......O..OOO..OO...OO.#OOO.O.O.#.#',\n",
       " '#.O.#.O.O....OOO...O...O#......OO##.O..OO.....O..#',\n",
       " '#.OO.......#O.OO#..#....@O...O....OOO.O..OO......#',\n",
       " '#O..#..#OO...O#OO.......OO..##..O.#.O.O..O.O..OO.#',\n",
       " '#.#.O.OO.........OO#.O..O.O...OOO.O......O#...OO.#',\n",
       " '#.OO...#..OO.##......O#.O.OO....O..O#.......O.OO##',\n",
       " '#OO..O.O.O....O#.O..O......#...OO#.O..O.O..O..OOO#',\n",
       " '#...OO....OOO.....O..O..O....OO......OOO.........#',\n",
       " '#O...#.....O...O..OO..O.OO....O.O..O....O....O.O.#',\n",
       " '#.....OOOO..#..#.O.OO.......O....OO#.O...O..O..O.#',\n",
       " '##.OO...O.#O......#O.O#O#..O#..O.....O....OO..O.##',\n",
       " '#..O..OOO...OO.OO.#O#.OOO......O...OO...O.O......#',\n",
       " '#.OO.O..O.O.O#..O.#.O.OOO...O..OO.O##.O.#...#...O#',\n",
       " '#........#...O##.....OO....O.O....OO#.O.O.O.#OO.O#',\n",
       " '#.O..O.O.#...O.......#...#..O...O.#.........#..O##',\n",
       " '#...........O.....O..OO.......#..#...O...#..O.##O#',\n",
       " '#.OOO..O..OO....#..OOOO......O...##..#.......O...#',\n",
       " '##..#O..OOO.#O...O..OO...O....OO..#..#.OO.O.OO...#',\n",
       " '##O....#...OO#.O.O...O...O.O..O.......O.....O..#.#',\n",
       " '#........#.O##...O#..O..O.#O........O#..OO#.O.O###',\n",
       " '#....#.O............O..O...OO....OOO...OO...#....#',\n",
       " '#.#O.....#...OO.OO.........#.#.OOO.OO.O...O#.O.#.#',\n",
       " '##....#..OO...O...O..#O..O.O..O.O..O..O.OO.......#',\n",
       " '#...........OO.O.O...O......O...O.OOO.....O..O...#',\n",
       " '##O.O..O.O...O.....O.O.O.O.OO.#O.O.O..#.....#....#',\n",
       " '##.O.......#O.#...O#O#O..O..#O..O....OO.O.O......#',\n",
       " '#O...O.O.........O......O.......O......#..O.....##',\n",
       " '##################################################']"
      ]
     },
     "execution_count": 4,
     "metadata": {},
     "output_type": "execute_result"
    }
   ],
   "source": [
    "map = map.splitlines()\n",
    "map"
   ]
  },
  {
   "cell_type": "code",
   "execution_count": 5,
   "id": "576f1b5c-b24f-48a5-a522-ab4b61cee446",
   "metadata": {},
   "outputs": [
    {
     "name": "stdout",
     "output_type": "stream",
     "text": [
      "50 50\n"
     ]
    }
   ],
   "source": [
    "maxcolumns = len(map[0])\n",
    "maxrows = len(map)\n",
    "print(maxcolumns,maxrows)"
   ]
  },
  {
   "cell_type": "code",
   "execution_count": null,
   "id": "dbcd4413-033f-4b3e-a227-33c3253d642d",
   "metadata": {},
   "outputs": [],
   "source": [
    "instructions = instructions.replace(\"\\n\",\"\")\n",
    "instructions"
   ]
  },
  {
   "cell_type": "code",
   "execution_count": 7,
   "id": "7f8ba205-d87c-4c01-be4e-dd0685d8e077",
   "metadata": {},
   "outputs": [],
   "source": [
    "# get map into dictionary form\n",
    "global dictionary\n",
    "dictionary = {}\n",
    "\n",
    "for y, line in enumerate(map):\n",
    "    for x, char in enumerate(line):\n",
    "        dictionary[(x,y)] = char"
   ]
  },
  {
   "cell_type": "code",
   "execution_count": null,
   "id": "52e715f4-8024-4168-94d6-794e25118201",
   "metadata": {},
   "outputs": [],
   "source": [
    "# visualise\n",
    "def print_map():\n",
    "    for y in range(maxrows):\n",
    "        string = ''\n",
    "        for x in range(maxcolumns):\n",
    "            string = string + dictionary[(x,y)]\n",
    "        print(string)\n",
    "print_map()"
   ]
  },
  {
   "cell_type": "code",
   "execution_count": 9,
   "id": "8cda9d09-2305-4034-863a-d047a25de926",
   "metadata": {},
   "outputs": [
    {
     "name": "stdout",
     "output_type": "stream",
     "text": [
      "24 24\n"
     ]
    }
   ],
   "source": [
    "# find where the robot starts\n",
    "x, y = [coord for coord in dictionary if dictionary[coord] == \"@\"][0]\n",
    "print(x,y)"
   ]
  },
  {
   "cell_type": "markdown",
   "id": "1c808242-0f95-4ef0-81f8-1cfc67dcd75f",
   "metadata": {},
   "source": [
    "## function to find if there are any empty spaces in a certain direction"
   ]
  },
  {
   "cell_type": "code",
   "execution_count": 11,
   "id": "b5266836-647b-4c3a-a490-cac6de35770d",
   "metadata": {},
   "outputs": [],
   "source": [
    "def sonar(x, y, direction):\n",
    "    if direction == \"<\":\n",
    "        return [\"\".join(dictionary[(i,y)]) for i in range(0,x)][::-1]  # [::-1] steps backwards through the list reversing it\n",
    "    elif direction == \"^\":\n",
    "        return [\"\".join(dictionary[(x,i)]) for i in range(0,y)][::-1]\n",
    "    elif direction == \">\":\n",
    "        return [\"\".join(dictionary[(i,y)]) for i in range(x+1,maxcolumns)]\n",
    "    elif direction == \"v\":\n",
    "        return [\"\".join(dictionary[(x,i)]) for i in range(y+1,maxrows)]"
   ]
  },
  {
   "cell_type": "code",
   "execution_count": 12,
   "id": "d6368448-8aa7-443b-accd-d4c07f4ba794",
   "metadata": {},
   "outputs": [],
   "source": [
    "def empty_spaces(x, y, direction):\n",
    "    if direction == \"<\":\n",
    "        return \".\" in sonar(x, y, direction)\n",
    "    elif direction == \"^\":\n",
    "        return \".\" in sonar(x, y, direction)\n",
    "    elif direction == \">\":\n",
    "        return \".\" in sonar(x, y, direction)\n",
    "    elif direction == \"v\":\n",
    "        return \".\" in sonar(x, y, direction)\n"
   ]
  },
  {
   "cell_type": "markdown",
   "id": "82956185-67ed-4dc1-8377-a5e4735c9e1a",
   "metadata": {},
   "source": [
    "## Function to check we can move the box without it being block"
   ]
  },
  {
   "cell_type": "code",
   "execution_count": 25,
   "id": "5bce2f78-9fd7-48ef-a0d7-498dcfe691f0",
   "metadata": {},
   "outputs": [],
   "source": [
    "def not_blocked(x, y, direction):\n",
    "    # there is definitely and empty space at some point ahead, and we're bound by the grid walls\n",
    "    # if the wall is further away (greater) than the empty space, we're not blocked\n",
    "    return \"\".join(sonar(x, y, direction)).find(\"#\") > \"\".join(sonar(x, y, direction)).find(\".\")"
   ]
  },
  {
   "cell_type": "markdown",
   "id": "abc3fad7-2b65-477f-b107-008ad6e17122",
   "metadata": {},
   "source": [
    "## function to find what we're moving into"
   ]
  },
  {
   "cell_type": "code",
   "execution_count": 28,
   "id": "edfbe1f3-75b3-43b4-8ec3-dd72c991f6b4",
   "metadata": {},
   "outputs": [],
   "source": [
    "def in_front(x, y, direction):\n",
    "    if direction == \"^\":\n",
    "        y -= 1\n",
    "    elif direction == \"v\":\n",
    "        y += 1\n",
    "    elif direction == \"<\":\n",
    "        x -= 1\n",
    "    elif direction == \">\":\n",
    "        x += 1\n",
    "        \n",
    "    return dictionary[(x, y)]"
   ]
  },
  {
   "cell_type": "markdown",
   "id": "42cd8ee2-6397-43b0-bac8-72411b55f71b",
   "metadata": {},
   "source": [
    "## what to do with the object ahead"
   ]
  },
  {
   "cell_type": "code",
   "execution_count": 31,
   "id": "77a66f77-3c8b-468b-b539-5eb7a1b7c69e",
   "metadata": {},
   "outputs": [],
   "source": [
    "def robot_can_move(x, y, direction):\n",
    "    if in_front(x, y, direction) == \"O\":\n",
    "        #print(\"box in front\")\n",
    "        if empty_spaces(x, y, direction):\n",
    "            if not_blocked(x, y, direction):\n",
    "                push_boxes(x, y, direction)\n",
    "                return True\n",
    "            else:\n",
    "                #print(\"blocked by object\")\n",
    "                return False # blocked\n",
    "    elif in_front(x, y, direction) == \".\":\n",
    "        return True\n",
    "    elif in_front(x, y, direction) == \"#\":\n",
    "        #print(\"hit wall\")\n",
    "        return False"
   ]
  },
  {
   "cell_type": "markdown",
   "id": "48a5b410-4fae-417a-b3c7-67c41c140222",
   "metadata": {},
   "source": [
    "## move boxes"
   ]
  },
  {
   "cell_type": "code",
   "execution_count": 33,
   "id": "83e5bcaf-380e-4244-bd01-d24c9416471f",
   "metadata": {},
   "outputs": [],
   "source": [
    "def push_boxes(x, y, direction):\n",
    "    global dictionary\n",
    "    # find the location of the first . in the direction\n",
    "    dist_to_space = \"\".join(sonar(x, y, direction)).find(\".\")\n",
    "\n",
    "    # create a box at that location, and remove one from the position in front\n",
    "    if direction == \"^\":\n",
    "        dictionary[(x,y-1)] = \".\"\n",
    "        dictionary[(x,y-dist_to_space-1)] = \"O\"\n",
    "    elif direction == \"v\":\n",
    "        dictionary[(x,y+1)] = \".\"\n",
    "        dictionary[(x,y+dist_to_space+1)] = \"O\"\n",
    "    elif direction == \"<\":\n",
    "        dictionary[(x-1,y)] = \".\"\n",
    "        dictionary[(x-dist_to_space-1,y)] = \"O\"\n",
    "    elif direction == \">\":\n",
    "        dictionary[(x+1,y)] = \".\"\n",
    "        dictionary[(x+dist_to_space+1,y)] = \"O\""
   ]
  },
  {
   "cell_type": "markdown",
   "id": "906f46b0-881a-4a32-833a-3e7a96b18429",
   "metadata": {},
   "source": [
    "## Follow the instructions"
   ]
  },
  {
   "cell_type": "code",
   "execution_count": 35,
   "id": "d4a92002-a9dc-4639-b793-9a5d9e3baeaf",
   "metadata": {},
   "outputs": [],
   "source": [
    "x, y = [coord for coord in dictionary if dictionary[coord] == \"@\"][0]\n",
    "dictionary[(x,y)] = \".\"\n",
    "\n",
    "for direction in instructions:\n",
    "    if robot_can_move(x, y, direction):\n",
    "        if direction == \"^\":\n",
    "            y -= 1\n",
    "        elif direction == \"v\":\n",
    "            y += 1\n",
    "        elif direction == \"<\":\n",
    "            x -= 1\n",
    "        elif direction == \">\":\n",
    "            x += 1\n",
    "\n",
    "    #print(\"X=\",x,\"  Y=\",y)\n",
    "    #dictionary[(x,y)] = \"@\"\n",
    "    #print_map()\n",
    "    #dictionary[(x,y)] = \".\"\n",
    "    #print(\"\\n\")"
   ]
  },
  {
   "cell_type": "code",
   "execution_count": 36,
   "id": "df7c70a8-0e12-41ac-b35d-f79474a301bb",
   "metadata": {},
   "outputs": [
    {
     "name": "stdout",
     "output_type": "stream",
     "text": [
      "##################################################\n",
      "#.OOOO.O#.OOOOOOOO.....OO##O.OOOO..OOOOO...O.#..O#\n",
      "#.OOOO#.....OO..........OOOOOOOO......O....O.#...#\n",
      "#O...OOO.....O...........##OO.#O.OO.........OOO..#\n",
      "#O.........O.OOO#.............OOOO#.........#O..O#\n",
      "#OO........OO####OO#....OO.O....O#....#....O.....#\n",
      "#O#..O.........OO#O#...O#OO..O....O...O..O...OO..#\n",
      "#O.......#......OO#O......O........OO...O#O#O.O..#\n",
      "#OO.....O.O..#...OOOO.#..O..O..O...OO#.OO...O....#\n",
      "#.OO#..O#.O..#....OO#.O....O.......OO...O...O...O#\n",
      "#..#O..O#O...##.........OOO..@......O.......#O#.O#\n",
      "#.OO#.O......O.......O..OO.OO...............OO#.O#\n",
      "##.O..O..............OO#.O..O.#...OO.O......OOOOO#\n",
      "#OO...O.O..O.......O.O....OOO..#...........#OO.OO#\n",
      "#.........#.O....#...OO....OO...O..........OOO..##\n",
      "#.........OOOO......#.O....O#..OOOO.O.OO#..O.....#\n",
      "#...##.#O..O#O......OOO.........OO.O..OOO#.O...O##\n",
      "#O.........#OO.O..#O...O#..O.OO.....O.OO.OOO.....#\n",
      "#OO...O...O#OO...OO#...#OO..O#O..#..#..OOO..O.#..#\n",
      "##O......O.O#....OO....O#O..OO#.O..#OO..#O.......#\n",
      "#.#OO....OOOO..O....#....OO.#OO#OO..OO.O.........#\n",
      "#.O.O....#..O.#............#OOOOOOOOOO#O....#.O..#\n",
      "#.#OOO......O..................OOOOO..#.......O#.#\n",
      "#.O.#....OO.........OO..#.......O##O.......O.....#\n",
      "#OOO......O#...O#.O#OO.O........OOO....O.........#\n",
      "#O..#.O#......#O.....OO...O.##...O#.......OO..OOO#\n",
      "#.#OO.OO...........#.OOO.....O......O...O.#OOO.OO#\n",
      "#.OO.OO#O...O##O...O..#O..........OO#....O..O...##\n",
      "#OOOOOOO...OOOO#.......O...#.....#.............OO#\n",
      "#...OO...............O..O.............OO...OOOO..#\n",
      "#O...#O..........OO..O..O..OO.O......O......O.OOO#\n",
      "#OOOOO...O..#..#O.OOOOOOOOO.......O#....O...O...O#\n",
      "##.OO..OOO#.O....O#OO.#.#...#...OO..O........O..##\n",
      "#OOOO.............#O#.OO...O....OO....O.........O#\n",
      "#O.......O...#OOO.#...OOO.......OOO##O..#...#..OO#\n",
      "#O.......#...O##.....OOO..OO..O.OOOO#O......#..OO#\n",
      "#.O....OO#...OO......#OO.#......OO#...O.....#..O##\n",
      "#.OOO.O..........O.O...OO.....#.O#...O...#....##O#\n",
      "#OOOO...........#.......O.......O##..#...........#\n",
      "##..#.......#O............OO....OO#..#.....O...OO#\n",
      "##O....#....O#..O.O......O.....O.....O.....OOOO#.#\n",
      "#..O.O.O.#.O##...O#......O#..........#O...#O.O.###\n",
      "#....#.....OO........................OO...OO#O.O.#\n",
      "#.#......#OO.....O....OO...#O#O.......O...O#...#.#\n",
      "##....#OOOOO......O..#......OOOO.........O.......#\n",
      "#........O...............O..O.........O..O..OO...#\n",
      "##O.....O.......O.O........O.O#..O...O#OOO.O#.O..#\n",
      "##.O.......#.O#..OO#O#O....O#O.OOOOO...O.O.OOOO..#\n",
      "#O..OO.O....OOOOOOOOO.O...OOOO.OOO.....#...O...O##\n",
      "##################################################\n"
     ]
    }
   ],
   "source": [
    "dictionary[(x,y)] = \"@\"\n",
    "print_map()"
   ]
  },
  {
   "cell_type": "markdown",
   "id": "e8367e7a-fd69-4d56-8a54-5487ee332e30",
   "metadata": {},
   "source": [
    "## Function to sum all GPS coordinates"
   ]
  },
  {
   "cell_type": "code",
   "execution_count": 38,
   "id": "28aad714-60ee-443e-bdf8-c1324d06dbea",
   "metadata": {},
   "outputs": [],
   "source": [
    "boxes = [coord for coord in dictionary if dictionary[coord] == \"O\"]"
   ]
  },
  {
   "cell_type": "code",
   "execution_count": 39,
   "id": "644ff68f-13ec-4aa9-9612-be5571dfb4a6",
   "metadata": {},
   "outputs": [
    {
     "data": {
      "text/plain": [
       "1487337"
      ]
     },
     "execution_count": 39,
     "metadata": {},
     "output_type": "execute_result"
    }
   ],
   "source": [
    "accumulator = 0\n",
    "for box in boxes:\n",
    "    fromleft, fromtop = box\n",
    "    accumulator += 100 *  fromtop + fromleft\n",
    "accumulator"
   ]
  },
  {
   "cell_type": "code",
   "execution_count": null,
   "id": "4fc94e85-8fc9-4e31-875e-09e11c8cb4c4",
   "metadata": {},
   "outputs": [],
   "source": []
  }
 ],
 "metadata": {
  "kernelspec": {
   "display_name": "Python 3 (ipykernel)",
   "language": "python",
   "name": "python3"
  },
  "language_info": {
   "codemirror_mode": {
    "name": "ipython",
    "version": 3
   },
   "file_extension": ".py",
   "mimetype": "text/x-python",
   "name": "python",
   "nbconvert_exporter": "python",
   "pygments_lexer": "ipython3",
   "version": "3.10.9"
  }
 },
 "nbformat": 4,
 "nbformat_minor": 5
}
