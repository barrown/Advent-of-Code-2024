{
 "cells": [
  {
   "cell_type": "raw",
   "id": "c9dd3585-d88d-415d-9108-d28dc349941f",
   "metadata": {},
   "source": [
    "Day 3 I used regex, which I knew a little, but I learnt more:\n",
    "Without re.DOTALL \".\" matches any character except a newline, with re.DOTALL newlines are matched as well.\n",
    ".+? the + matches 1 or more, but the ? makes it lazy, just grabbing as few characters as possible."
   ]
  },
  {
   "cell_type": "code",
   "execution_count": 168,
   "id": "62ec1439-19ae-4071-925b-5e3dba3a48a4",
   "metadata": {},
   "outputs": [],
   "source": [
    "with open(\"day_03_input_1.txt\") as fname:\n",
    "    memory = fname.readlines()"
   ]
  },
  {
   "cell_type": "code",
   "execution_count": 178,
   "id": "c6ba473a-ba2b-4a58-a937-0b31a1ea4b25",
   "metadata": {},
   "outputs": [],
   "source": [
    "from operator import mul"
   ]
  },
  {
   "cell_type": "code",
   "execution_count": 170,
   "id": "c6ebf048-2847-425f-afd5-9b7441ee9818",
   "metadata": {},
   "outputs": [],
   "source": [
    "import re\n",
    "regex_mul = re.compile(r\"mul\\(\\d{1,3},\\d{1,3}\\)\")\n",
    "regex_dontdo = re.compile(r\"don't\\(\\).+?do\\(\\)\", re.DOTALL)"
   ]
  },
  {
   "cell_type": "code",
   "execution_count": 184,
   "id": "7d30fa6d-b91f-4c27-a79a-109eef03f08d",
   "metadata": {},
   "outputs": [
    {
     "data": {
      "text/plain": [
       "174103751"
      ]
     },
     "execution_count": 184,
     "metadata": {},
     "output_type": "execute_result"
    }
   ],
   "source": [
    "accumulator = 0\n",
    "for line in memory:\n",
    "    mulmatch = re.findall(regex_mul, line)\n",
    "    for match in mulmatch:      \n",
    "        accumulator += eval(match)\n",
    "accumulator"
   ]
  },
  {
   "cell_type": "code",
   "execution_count": 204,
   "id": "923d0107-c2fa-4aec-9e38-33b6f7f6c973",
   "metadata": {},
   "outputs": [
    {
     "data": {
      "text/plain": [
       "105193107"
      ]
     },
     "execution_count": 204,
     "metadata": {},
     "output_type": "execute_result"
    }
   ],
   "source": [
    "accumulator = 0\n",
    "for section in memory:\n",
    "    list_of_enabled_sections = re.split(regex_dontdo, section)\n",
    "    for line in list_of_enabled_sections:\n",
    "        mulmatch = re.findall(regex_mul, line)\n",
    "        for match in mulmatch:\n",
    "            accumulator += eval(match)\n",
    "accumulator"
   ]
  },
  {
   "cell_type": "markdown",
   "id": "0d98ed60-fd6c-4e07-b3e0-680c8d160439",
   "metadata": {},
   "source": [
    "## Part 2 with comments"
   ]
  },
  {
   "cell_type": "code",
   "execution_count": 202,
   "id": "081643f5-e3f0-4208-a7a0-d05b7d9e127c",
   "metadata": {},
   "outputs": [
    {
     "name": "stdout",
     "output_type": "stream",
     "text": [
      "100411201\n"
     ]
    }
   ],
   "source": [
    "from operator import mul\n",
    "import re\n",
    "regex_mul = re.compile(r\"mul\\(\\d{1,3},\\d{1,3}\\)\")\n",
    "regex_dontdo = re.compile(r\"don't\\(\\).+?do\\(\\)\", re.DOTALL)  # match on don't() ... do() sections. Using  .+?  means it gets the smallest section, not first to last\n",
    "\n",
    "data = open(\"day_03_input_1.txt\").read()\n",
    "\n",
    "accumulator = 0\n",
    "\n",
    "split_list = re.split(regex_dontdo, data)  # take out every occurrence of don't() ... do(), leaving a list of \"good\" strings to process\n",
    "# same processes as part 1, which I got the correct result for\n",
    "for item in split_list:\n",
    "    mulmatch = re.findall(regex_mul, item) # get all examples of mul(12,34)\n",
    "    for match in mulmatch:\n",
    "        accumulator += eval(match)  # because mul(x,y) is a python operator we can evaluate it directly\n",
    "print(accumulator)"
   ]
  }
 ],
 "metadata": {
  "kernelspec": {
   "display_name": "Python 3 (ipykernel)",
   "language": "python",
   "name": "python3"
  },
  "language_info": {
   "codemirror_mode": {
    "name": "ipython",
    "version": 3
   },
   "file_extension": ".py",
   "mimetype": "text/x-python",
   "name": "python",
   "nbconvert_exporter": "python",
   "pygments_lexer": "ipython3",
   "version": "3.10.9"
  }
 },
 "nbformat": 4,
 "nbformat_minor": 5
}
