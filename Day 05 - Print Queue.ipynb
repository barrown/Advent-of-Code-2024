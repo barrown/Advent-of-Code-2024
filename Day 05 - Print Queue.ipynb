{
 "cells": [
  {
   "cell_type": "raw",
   "id": "88d0e950-ee9b-459d-9c8c-b7876b23cf32",
   "metadata": {},
   "source": [
    "Day 5 (Print Queue) I got stuck on part 2, and saw from other people's solutions \"deque\" used where you can appendleft()."
   ]
  },
  {
   "cell_type": "code",
   "execution_count": 1,
   "id": "fa7bbd96-dfd4-4098-8f12-17d493e9033e",
   "metadata": {},
   "outputs": [],
   "source": [
    "with open(\"day_05_input_0.txt\") as fname:\n",
    "    rules_and_pagelist = fname.readlines()"
   ]
  },
  {
   "cell_type": "code",
   "execution_count": 5,
   "id": "f72a21ba-6251-424b-9dd0-75d1f398149e",
   "metadata": {},
   "outputs": [
    {
     "name": "stdout",
     "output_type": "stream",
     "text": [
      "['47|53', '97|13', '97|61', '97|47', '75|29', '61|13', '75|53', '29|13', '97|29', '53|29', '61|53', '97|53', '61|29', '47|13', '75|47', '97|75', '47|61', '75|61', '47|29', '75|13', '53|13']\n",
      "['75,47,61,53,29', '97,61,53,29,13', '75,29,13', '75,97,47,61,53', '61,13,29', '97,13,75,29,47']\n"
     ]
    }
   ],
   "source": [
    "rules_list = []\n",
    "page_numbers_list = []\n",
    "for line in rules_and_pagelist:\n",
    "    if \"|\" in line:\n",
    "        rules_list.append(line.strip())\n",
    "    elif \",\" in line:\n",
    "        page_numbers_list.append(line.strip())\n",
    "\n",
    "print(rules_list)\n",
    "print(page_numbers_list)"
   ]
  },
  {
   "cell_type": "code",
   "execution_count": 9,
   "id": "923b205a-e7b7-4cba-afc2-727009c41be2",
   "metadata": {},
   "outputs": [
    {
     "data": {
      "text/plain": [
       "3"
      ]
     },
     "execution_count": 9,
     "metadata": {},
     "output_type": "execute_result"
    }
   ],
   "source": [
    "thistuple = (1, 3, 7, 8, 7, 5, 4, 6, 8, 5)\n",
    "thistuple.index(8)"
   ]
  },
  {
   "cell_type": "code",
   "execution_count": 38,
   "id": "171755df-d2b7-4b9e-a9bd-2cb27850c4f8",
   "metadata": {},
   "outputs": [
    {
     "name": "stdout",
     "output_type": "stream",
     "text": [
      "75|47 These two pages are already in the right order: ('75', '47', '61', '53', '29')\n",
      "47|61 These two pages are already in the right order: ('75', '47', '61', '53', '29')\n",
      "61|53 These two pages are already in the right order: ('75', '47', '61', '53', '29')\n",
      "53|29 These two pages are already in the right order: ('75', '47', '61', '53', '29')\n"
     ]
    }
   ],
   "source": [
    "pages = '75,47,61,53,29'\n",
    "pages = tuple(pages.split(\",\"))\n",
    "\n",
    "correct_order_flag = True\n",
    "\n",
    "for i in range(len(pages)-1):\n",
    "    first_page = pages[i]\n",
    "    after_page = pages[i+1]\n",
    "    \n",
    "    rule_to_check = str(first_page)+\"|\"+str(after_page)\n",
    "       \n",
    "    if rule_to_check in rules_list:\n",
    "        print(rule_to_check, \"These two pages are already in the right order:\",pages)\n",
    "    else:\n",
    "        print(pages,\"breaks rule\", rule_to_check)\n",
    "        correct_order_flag = False\n",
    "        break"
   ]
  },
  {
   "cell_type": "code",
   "execution_count": 70,
   "id": "ed3dfe5b-2038-410c-a65a-8c17787ee904",
   "metadata": {},
   "outputs": [
    {
     "name": "stdout",
     "output_type": "stream",
     "text": [
      "('75', '47', '61', '53', '29') was all good\n",
      "middle digit: 61\n",
      "('97', '61', '53', '29', '13') was all good\n",
      "middle digit: 53\n",
      "('75', '29', '13') was all good\n",
      "middle digit: 29\n",
      "75|97 was not found in the rules!\n",
      "13|29 was not found in the rules!\n",
      "13|75 was not found in the rules!\n"
     ]
    },
    {
     "data": {
      "text/plain": [
       "143"
      ]
     },
     "execution_count": 70,
     "metadata": {},
     "output_type": "execute_result"
    }
   ],
   "source": [
    "accumulator = 0\n",
    "for pages in page_numbers_list:\n",
    "    pages = tuple(pages.split(\",\"))\n",
    "    \n",
    "    correct_order_flag = True\n",
    "    \n",
    "    for i in range(len(pages)-1):\n",
    "        first_page = pages[i]\n",
    "        after_page = pages[i+1]\n",
    "        \n",
    "        rule_to_check = str(first_page)+\"|\"+str(after_page)\n",
    "           \n",
    "        if not rule_to_check in rules_list:\n",
    "            print(rule_to_check,\"was not found in the rules!\")\n",
    "            correct_order_flag = False\n",
    "            break\n",
    "\n",
    "    if correct_order_flag:\n",
    "        print(pages,\"was all good\")\n",
    "        print(\"middle digit:\", pages[(len(pages)-1) // 2])\n",
    "        accumulator += int(pages[(len(pages)-1) // 2])\n",
    "\n",
    "accumulator"
   ]
  },
  {
   "cell_type": "code",
   "execution_count": 78,
   "id": "de0c44a3-89af-4ff6-b304-105f3d3887db",
   "metadata": {},
   "outputs": [
    {
     "data": {
      "text/plain": [
       "5991"
      ]
     },
     "execution_count": 78,
     "metadata": {},
     "output_type": "execute_result"
    }
   ],
   "source": [
    "with open(\"day_05_input_1.txt\") as fname:\n",
    "    rules_and_pagelist = fname.readlines()\n",
    "\n",
    "rules_list = []\n",
    "page_numbers_list = []\n",
    "for line in rules_and_pagelist:\n",
    "    if \"|\" in line:\n",
    "        rules_list.append(line.strip())\n",
    "    elif \",\" in line:\n",
    "        page_numbers_list.append(line.strip())\n",
    "\n",
    "\n",
    "accumulator = 0\n",
    "for pages in page_numbers_list:\n",
    "    pages = tuple(pages.split(\",\"))\n",
    "    \n",
    "    correct_order_flag = True\n",
    "    \n",
    "    for i in range(len(pages)-1):\n",
    "        first_page = pages[i]\n",
    "        after_page = pages[i+1]\n",
    "        \n",
    "        rule_to_check = str(first_page)+\"|\"+str(after_page)\n",
    "           \n",
    "        if not rule_to_check in rules_list:\n",
    "            #print(rule_to_check,\"was not found in the rules!\")\n",
    "            correct_order_flag = False\n",
    "            break\n",
    "\n",
    "    if correct_order_flag:\n",
    "        #print(pages,\"was all good\")\n",
    "        #print(\"middle digit:\", pages[(len(pages)-1) // 2])\n",
    "        accumulator += int(pages[(len(pages)-1) // 2])\n",
    "\n",
    "accumulator"
   ]
  },
  {
   "cell_type": "markdown",
   "id": "72e040bb-fd45-4a79-92e0-8b924c88e3b5",
   "metadata": {},
   "source": [
    "# Part 2"
   ]
  },
  {
   "cell_type": "code",
   "execution_count": 93,
   "id": "042b9cc3-792a-4dc8-9239-50c204764b76",
   "metadata": {},
   "outputs": [],
   "source": [
    "from collections import deque"
   ]
  },
  {
   "cell_type": "code",
   "execution_count": 145,
   "id": "77794702-42d6-495b-8028-8ac76d7c72ef",
   "metadata": {},
   "outputs": [
    {
     "name": "stdout",
     "output_type": "stream",
     "text": [
      "75 97 was not found in the rules for ('75', '97', '47', '61', '53')\n",
      "deque(['53', '61', '47', '97', '75'])\n",
      "53 61 was not found in the rules for ('75', '97', '47', '61', '53')\n",
      "61 47 was not found in the rules for ('75', '97', '47', '61', '53')\n",
      "47 97 was not found in the rules for ('75', '97', '47', '61', '53')\n",
      "13 29 was not found in the rules for ('61', '13', '29')\n",
      "deque(['29', '13', '61'])\n",
      "13 61 was not found in the rules for ('61', '13', '29')\n",
      "13 75 was not found in the rules for ('97', '13', '75', '29', '47')\n",
      "deque(['47', '29', '75', '13', '97'])\n",
      "29 75 was not found in the rules for ('97', '13', '75', '29', '47')\n",
      "13 97 was not found in the rules for ('97', '13', '75', '29', '47')\n"
     ]
    }
   ],
   "source": [
    "def is_a_rule(first, after):\n",
    "    rule_to_check = str(first_page)+\"|\"+str(after_page)\n",
    "    if rule_to_check in rules_list:\n",
    "        return True\n",
    "    else:\n",
    "        return False\n",
    "\n",
    "\n",
    "with open(\"day_05_input_0.txt\") as fname:\n",
    "    rules_and_pagelist = fname.readlines()\n",
    "\n",
    "rules_list = []\n",
    "page_numbers_list = []\n",
    "for line in rules_and_pagelist:\n",
    "    if \"|\" in line:\n",
    "        rules_list.append(line.strip())\n",
    "    elif \",\" in line:\n",
    "        page_numbers_list.append(line.strip())\n",
    "\n",
    "\n",
    "accumulator = 0\n",
    "for pages in page_numbers_list:\n",
    "    pages = tuple(pages.split(\",\"))\n",
    "    \n",
    "    new_pages = pages\n",
    "    \n",
    "    for i in range(len(pages)-1):\n",
    "        first_page = pages[i]\n",
    "        after_page = pages[i+1]\n",
    "        \n",
    "        \n",
    "           \n",
    "        if not is_a_rule(first_page, after_page):\n",
    "            print(first_page, after_page, \"was not found in the rules for\",pages)\n",
    "\n",
    "            new_pages = deque()  # set up a deque with the first page\n",
    "            new_pages.append(pages[0])\n",
    "            for n in range(len(pages)-1):\n",
    "                \n",
    "                if is_a_rule(pages[n], pages[n+1]):\n",
    "                    new_pages.append(pages[n+1])\n",
    "                else:\n",
    "                    new_pages.appendleft(pages[n+1])\n",
    "                    \n",
    "            print(new_pages)\n",
    "            break\n",
    "\n",
    "    for i in range(len(new_pages)-1):\n",
    "        first_page = new_pages[i]\n",
    "        after_page = new_pages[i+1]\n",
    "        \n",
    "        if not is_a_rule(first_page, after_page):\n",
    "            print(first_page, after_page, \"was not found in the rules for\", pages)\n",
    "            \n",
    "\n",
    "    #if correct_order_flag:\n",
    "        #print(pages,\"was all good\")\n",
    "        #print(\"middle digit:\", pages[(len(pages)-1) // 2])\n",
    "        #accumulator += int(pages[(len(pages)-1) // 2])\n",
    "\n",
    "#accumulator"
   ]
  },
  {
   "cell_type": "code",
   "execution_count": 121,
   "id": "0be5ba4e-ab4c-4b25-a07e-6042a9528e4b",
   "metadata": {},
   "outputs": [
    {
     "data": {
      "text/plain": [
       "deque(['9', '7'])"
      ]
     },
     "execution_count": 121,
     "metadata": {},
     "output_type": "execute_result"
    }
   ],
   "source": [
    "string = pages[0]\n",
    "deque(string)"
   ]
  },
  {
   "cell_type": "code",
   "execution_count": 123,
   "id": "b18398f9-2ed9-42e7-844a-40e79e852874",
   "metadata": {},
   "outputs": [
    {
     "data": {
      "text/plain": [
       "'47'"
      ]
     },
     "execution_count": 123,
     "metadata": {},
     "output_type": "execute_result"
    }
   ],
   "source": [
    "pages[n+1]"
   ]
  },
  {
   "cell_type": "code",
   "execution_count": 133,
   "id": "04249c8b-af16-42aa-bb23-e1fddb6d0bcc",
   "metadata": {},
   "outputs": [
    {
     "data": {
      "text/plain": [
       "deque(['9', '7', '13', '75', '29', '47', '47', '29', '97'])"
      ]
     },
     "execution_count": 133,
     "metadata": {},
     "output_type": "execute_result"
    }
   ],
   "source": [
    "new_rules.append(pages[0])\n",
    "new_rules"
   ]
  },
  {
   "cell_type": "code",
   "execution_count": 129,
   "id": "90c00975-0b5c-4e60-a307-1e06cd5af261",
   "metadata": {},
   "outputs": [
    {
     "data": {
      "text/plain": [
       "deque(['9', '7', '13', '75', '29', '47', '47'])"
      ]
     },
     "execution_count": 129,
     "metadata": {},
     "output_type": "execute_result"
    }
   ],
   "source": [
    "new_rules"
   ]
  },
  {
   "cell_type": "code",
   "execution_count": null,
   "id": "dcd98952-d862-4c85-bc14-0f832d55d8d4",
   "metadata": {},
   "outputs": [],
   "source": []
  },
  {
   "cell_type": "markdown",
   "id": "d0928673-fa23-4bf1-b62e-7656f31987a2",
   "metadata": {},
   "source": [
    "# looking at someone else's code"
   ]
  },
  {
   "cell_type": "code",
   "execution_count": 173,
   "id": "0d2d2c0a-40ae-499c-9d4f-084cf281140c",
   "metadata": {},
   "outputs": [
    {
     "name": "stdout",
     "output_type": "stream",
     "text": [
      "5991 5479\n"
     ]
    }
   ],
   "source": [
    "from functools import cmp_to_key\n",
    "\n",
    "rules, pages = open('day_05_input_1.txt').read().split('\\n\\n')\n",
    "cmp = cmp_to_key(lambda x, y: -(x+'|'+y in rules))\n",
    "\n",
    "a = [0, 0]\n",
    "for p in pages.split():\n",
    "    p = p.split(',')\n",
    "    s = sorted(p, key=cmp)\n",
    "    a[p!=s] += int(s[len(s)//2])\n",
    "\n",
    "print(*a)"
   ]
  },
  {
   "cell_type": "code",
   "execution_count": 149,
   "id": "e8baf36a-eef5-40a8-9582-28b64840c729",
   "metadata": {},
   "outputs": [
    {
     "data": {
      "text/plain": [
       "'47|53\\n97|13\\n97|61\\n97|47\\n75|29\\n61|13\\n75|53\\n29|13\\n97|29\\n53|29\\n61|53\\n97|53\\n61|29\\n47|13\\n75|47\\n97|75\\n47|61\\n75|61\\n47|29\\n75|13\\n53|13'"
      ]
     },
     "execution_count": 149,
     "metadata": {},
     "output_type": "execute_result"
    }
   ],
   "source": [
    "rules"
   ]
  },
  {
   "cell_type": "code",
   "execution_count": 151,
   "id": "3613c47d-81b1-43fd-96be-588f25a57bf0",
   "metadata": {},
   "outputs": [
    {
     "data": {
      "text/plain": [
       "'75,47,61,53,29\\n97,61,53,29,13\\n75,29,13\\n75,97,47,61,53\\n61,13,29\\n97,13,75,29,47'"
      ]
     },
     "execution_count": 151,
     "metadata": {},
     "output_type": "execute_result"
    }
   ],
   "source": [
    "pages"
   ]
  },
  {
   "cell_type": "code",
   "execution_count": 153,
   "id": "ac6e9cd8-6a90-4eec-9303-85e633891717",
   "metadata": {},
   "outputs": [
    {
     "data": {
      "text/plain": [
       "<functools.KeyWrapper at 0x180f7dc50c0>"
      ]
     },
     "execution_count": 153,
     "metadata": {},
     "output_type": "execute_result"
    }
   ],
   "source": [
    "cmp"
   ]
  },
  {
   "cell_type": "code",
   "execution_count": 159,
   "id": "034a4eaf-5023-4aa5-bf1c-77dfc9f3074a",
   "metadata": {},
   "outputs": [
    {
     "data": {
      "text/plain": [
       "['75,47,61,53,29',\n",
       " '97,61,53,29,13',\n",
       " '75,29,13',\n",
       " '75,97,47,61,53',\n",
       " '61,13,29',\n",
       " '97,13,75,29,47']"
      ]
     },
     "execution_count": 159,
     "metadata": {},
     "output_type": "execute_result"
    }
   ],
   "source": [
    "pages.split()"
   ]
  },
  {
   "cell_type": "code",
   "execution_count": 161,
   "id": "8ce888e3-935d-48bd-9bd1-0fc48ee160a8",
   "metadata": {},
   "outputs": [
    {
     "data": {
      "text/plain": [
       "['97', '13', '75', '29', '47']"
      ]
     },
     "execution_count": 161,
     "metadata": {},
     "output_type": "execute_result"
    }
   ],
   "source": [
    "p"
   ]
  },
  {
   "cell_type": "code",
   "execution_count": 163,
   "id": "aec52a90-bf5c-42a2-b827-b8adb583d70d",
   "metadata": {},
   "outputs": [
    {
     "data": {
      "text/plain": [
       "['97', '75', '47', '29', '13']"
      ]
     },
     "execution_count": 163,
     "metadata": {},
     "output_type": "execute_result"
    }
   ],
   "source": [
    "s"
   ]
  },
  {
   "cell_type": "code",
   "execution_count": 165,
   "id": "fb4b71ff-05f9-4ece-a2ee-2c7d5be4b3a7",
   "metadata": {},
   "outputs": [
    {
     "data": {
      "text/plain": [
       "'47'"
      ]
     },
     "execution_count": 165,
     "metadata": {},
     "output_type": "execute_result"
    }
   ],
   "source": [
    "s[len(s)//2]"
   ]
  },
  {
   "cell_type": "code",
   "execution_count": 167,
   "id": "83ef7aad-af07-402b-99aa-9275a7016692",
   "metadata": {},
   "outputs": [
    {
     "data": {
      "text/plain": [
       "[143, 123]"
      ]
     },
     "execution_count": 167,
     "metadata": {},
     "output_type": "execute_result"
    }
   ],
   "source": [
    "a"
   ]
  }
 ],
 "metadata": {
  "kernelspec": {
   "display_name": "Python 3 (ipykernel)",
   "language": "python",
   "name": "python3"
  },
  "language_info": {
   "codemirror_mode": {
    "name": "ipython",
    "version": 3
   },
   "file_extension": ".py",
   "mimetype": "text/x-python",
   "name": "python",
   "nbconvert_exporter": "python",
   "pygments_lexer": "ipython3",
   "version": "3.10.9"
  }
 },
 "nbformat": 4,
 "nbformat_minor": 5
}
