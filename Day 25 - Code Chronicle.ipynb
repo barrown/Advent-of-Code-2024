{
 "cells": [
  {
   "cell_type": "code",
   "execution_count": 1,
   "id": "889e60ef-4392-4b1e-98ca-60a2f5121ac4",
   "metadata": {},
   "outputs": [],
   "source": [
    "with open(\"day_25_input_0.txt\") as fname:\n",
    "    schematics = fname.read().split(\"\\n\\n\")"
   ]
  },
  {
   "cell_type": "code",
   "execution_count": 3,
   "id": "e5ccc183-5612-4981-8b85-8b481ff33ac4",
   "metadata": {},
   "outputs": [
    {
     "data": {
      "text/plain": [
       "['#####\\n.####\\n.####\\n.####\\n.#.#.\\n.#...\\n.....',\n",
       " '#####\\n##.##\\n.#.##\\n...##\\n...#.\\n...#.\\n.....',\n",
       " '.....\\n#....\\n#....\\n#...#\\n#.#.#\\n#.###\\n#####',\n",
       " '.....\\n.....\\n#.#..\\n###..\\n###.#\\n###.#\\n#####',\n",
       " '.....\\n.....\\n.....\\n#....\\n#.#..\\n#.#.#\\n#####']"
      ]
     },
     "execution_count": 3,
     "metadata": {},
     "output_type": "execute_result"
    }
   ],
   "source": [
    "schematics"
   ]
  },
  {
   "cell_type": "code",
   "execution_count": 13,
   "id": "dc5349c3-81b5-46ec-8bd8-1196a18f1477",
   "metadata": {},
   "outputs": [],
   "source": [
    "keys = {}\n",
    "locks = {}\n",
    "\n",
    "for index, schematic in enumerate(schematics):\n",
    "    schematic = schematic.splitlines()\n",
    "    pin1 = pin2 = pin3 = pin4 = pin5 = -1\n",
    "    \n",
    "    if schematic[0] == \".....\":  # it's a key:\n",
    "        for line in schematic:\n",
    "            if line[0] == \"#\":\n",
    "                pin1 += 1\n",
    "            if line[1] == \"#\":\n",
    "                pin2 += 1\n",
    "            if line[2] == \"#\":\n",
    "                pin3 += 1\n",
    "            if line[3] == \"#\":\n",
    "                pin4 += 1\n",
    "            if line[4] == \"#\":\n",
    "                pin5 += 1\n",
    "        keys[index] = str(pin1)+str(pin2)+str(pin3)+str(pin4)+str(pin5)\n",
    "    \n",
    "    else:  # it's a lock\n",
    "        for line in schematic:\n",
    "            if line[0] == \"#\":\n",
    "                pin1 += 1\n",
    "            if line[1] == \"#\":\n",
    "                pin2 += 1\n",
    "            if line[2] == \"#\":\n",
    "                pin3 += 1\n",
    "            if line[3] == \"#\":\n",
    "                pin4 += 1\n",
    "            if line[4] == \"#\":\n",
    "                pin5 += 1\n",
    "        locks[index] = str(pin1)+str(pin2)+str(pin3)+str(pin4)+str(pin5)"
   ]
  },
  {
   "cell_type": "code",
   "execution_count": 15,
   "id": "7766a06a-c968-46ce-b783-cab11fd6808b",
   "metadata": {},
   "outputs": [
    {
     "data": {
      "text/plain": [
       "{2: '50213', 3: '43402', 4: '30201'}"
      ]
     },
     "execution_count": 15,
     "metadata": {},
     "output_type": "execute_result"
    }
   ],
   "source": [
    "keys"
   ]
  },
  {
   "cell_type": "code",
   "execution_count": 17,
   "id": "2ab25aa8-a788-4320-ba8f-949b559095f3",
   "metadata": {},
   "outputs": [
    {
     "data": {
      "text/plain": [
       "{0: '05343', 1: '12053'}"
      ]
     },
     "execution_count": 17,
     "metadata": {},
     "output_type": "execute_result"
    }
   ],
   "source": [
    "locks"
   ]
  },
  {
   "cell_type": "code",
   "execution_count": 21,
   "id": "75b9e8f7-d117-45dd-a619-34e5e5ea934e",
   "metadata": {},
   "outputs": [
    {
     "name": "stdout",
     "output_type": "stream",
     "text": [
      "no fit 3 3\n"
     ]
    }
   ],
   "source": [
    "key = '50213'\n",
    "lock = '05343'\n",
    "\n",
    "for k,l in zip(key, lock):\n",
    "    if int(k) + int(l) > 5:\n",
    "        print(\"no fit\",k,l)"
   ]
  },
  {
   "cell_type": "code",
   "execution_count": 33,
   "id": "d91177b3-663f-422a-b5b4-042270fc2846",
   "metadata": {},
   "outputs": [
    {
     "name": "stdout",
     "output_type": "stream",
     "text": [
      "no fit for key 2 in lock 0\n",
      "no fit for key 2 in lock 1\n",
      "no fit for key 3 in lock 0\n"
     ]
    }
   ],
   "source": [
    "for keyindex in keys:\n",
    "    key = keys[keyindex]\n",
    "    for lockindex in locks:\n",
    "        lock = locks[lockindex]\n",
    "\n",
    "        for k,l in zip(key, lock):\n",
    "            if int(k) + int(l) > 5:\n",
    "                print(\"no fit for key\",keyindex,\"in lock\",lockindex)\n",
    "                break"
   ]
  },
  {
   "cell_type": "markdown",
   "id": "6091b816-f5f3-46fc-96e9-84aa4d99fb41",
   "metadata": {},
   "source": [
    "## Part 1"
   ]
  },
  {
   "cell_type": "code",
   "execution_count": 38,
   "id": "c85073c9-7330-482e-9768-9553783162da",
   "metadata": {},
   "outputs": [],
   "source": [
    "with open(\"day_25_input_1.txt\") as fname:\n",
    "    schematics = fname.read().split(\"\\n\\n\")"
   ]
  },
  {
   "cell_type": "code",
   "execution_count": 40,
   "id": "fb64c82b-41de-4f06-acf9-b3887d8828d8",
   "metadata": {},
   "outputs": [],
   "source": [
    "keys = {}\n",
    "locks = {}\n",
    "\n",
    "for index, schematic in enumerate(schematics):\n",
    "    schematic = schematic.splitlines()\n",
    "    pin1 = pin2 = pin3 = pin4 = pin5 = -1\n",
    "    \n",
    "    if schematic[0] == \".....\":  # it's a key:\n",
    "        for line in schematic:\n",
    "            if line[0] == \"#\":\n",
    "                pin1 += 1\n",
    "            if line[1] == \"#\":\n",
    "                pin2 += 1\n",
    "            if line[2] == \"#\":\n",
    "                pin3 += 1\n",
    "            if line[3] == \"#\":\n",
    "                pin4 += 1\n",
    "            if line[4] == \"#\":\n",
    "                pin5 += 1\n",
    "        keys[index] = str(pin1)+str(pin2)+str(pin3)+str(pin4)+str(pin5)\n",
    "    \n",
    "    else:  # it's a lock\n",
    "        for line in schematic:\n",
    "            if line[0] == \"#\":\n",
    "                pin1 += 1\n",
    "            if line[1] == \"#\":\n",
    "                pin2 += 1\n",
    "            if line[2] == \"#\":\n",
    "                pin3 += 1\n",
    "            if line[3] == \"#\":\n",
    "                pin4 += 1\n",
    "            if line[4] == \"#\":\n",
    "                pin5 += 1\n",
    "        locks[index] = str(pin1)+str(pin2)+str(pin3)+str(pin4)+str(pin5)"
   ]
  },
  {
   "cell_type": "code",
   "execution_count": 48,
   "id": "8c1d3385-c5d0-4aa5-8fbe-e20af56d82f4",
   "metadata": {},
   "outputs": [
    {
     "data": {
      "text/plain": [
       "3264"
      ]
     },
     "execution_count": 48,
     "metadata": {},
     "output_type": "execute_result"
    }
   ],
   "source": [
    "possible_combo = 0\n",
    "no_fit = 0\n",
    "for keyindex in keys:\n",
    "    key = keys[keyindex]\n",
    "    for lockindex in locks:\n",
    "        lock = locks[lockindex]\n",
    "        possible_combo += 1\n",
    "        for k,l in zip(key, lock):\n",
    "            if int(k) + int(l) > 5:\n",
    "                no_fit += 1\n",
    "                break\n",
    "possible_combo - no_fit"
   ]
  },
  {
   "cell_type": "code",
   "execution_count": null,
   "id": "266e19f5-da3a-4117-bdf5-0437975e9ad1",
   "metadata": {},
   "outputs": [],
   "source": []
  }
 ],
 "metadata": {
  "kernelspec": {
   "display_name": "Python 3 (ipykernel)",
   "language": "python",
   "name": "python3"
  },
  "language_info": {
   "codemirror_mode": {
    "name": "ipython",
    "version": 3
   },
   "file_extension": ".py",
   "mimetype": "text/x-python",
   "name": "python",
   "nbconvert_exporter": "python",
   "pygments_lexer": "ipython3",
   "version": "3.10.9"
  }
 },
 "nbformat": 4,
 "nbformat_minor": 5
}
