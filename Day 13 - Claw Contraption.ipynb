{
 "cells": [
  {
   "cell_type": "raw",
   "id": "6d48c0a6-0147-4d07-84f9-176339db09ac",
   "metadata": {},
   "source": [
    "Day 13 was great for me, as I loved solving the simultaneous equations, and discovered the sympy library. I also used some tricks from other examples to unpack multiple variables and map() integers:\n",
    "AX, AY, BX, BY, PX, PY = map(int, numbersmatch.groups())"
   ]
  },
  {
   "cell_type": "code",
   "execution_count": 46,
   "id": "43f6c48b-a896-4e57-8c48-2bb5f5a2089b",
   "metadata": {},
   "outputs": [],
   "source": [
    "import re\n",
    "import sympy as sym\n",
    "x,y = sym.symbols('x,y')"
   ]
  },
  {
   "cell_type": "code",
   "execution_count": 92,
   "id": "cbe2edc4-a54e-4790-b891-fceb85df2ab0",
   "metadata": {},
   "outputs": [],
   "source": [
    "with open(\"day_13_input_0.txt\") as fname:\n",
    "    button_behaviour = fname.read()"
   ]
  },
  {
   "cell_type": "code",
   "execution_count": 94,
   "id": "33bf539a-17b3-42de-8d73-d90330bf8916",
   "metadata": {},
   "outputs": [
    {
     "data": {
      "text/plain": [
       "['Button A: X+94, Y+34\\nButton B: X+22, Y+67\\nPrize: X=8400, Y=5400',\n",
       " 'Button A: X+26, Y+66\\nButton B: X+67, Y+21\\nPrize: X=12748, Y=12176',\n",
       " 'Button A: X+17, Y+86\\nButton B: X+84, Y+37\\nPrize: X=7870, Y=6450',\n",
       " 'Button A: X+69, Y+23\\nButton B: X+27, Y+71\\nPrize: X=18641, Y=10279']"
      ]
     },
     "execution_count": 94,
     "metadata": {},
     "output_type": "execute_result"
    }
   ],
   "source": [
    "behaviours = button_behaviour.split(\"\\n\\n\")\n",
    "behaviours"
   ]
  },
  {
   "cell_type": "markdown",
   "id": "1b44387a-1441-427a-aff3-b562e6952a26",
   "metadata": {},
   "source": [
    "## discovering"
   ]
  },
  {
   "cell_type": "code",
   "execution_count": 10,
   "id": "4efcf155-01d7-4bdd-bc2d-cdd7e8bbbd3b",
   "metadata": {},
   "outputs": [
    {
     "data": {
      "text/plain": [
       "['Button A: X+94, Y+34', 'Button B: X+22, Y+67', 'Prize: X=8400, Y=5400']"
      ]
     },
     "execution_count": 10,
     "metadata": {},
     "output_type": "execute_result"
    }
   ],
   "source": [
    "splitline =  behaviours[0].split(\"\\n\")\n",
    "splitline"
   ]
  },
  {
   "cell_type": "code",
   "execution_count": 22,
   "id": "328ac7ec-e755-4aee-9c13-d63a7564e3d6",
   "metadata": {},
   "outputs": [
    {
     "data": {
      "text/plain": [
       "'Button A: X+94, Y+34\\nButton B: X+22, Y+67\\nPrize: X=8400, Y=5400'"
      ]
     },
     "execution_count": 22,
     "metadata": {},
     "output_type": "execute_result"
    }
   ],
   "source": [
    "behaviours[0]"
   ]
  },
  {
   "cell_type": "code",
   "execution_count": 14,
   "id": "0fbd4419-603f-498a-a12d-b1df7c209c8b",
   "metadata": {},
   "outputs": [],
   "source": [
    "regex_numbers = re.compile(r\"Button A: X\\+(\\d{2}), Y\\+(\\d{2})\\nButton B: X\\+(\\d{2}), Y\\+(\\d{2})\\nPrize: X=(\\d{3,5}), Y=(\\d{3,5})\")"
   ]
  },
  {
   "cell_type": "code",
   "execution_count": 32,
   "id": "9c52ffbc-8907-46fd-9899-57396b91618b",
   "metadata": {},
   "outputs": [
    {
     "name": "stdout",
     "output_type": "stream",
     "text": [
      "AX: 94, AY: 34, BX: 22, BY: 67, PX: 8400, PY: 5400\n"
     ]
    }
   ],
   "source": [
    "numbersmatch = re.match(regex_numbers, behaviours[0])\n",
    "if numbersmatch:\n",
    "    AX, AY, BX, BY, PX, PY = map(int, numbersmatch.groups())\n",
    "    print(f\"AX: {AX}, AY: {AY}, BX: {BX}, BY: {BY}, PX: {PX}, PY: {PY}\")\n",
    "else:\n",
    "    print(\"No match found.\")"
   ]
  },
  {
   "cell_type": "code",
   "execution_count": 40,
   "id": "6c0aff3b-b40c-4923-9c5a-b19fd9cb246c",
   "metadata": {},
   "outputs": [
    {
     "data": {
      "text/plain": [
       "8400"
      ]
     },
     "execution_count": 40,
     "metadata": {},
     "output_type": "execute_result"
    }
   ],
   "source": [
    "80*AX + 40*BX"
   ]
  },
  {
   "cell_type": "code",
   "execution_count": 44,
   "id": "35ad5ae7-b215-4cc5-b830-b4b46d286afb",
   "metadata": {},
   "outputs": [
    {
     "name": "stdout",
     "output_type": "stream",
     "text": [
      "{x: 80, y: 40}\n"
     ]
    }
   ],
   "source": [
    "x,y = sym.symbols('x,y')\n",
    "eq1 = sym.Eq(x*AX + y*BX, PX)\n",
    "eq2 = sym.Eq(x*AY + y*BY, PY)\n",
    "result = sym.solve([eq1,eq2],(x,y))\n",
    "print(result)"
   ]
  },
  {
   "cell_type": "code",
   "execution_count": null,
   "id": "c1250b41-a1bb-4cc5-afd5-8d2c80afa223",
   "metadata": {},
   "outputs": [],
   "source": []
  },
  {
   "cell_type": "code",
   "execution_count": 66,
   "id": "21238330-2ca8-483f-98f3-ea45aba28dd4",
   "metadata": {},
   "outputs": [
    {
     "name": "stdout",
     "output_type": "stream",
     "text": [
      "AX: 94, AY: 34, BX: 22, BY: 67, PX: 8400, PY: 5400\n",
      "{x: 80, y: 40}\n",
      "280 \n",
      "\n",
      "AX: 26, AY: 66, BX: 67, BY: 21, PX: 12748, PY: 12176\n",
      "{x: 137021/969, y: 131198/969}\n",
      "NO RESULT\n",
      "AX: 17, AY: 86, BX: 84, BY: 37, PX: 7870, PY: 6450\n",
      "{x: 38, y: 86}\n",
      "200 \n",
      "\n",
      "AX: 69, AY: 23, BX: 27, BY: 71, PX: 18641, PY: 10279\n",
      "{x: 522989/2139, y: 6098/93}\n",
      "NO RESULT\n"
     ]
    }
   ],
   "source": [
    "for behaviour in behaviours:\n",
    "    numbersmatch = re.match(regex_numbers, behaviour)\n",
    "    if numbersmatch:\n",
    "        AX, AY, BX, BY, PX, PY = map(int, numbersmatch.groups())\n",
    "        print(f\"AX: {AX}, AY: {AY}, BX: {BX}, BY: {BY}, PX: {PX}, PY: {PY}\")\n",
    "    \n",
    "        eq1 = sym.Eq(x*AX + y*BX, PX)\n",
    "        eq2 = sym.Eq(x*AY + y*BY, PY)\n",
    "        result = sym.solve([eq1,eq2],(x,y))\n",
    "        print(result)\n",
    "        if type(result[x]) == sym.core.numbers.Rational:\n",
    "            print(\"NO RESULT\")\n",
    "        else:\n",
    "            print(result[x]*3 + result[y],\"\\n\")\n",
    "    else:\n",
    "        print(\"No match found.\")"
   ]
  },
  {
   "cell_type": "markdown",
   "id": "224c095b-8472-4837-9357-be8fdd6d0192",
   "metadata": {},
   "source": [
    "## Part 1"
   ]
  },
  {
   "cell_type": "code",
   "execution_count": 100,
   "id": "f40a78c2-257f-43d8-9cca-2ee847cadd16",
   "metadata": {},
   "outputs": [],
   "source": [
    "with open(\"day_13_input_1.txt\") as fname:\n",
    "    button_behaviour = fname.read()\n",
    "\n",
    "behaviours = button_behaviour.split(\"\\n\\n\")\n",
    "regex_numbers = re.compile(r\"Button A: X\\+(\\d{2}), Y\\+(\\d{2})\\nButton B: X\\+(\\d{2}), Y\\+(\\d{2})\\nPrize: X=(\\d{3,5}), Y=(\\d{3,5})\")"
   ]
  },
  {
   "cell_type": "code",
   "execution_count": 116,
   "id": "100b6ae1-d9f7-4f96-8696-13b52add3166",
   "metadata": {},
   "outputs": [
    {
     "data": {
      "text/plain": [
       "28887"
      ]
     },
     "execution_count": 116,
     "metadata": {},
     "output_type": "execute_result"
    }
   ],
   "source": [
    "accumulator = 0\n",
    "for behaviour in behaviours:\n",
    "    numbersmatch = re.match(regex_numbers, behaviour)\n",
    "    if numbersmatch:\n",
    "        AX, AY, BX, BY, PX, PY = map(int, numbersmatch.groups())\n",
    "    \n",
    "        eq1 = sym.Eq(x*AX + y*BX, PX)\n",
    "        eq2 = sym.Eq(x*AY + y*BY, PY)\n",
    "        result = sym.solve([eq1,eq2],(x,y))\n",
    "        if type(result[x]) is sym.core.numbers.Rational or type(result[y]) is sym.core.numbers.Rational:\n",
    "            pass\n",
    "        elif result[x] > 100 or result[y] > 100:\n",
    "            pass\n",
    "        else:\n",
    "            accumulator += result[x]*3 + result[y]\n",
    "\n",
    "int(accumulator)"
   ]
  },
  {
   "cell_type": "markdown",
   "id": "08413c5f-5f97-479e-9243-e95d58c669ce",
   "metadata": {},
   "source": [
    "## Part 2"
   ]
  },
  {
   "cell_type": "code",
   "execution_count": 110,
   "id": "b891c2a9-0a7b-427e-8606-2974b59dafdd",
   "metadata": {
    "scrolled": true
   },
   "outputs": [
    {
     "data": {
      "text/latex": [
       "$\\displaystyle 96979582619758$"
      ],
      "text/plain": [
       "96979582619758"
      ]
     },
     "execution_count": 110,
     "metadata": {},
     "output_type": "execute_result"
    }
   ],
   "source": [
    "accumulator = 0\n",
    "for behaviour in behaviours:\n",
    "    numbersmatch = re.match(regex_numbers, behaviour)\n",
    "    if numbersmatch:\n",
    "        AX, AY, BX, BY, PX, PY = map(int, numbersmatch.groups())\n",
    "        PX += 10000000000000\n",
    "        PY += 10000000000000\n",
    "    \n",
    "        eq1 = sym.Eq(x*AX + y*BX, PX)\n",
    "        eq2 = sym.Eq(x*AY + y*BY, PY)\n",
    "        result = sym.solve([eq1,eq2],(x,y))\n",
    "        if type(result[x]) == sym.core.numbers.Rational or type(result[y]) == sym.core.numbers.Rational:\n",
    "            pass\n",
    "        else:\n",
    "            accumulator += result[x]*3 + result[y]\n",
    "\n",
    "accumulator"
   ]
  },
  {
   "cell_type": "code",
   "execution_count": 112,
   "id": "d31a22ca-a699-42d0-98b0-73227c904a96",
   "metadata": {},
   "outputs": [
    {
     "data": {
      "text/plain": [
       "96979582619758"
      ]
     },
     "execution_count": 112,
     "metadata": {},
     "output_type": "execute_result"
    }
   ],
   "source": [
    "int(accumulator)"
   ]
  },
  {
   "cell_type": "code",
   "execution_count": null,
   "id": "6a4a92c5-5c1b-4eb9-8dd7-99acd04f6042",
   "metadata": {},
   "outputs": [],
   "source": []
  }
 ],
 "metadata": {
  "kernelspec": {
   "display_name": "Python 3 (ipykernel)",
   "language": "python",
   "name": "python3"
  },
  "language_info": {
   "codemirror_mode": {
    "name": "ipython",
    "version": 3
   },
   "file_extension": ".py",
   "mimetype": "text/x-python",
   "name": "python",
   "nbconvert_exporter": "python",
   "pygments_lexer": "ipython3",
   "version": "3.10.9"
  }
 },
 "nbformat": 4,
 "nbformat_minor": 5
}
