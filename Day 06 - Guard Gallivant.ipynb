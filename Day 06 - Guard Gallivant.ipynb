{
 "cells": [
  {
   "cell_type": "code",
   "execution_count": 1,
   "id": "c9b4fcd7-9355-4911-a6fb-813b670dd4a9",
   "metadata": {},
   "outputs": [],
   "source": [
    "with open(\"day_06_input_1.txt\") as fname:\n",
    "    map = fname.readlines()"
   ]
  },
  {
   "cell_type": "code",
   "execution_count": 3,
   "id": "09b3dbd2-dd76-468f-bbef-8d0474085f63",
   "metadata": {},
   "outputs": [],
   "source": [
    "dictionary = {}\n",
    "\n",
    "for y, line in enumerate(map):\n",
    "    for x, char in enumerate(line.strip()):\n",
    "        dictionary[(x,y)] = char\n",
    "        \n",
    "maxcolumns = len(line)\n",
    "maxrows = len(map)"
   ]
  },
  {
   "cell_type": "code",
   "execution_count": 4,
   "id": "0a17d3b8-4cc5-4abf-8880-884b36cc7319",
   "metadata": {},
   "outputs": [],
   "source": [
    "#dictionary"
   ]
  },
  {
   "cell_type": "code",
   "execution_count": 5,
   "id": "8519eac7-2494-4944-81a1-77a589e13145",
   "metadata": {},
   "outputs": [
    {
     "name": "stdout",
     "output_type": "stream",
     "text": [
      "71 93\n"
     ]
    }
   ],
   "source": [
    "global x\n",
    "global y\n",
    "x, y = [coord for coord in dictionary if dictionary[coord] == \"^\"][0]\n",
    "print(x,y)"
   ]
  },
  {
   "cell_type": "code",
   "execution_count": 9,
   "id": "f5da0954-fcc0-4046-baa7-1b8ef8732e72",
   "metadata": {},
   "outputs": [],
   "source": [
    "def valid_location(x, y):\n",
    "    if x < 0 or y < 0 or x >= maxcolumns or y >= maxrows:\n",
    "        return False\n",
    "    else:\n",
    "        return True\n",
    "\n",
    "def turn_right():\n",
    "    global direction\n",
    "    global x\n",
    "    global y\n",
    "    #print(\"Position:\",x,y,\"| Direction:\",direction,\"| Turning right\")\n",
    "    if direction == \"up\":\n",
    "        direction = \"right\"\n",
    "        y += 1\n",
    "    elif direction == \"down\":\n",
    "        direction = \"left\"\n",
    "        y -= 1\n",
    "    elif direction == \"left\":\n",
    "        direction = \"up\"\n",
    "        x += 1\n",
    "    elif direction == \"right\":\n",
    "        direction = \"down\"\n",
    "        x -= 1"
   ]
  },
  {
   "cell_type": "code",
   "execution_count": 11,
   "id": "12b0ad63-f5a5-4f27-97ee-762e1a955fd1",
   "metadata": {},
   "outputs": [],
   "source": [
    "def keep_going(dir):\n",
    "    global x\n",
    "    global y\n",
    "    \n",
    "    if dir == \"up\":\n",
    "        y -= 1\n",
    "    elif dir == \"down\":\n",
    "        y += 1\n",
    "    elif dir == \"left\":\n",
    "        x -= 1\n",
    "    elif dir == \"right\":\n",
    "        x += 1\n",
    "        \n",
    "    if valid_location(x, y):\n",
    "        if dictionary[(x, y)] == \"#\":\n",
    "            turn_right()\n",
    "            return True\n",
    "        else:\n",
    "            # dictionary[(x, y)] = \"X\"  # PART 1\n",
    "            return True\n",
    "            \n",
    "    else:\n",
    "        #print(\"left the map\")\n",
    "        return False"
   ]
  },
  {
   "cell_type": "code",
   "execution_count": 13,
   "id": "ac50f6e1-20b7-4248-b5b3-4b67f4c66412",
   "metadata": {},
   "outputs": [],
   "source": [
    "x, y = [coord for coord in dictionary if dictionary[coord] == \"^\"][0]\n",
    "# dictionary[(x, y)] = \"X\"   # PART 1\n",
    "still_on_map = True\n",
    "global direction\n",
    "direction = \"up\"\n",
    "\n",
    "while still_on_map:\n",
    "    #print(x, y)\n",
    "    still_on_map = keep_going(direction)"
   ]
  },
  {
   "cell_type": "code",
   "execution_count": 15,
   "id": "ed56d9ee-18a2-46e6-92f2-8f4e199a22af",
   "metadata": {},
   "outputs": [
    {
     "data": {
      "text/plain": [
       "16081"
      ]
     },
     "execution_count": 15,
     "metadata": {},
     "output_type": "execute_result"
    }
   ],
   "source": [
    "accumulator = 0\n",
    "for coord in dictionary:\n",
    "    if dictionary[coord] == \".\":\n",
    "        accumulator += 1\n",
    "\n",
    "accumulator"
   ]
  },
  {
   "cell_type": "code",
   "execution_count": null,
   "id": "355af1e5-e5a5-4654-b6f7-fda0847652c2",
   "metadata": {},
   "outputs": [],
   "source": [
    "for y in range(maxrows):\n",
    "    string = ''\n",
    "    for x in range(maxcolumns):\n",
    "        string = string + dictionary[(x,y)]\n",
    "    print(string)"
   ]
  },
  {
   "cell_type": "markdown",
   "id": "606e5bd8-870e-4b86-9f9d-0fe0a32d5336",
   "metadata": {},
   "source": [
    "## PART 2"
   ]
  },
  {
   "cell_type": "code",
   "execution_count": 17,
   "id": "9dce6710-e11a-41cd-b196-061045c417bd",
   "metadata": {},
   "outputs": [],
   "source": [
    "def run_simulation():\n",
    "    breakcount = 0\n",
    "    global x\n",
    "    global y\n",
    "    x, y = [coord for coord in dictionary if dictionary[coord] == \"^\"][0]\n",
    "    still_on_map = True\n",
    "    global direction\n",
    "    direction = \"up\"\n",
    "    \n",
    "    while still_on_map:\n",
    "        still_on_map = keep_going(direction)\n",
    "        breakcount += 1\n",
    "        if breakcount > 100000:\n",
    "            #print(\"BREAK\")\n",
    "            return True\n",
    "    return False"
   ]
  },
  {
   "cell_type": "code",
   "execution_count": 19,
   "id": "975de7ce-c62a-4578-9e3c-1f6013693938",
   "metadata": {},
   "outputs": [
    {
     "data": {
      "text/plain": [
       "1516"
      ]
     },
     "execution_count": 19,
     "metadata": {},
     "output_type": "execute_result"
    }
   ],
   "source": [
    "obbcount = 0\n",
    "attempts = 0\n",
    "for obbyy in range(maxrows):\n",
    "    for obbyx in range(maxcolumns):\n",
    "        # reload the map each time\n",
    "        dictionary = {}\n",
    "        for y, line in enumerate(map):\n",
    "            for x, char in enumerate(line.strip()):\n",
    "                dictionary[(x,y)] = char\n",
    "                \n",
    "        if dictionary[(obbyx, obbyy)] == \".\":  # this is a place for an obstacle\n",
    "            dictionary[(obbyx, obbyy)] = \"#\"\n",
    "            attempts += 1\n",
    "            #print(f'{100*attempts/accumulator:.2f}')\n",
    "            if run_simulation():\n",
    "                obbcount += 1\n",
    "obbcount"
   ]
  }
 ],
 "metadata": {
  "kernelspec": {
   "display_name": "Python 3 (ipykernel)",
   "language": "python",
   "name": "python3"
  },
  "language_info": {
   "codemirror_mode": {
    "name": "ipython",
    "version": 3
   },
   "file_extension": ".py",
   "mimetype": "text/x-python",
   "name": "python",
   "nbconvert_exporter": "python",
   "pygments_lexer": "ipython3",
   "version": "3.10.9"
  }
 },
 "nbformat": 4,
 "nbformat_minor": 5
}
