{
 "cells": [
  {
   "cell_type": "code",
   "execution_count": 1,
   "id": "c9b4fcd7-9355-4911-a6fb-813b670dd4a9",
   "metadata": {},
   "outputs": [],
   "source": [
    "with open(\"day_01_input_1.txt\") as fname:\n",
    "    lines = fname.readlines()"
   ]
  },
  {
   "cell_type": "code",
   "execution_count": 2,
   "id": "58fd5307-b0cc-4dd7-a7f0-f19534d83c16",
   "metadata": {},
   "outputs": [],
   "source": [
    "first_location = []\n",
    "second_location = []\n",
    "for line in lines:\n",
    "    first_location.append(int(line.strip().split()[0]))\n",
    "    second_location.append(int(line.strip().split()[1]))\n",
    "first_location.sort()\n",
    "second_location.sort()"
   ]
  },
  {
   "cell_type": "code",
   "execution_count": 53,
   "id": "55cd07a6-f12f-408f-9d78-8ae45d850530",
   "metadata": {},
   "outputs": [
    {
     "data": {
      "text/plain": [
       "2580760"
      ]
     },
     "execution_count": 53,
     "metadata": {},
     "output_type": "execute_result"
    }
   ],
   "source": [
    "accumulator = 0\n",
    "for i in range(len(first_location)):\n",
    "    accumulator += abs(first_location[i] - second_location[i])\n",
    "accumulator"
   ]
  },
  {
   "cell_type": "code",
   "execution_count": 99,
   "id": "dea98649-8ee8-4168-9d54-0663971a07be",
   "metadata": {},
   "outputs": [],
   "source": [
    "both_lists = first_location + second_location\n",
    "dict_of_counts = {}\n",
    "for number in range(min(both_lists), max(both_lists)+1):\n",
    "    dict_of_counts[number] = 0\n",
    "\n",
    "for number in second_location:\n",
    "    dict_of_counts[number] = dict_of_counts[number] + 1"
   ]
  },
  {
   "cell_type": "code",
   "execution_count": 97,
   "id": "c019553f-9f40-443c-9495-2dfdcee4c820",
   "metadata": {},
   "outputs": [
    {
     "name": "stdout",
     "output_type": "stream",
     "text": [
      "3\n",
      "6\n",
      "8\n",
      "9\n",
      "8\n",
      "5\n",
      "20\n",
      "3\n",
      "2\n",
      "4\n",
      "18\n",
      "20\n",
      "15\n",
      "9\n",
      "6\n",
      "5\n",
      "3\n",
      "14\n",
      "17\n",
      "16\n",
      "17\n",
      "7\n",
      "6\n",
      "16\n",
      "14\n",
      "15\n",
      "12\n",
      "5\n",
      "16\n",
      "11\n",
      "19\n",
      "19\n",
      "10\n",
      "15\n",
      "14\n",
      "13\n",
      "13\n"
     ]
    }
   ],
   "source": [
    "for value in dict_of_counts.values():\n",
    "    if value > 1:\n",
    "        print(value)"
   ]
  },
  {
   "cell_type": "code",
   "execution_count": 101,
   "id": "eeb56afc-d6d6-4720-9597-b58eb7b2b843",
   "metadata": {},
   "outputs": [
    {
     "data": {
      "text/plain": [
       "25358365"
      ]
     },
     "execution_count": 101,
     "metadata": {},
     "output_type": "execute_result"
    }
   ],
   "source": [
    "similarity = 0\n",
    "for number in first_location:\n",
    "    similarity += number * dict_of_counts[number]\n",
    "similarity"
   ]
  }
 ],
 "metadata": {
  "kernelspec": {
   "display_name": "Python 3 (ipykernel)",
   "language": "python",
   "name": "python3"
  },
  "language_info": {
   "codemirror_mode": {
    "name": "ipython",
    "version": 3
   },
   "file_extension": ".py",
   "mimetype": "text/x-python",
   "name": "python",
   "nbconvert_exporter": "python",
   "pygments_lexer": "ipython3",
   "version": "3.10.9"
  }
 },
 "nbformat": 4,
 "nbformat_minor": 5
}
